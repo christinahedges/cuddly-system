{
 "cells": [
  {
   "cell_type": "code",
   "execution_count": null,
   "metadata": {},
   "outputs": [],
   "source": [
    "import sys\n",
    "import os\n",
    "_path = os.path.abspath('../scripts/')\n",
    "if _path not in sys.path:\n",
    "    sys.path.append(_path)\n",
    "\n",
    "import astropy.coordinates as coord\n",
    "coord.galactocentric_frame_defaults.set('v4.0')\n",
    "import astropy.table as at\n",
    "import astropy.units as u\n",
    "import matplotlib as mpl\n",
    "import matplotlib.pyplot as plt\n",
    "%matplotlib inline\n",
    "import numpy as np\n",
    "\n",
    "from scipy.special import logsumexp\n",
    "\n",
    "from pyia import GaiaData\n",
    "import theano\n",
    "# theano.config.gcc.cxxflags = \"-fbracket-depth=16000\" # default is 256 - only need this on Mac??\n",
    "import pymc3 as pm\n",
    "import theano.tensor as tt\n",
    "import exoplanet as xo\n",
    "\n",
    "from model import GroupHepler"
   ]
  },
  {
   "cell_type": "code",
   "execution_count": null,
   "metadata": {},
   "outputs": [],
   "source": [
    "run_name = '400pc-cube-result'\n",
    "t = at.Table.read(f'../cache/probs-{run_name}.fits')\n",
    "d = at.Table.read(f'../data/{run_name}.fits.gz')\n",
    "joined = at.join(d, t, keys='source_id', join_type='left')\n",
    "\n",
    "allg = GaiaData(joined)\n",
    "g = allg[(allg.prob > 0.5) & (allg.get_ruwe() < 1.4)]"
   ]
  },
  {
   "cell_type": "code",
   "execution_count": null,
   "metadata": {},
   "outputs": [],
   "source": [
    "clean_gal = g.get_skycoord().galactic\n",
    "clustered = ((clean_gal.cartesian.x < 50*u.pc) &\n",
    "             (clean_gal.cartesian.x > -5*u.pc) &\n",
    "             (clean_gal.cartesian.y > 0*u.pc) &\n",
    "             (clean_gal.cartesian.y < 50*u.pc) &\n",
    "             (clean_gal.cartesian.z > 30*u.pc) &\n",
    "             (clean_gal.cartesian.z < 50*u.pc))\n",
    "clean_mg = (g.phot_g_mean_mag - g.distmod)\n",
    "da_best = g[clustered & (clean_mg < 8*u.mag)]\n",
    "\n",
    "len(da_best)"
   ]
  },
  {
   "cell_type": "code",
   "execution_count": null,
   "metadata": {},
   "outputs": [],
   "source": [
    "da_best.data.write('../data/the-best-16.csv', overwrite=True)"
   ]
  },
  {
   "cell_type": "markdown",
   "metadata": {},
   "source": [
    "### Take a 200 pc cube centered on this clump:"
   ]
  },
  {
   "cell_type": "code",
   "execution_count": null,
   "metadata": {},
   "outputs": [],
   "source": [
    "best_xyz = da_best.get_skycoord().galactic.cartesian.without_differentials()\n",
    "best_xyz = best_xyz.mean()"
   ]
  },
  {
   "cell_type": "code",
   "execution_count": null,
   "metadata": {},
   "outputs": [],
   "source": [
    "all_xyz = allg.get_skycoord().galactic.cartesian.without_differentials()\n",
    "og_200pc_cube_mask = np.all(np.abs((all_xyz - best_xyz).xyz) < 100*u.pc, \n",
    "                            axis=0)\n",
    "og_200pc_cube_mask.sum()"
   ]
  },
  {
   "cell_type": "code",
   "execution_count": null,
   "metadata": {},
   "outputs": [],
   "source": [
    "allg.data[og_200pc_cube_mask].write('../data/clump-200pc-cube.fits', overwrite=True)"
   ]
  },
  {
   "cell_type": "markdown",
   "metadata": {},
   "source": [
    "### Run the Group model on the best members:"
   ]
  },
  {
   "cell_type": "code",
   "execution_count": null,
   "metadata": {},
   "outputs": [],
   "source": [
    "helper = GroupHelper(da_best)"
   ]
  },
  {
   "cell_type": "code",
   "execution_count": null,
   "metadata": {},
   "outputs": [],
   "source": [
    "model = helper.get_model()"
   ]
  },
  {
   "cell_type": "code",
   "execution_count": null,
   "metadata": {},
   "outputs": [],
   "source": [
    "with model:\n",
    "    res = xo.optimize(start={'vxyz': helper.test_vxyz,\n",
    "                             'r': helper.test_r})"
   ]
  },
  {
   "cell_type": "code",
   "execution_count": null,
   "metadata": {},
   "outputs": [],
   "source": [
    "res['sigv']"
   ]
  },
  {
   "cell_type": "code",
   "execution_count": null,
   "metadata": {},
   "outputs": [],
   "source": [
    "res['meanv']"
   ]
  },
  {
   "cell_type": "code",
   "execution_count": null,
   "metadata": {},
   "outputs": [],
   "source": [
    "with model:\n",
    "    trace = pm.sample(start=res,\n",
    "                      tune=2000,\n",
    "                      draws=1000,\n",
    "                      cores=1, chains=2)"
   ]
  },
  {
   "cell_type": "code",
   "execution_count": null,
   "metadata": {},
   "outputs": [],
   "source": [
    "names = ['x', 'y', 'z']"
   ]
  },
  {
   "cell_type": "code",
   "execution_count": null,
   "metadata": {},
   "outputs": [],
   "source": [
    "v0 = [-6.932, 24.301, -9.509]\n",
    "\n",
    "fig, axes = plt.subplots(1, 3, figsize=(15, 5))\n",
    "for i, ax in enumerate(axes):\n",
    "    ax.hist(trace['meanv'][:, i])\n",
    "    ax.set_xlabel(f'$v_{names[i]}$ [km/s]')\n",
    "    ax.axvline(v0[i], color='tab:red')"
   ]
  },
  {
   "cell_type": "code",
   "execution_count": null,
   "metadata": {},
   "outputs": [],
   "source": [
    "fig, axes = plt.subplots(1, 3, figsize=(15, 5))\n",
    "for i, ax in enumerate(axes):\n",
    "    ax.hist(trace['sigv'][:, i])\n",
    "    ax.set_xlabel(f'$\\sigma_{{v_{names[i]}}}$ [km/s]')\n",
    "    ax.axvline(0.6, color='tab:red')"
   ]
  },
  {
   "cell_type": "code",
   "execution_count": null,
   "metadata": {},
   "outputs": [],
   "source": [
    "np.median(trace['meanv'], axis=0)"
   ]
  },
  {
   "cell_type": "code",
   "execution_count": null,
   "metadata": {},
   "outputs": [],
   "source": [
    "np.median(trace['sigv'], axis=0)"
   ]
  },
  {
   "cell_type": "code",
   "execution_count": null,
   "metadata": {},
   "outputs": [],
   "source": []
  }
 ],
 "metadata": {
  "kernelspec": {
   "display_name": "apw python3.7.3",
   "language": "python",
   "name": "py3"
  },
  "language_info": {
   "codemirror_mode": {
    "name": "ipython",
    "version": 3
   },
   "file_extension": ".py",
   "mimetype": "text/x-python",
   "name": "python",
   "nbconvert_exporter": "python",
   "pygments_lexer": "ipython3",
   "version": "3.7.3"
  },
  "toc": {
   "base_numbering": 1,
   "nav_menu": {},
   "number_sections": true,
   "sideBar": true,
   "skip_h1_title": false,
   "title_cell": "Table of Contents",
   "title_sidebar": "Contents",
   "toc_cell": false,
   "toc_position": {},
   "toc_section_display": true,
   "toc_window_display": false
  }
 },
 "nbformat": 4,
 "nbformat_minor": 4
}
