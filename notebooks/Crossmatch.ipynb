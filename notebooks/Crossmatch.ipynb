{
 "cells": [
  {
   "cell_type": "code",
   "execution_count": null,
   "metadata": {},
   "outputs": [],
   "source": [
    "import os\n",
    "\n",
    "import astropy.coordinates as coord\n",
    "import astropy.table as at\n",
    "import astropy.units as u\n",
    "import matplotlib as mpl\n",
    "import matplotlib.pyplot as plt\n",
    "%matplotlib inline\n",
    "import numpy as np\n",
    "\n",
    "# gala\n",
    "import gala.coordinates as gc\n",
    "import gala.dynamics as gd\n",
    "import gala.integrate as gi\n",
    "import gala.potential as gp\n",
    "from gala.units import galactic\n",
    "\n",
    "from pyia import GaiaData"
   ]
  },
  {
   "cell_type": "code",
   "execution_count": null,
   "metadata": {},
   "outputs": [],
   "source": [
    "run_name = '150pc_MG12-result'\n",
    "t = at.Table.read(f'../cache/probs-{run_name}.fits')\n",
    "d = at.Table.read(f'../data/{run_name}.fits.gz')\n",
    "joined = at.join(d, t, keys='source_id', join_type='left')\n",
    "\n",
    "g = GaiaData(joined[joined['prob'] > 0.5])\n",
    "ruwe = g.get_ruwe()"
   ]
  },
  {
   "cell_type": "code",
   "execution_count": null,
   "metadata": {},
   "outputs": [],
   "source": [
    "c = g.get_skycoord()"
   ]
  },
  {
   "cell_type": "code",
   "execution_count": null,
   "metadata": {},
   "outputs": [],
   "source": [
    "clean_g = g[(g.prob > 0.8) & (ruwe < 1.4) & (g.bp_rp < 1.6*u.mag)]"
   ]
  },
  {
   "cell_type": "markdown",
   "metadata": {},
   "source": [
    "# APOGEE"
   ]
  },
  {
   "cell_type": "code",
   "execution_count": null,
   "metadata": {},
   "outputs": [],
   "source": [
    "allstar = at.Table.read(os.path.expanduser('~/data/APOGEE_beta/allStar-r13-l33-58932beta.fits'))"
   ]
  },
  {
   "cell_type": "code",
   "execution_count": null,
   "metadata": {},
   "outputs": [],
   "source": [
    "np.isin(clean_g.source_id, allstar['GAIA_SOURCE_ID']).sum()"
   ]
  },
  {
   "cell_type": "code",
   "execution_count": null,
   "metadata": {},
   "outputs": [],
   "source": [
    "apogee_stars = allstar[np.isin(allstar['GAIA_SOURCE_ID'], clean_g.source_id)]\n",
    "apogee_stars = apogee_stars[np.unique(apogee_stars['APOGEE_ID'], return_index=True)[1]]"
   ]
  },
  {
   "cell_type": "code",
   "execution_count": null,
   "metadata": {},
   "outputs": [],
   "source": [
    "xx = np.percentile(clean_g.phot_g_mean_mag.value, [5, 95])\n",
    "tmp = ((allstar['GAIA_PARALLAX'] > coord.Distance(150*u.pc).parallax.value) &\n",
    "       (allstar['GAIA_PHOT_G_MEAN_MAG'] > xx[0]) & \n",
    "       (allstar['GAIA_PHOT_G_MEAN_MAG'] < xx[1]) & \n",
    "       (allstar['LOGG'] > 3.5) & \n",
    "       (allstar['TEFF'] > 3500) & (allstar['TEFF'] < 6000))\n",
    "allvsini = allstar['VSINI'][tmp]"
   ]
  },
  {
   "cell_type": "code",
   "execution_count": null,
   "metadata": {},
   "outputs": [],
   "source": [
    "fig, axes = plt.subplots(1, 2, figsize=(12, 6),\n",
    "                         sharex=True, sharey=True)\n",
    "axes[0].hist(allvsini, bins=np.logspace(0, 2, 64), density=True, color='tab:blue');\n",
    "axes[1].hist(apogee_stars['VSINI'], bins=np.logspace(0, 2, 32), density=True, color='tab:blue');\n",
    "axes[0].set_xscale('log')\n",
    "\n",
    "for ax in axes:\n",
    "    ax.set_xlabel('vsini')\n",
    "    ax.axvline(6.)\n",
    "    \n",
    "axes[0].set_title('all < 150 pc')\n",
    "axes[1].set_title('HPW 1')"
   ]
  },
  {
   "cell_type": "code",
   "execution_count": null,
   "metadata": {},
   "outputs": [],
   "source": [
    "(1*u.Rsun / (6*u.km/u.s)).to(u.day)"
   ]
  },
  {
   "cell_type": "code",
   "execution_count": null,
   "metadata": {},
   "outputs": [],
   "source": [
    "plt.figure(figsize=(8, 6))\n",
    "plt.scatter(apogee_stars['TEFF'], apogee_stars['LOGG'], \n",
    "            c=apogee_stars['VSINI'], \n",
    "            norm=mpl.colors.LogNorm(1, 25),\n",
    "            linewidth=1, edgecolor='#aaaaaa')\n",
    "plt.xlim(7500, 3000)\n",
    "plt.ylim(5.5, 0)\n",
    "plt.xlabel('TEFF')\n",
    "plt.ylabel('LOGG')\n",
    "plt.colorbar()"
   ]
  },
  {
   "cell_type": "code",
   "execution_count": null,
   "metadata": {},
   "outputs": [],
   "source": [
    "orion_mask = np.array(['ORION' in x for x in allstar['FIELD']])\n",
    "orion_mask &= (allstar['VHELIO_AVG'] > 20) & (allstar['VHELIO_AVG'] < 32)\n",
    "orion_mask &= (allstar['LOGG'] > 3.5) & (allstar['TEFF'] > 3500) & (allstar['TEFF'] < 6500)\n",
    "orion_mask.sum()"
   ]
  },
  {
   "cell_type": "code",
   "execution_count": null,
   "metadata": {},
   "outputs": [],
   "source": [
    "plt.scatter(allstar['TEFF'][orion_mask],\n",
    "            allstar['LOGG'][orion_mask])\n",
    "plt.xlim(6500, 3500)\n",
    "plt.ylim(5.5, 0)"
   ]
  },
  {
   "cell_type": "code",
   "execution_count": null,
   "metadata": {},
   "outputs": [],
   "source": [
    "plt.errorbar(allstar['FE_H'][tmp],#[::300],\n",
    "             allstar['MG_FE'][tmp],#[::300], \n",
    "             lw=0, alpha=0.5, ls='none')\n",
    "plt.xlim(-2.5, 0.5)\n",
    "plt.ylim(-0.5, 0.5)\n",
    "plt.xlabel('Fe/H')\n",
    "plt.ylabel('Mg/Fe')"
   ]
  },
  {
   "cell_type": "code",
   "execution_count": null,
   "metadata": {},
   "outputs": [],
   "source": [
    "plt.errorbar(apogee_stars['FE_H'],\n",
    "             apogee_stars['MG_FE'], \n",
    "             xerr=apogee_stars['FE_H_ERR'],\n",
    "             yerr=apogee_stars['MG_FE_ERR'],\n",
    "             lw=0, alpha=0.5, ls='none')\n",
    "plt.xlim(-2.5, 0.5)\n",
    "plt.ylim(-0.5, 0.5)\n",
    "plt.xlabel('Fe/H')\n",
    "plt.ylabel('Mg/Fe')"
   ]
  },
  {
   "cell_type": "code",
   "execution_count": null,
   "metadata": {},
   "outputs": [],
   "source": [
    "plt.hist(allstar['FE_H'][orion_mask], bins=np.linspace(-1, 0.5, 64));"
   ]
  },
  {
   "cell_type": "code",
   "execution_count": null,
   "metadata": {},
   "outputs": [],
   "source": [
    "std = 1.5 * np.median(np.abs(allstar['FE_H'][orion_mask] - np.median(allstar['FE_H'][orion_mask])))\n",
    "std"
   ]
  },
  {
   "cell_type": "code",
   "execution_count": null,
   "metadata": {},
   "outputs": [],
   "source": [
    "std = 1.5 * np.median(np.abs(apogee_stars['FE_H'] - np.median(apogee_stars['FE_H'])))\n",
    "std"
   ]
  },
  {
   "cell_type": "code",
   "execution_count": null,
   "metadata": {},
   "outputs": [],
   "source": [
    "plt.errorbar(allstar['FE_H'][orion_mask],\n",
    "             allstar['MG_FE'][orion_mask],\n",
    "#              xerr=apogee_stars['FE_H_ERR'],\n",
    "#              yerr=apogee_stars['MG_FE_ERR'],\n",
    "             lw=0, alpha=0.5, ls='none')\n",
    "plt.xlim(-2.5, 0.5)\n",
    "plt.ylim(-0.5, 0.5)\n",
    "plt.xlabel('Fe/H')\n",
    "plt.ylabel('Mg/Fe')"
   ]
  },
  {
   "cell_type": "code",
   "execution_count": null,
   "metadata": {},
   "outputs": [],
   "source": [
    "plt.errorbar(apogee_stars['FE_H'],\n",
    "             apogee_stars['CA_FE'], \n",
    "             xerr=apogee_stars['FE_H_ERR'],\n",
    "             yerr=apogee_stars['CA_FE_ERR'],\n",
    "             lw=0, alpha=0.5, ls='none')\n",
    "plt.xlim(-2.5, 0.5)\n",
    "plt.ylim(-0.5, 0.5)"
   ]
  },
  {
   "cell_type": "code",
   "execution_count": null,
   "metadata": {},
   "outputs": [],
   "source": []
  }
 ],
 "metadata": {
  "kernelspec": {
   "display_name": "apw python3.7.3",
   "language": "python",
   "name": "py3"
  },
  "language_info": {
   "codemirror_mode": {
    "name": "ipython",
    "version": 3
   },
   "file_extension": ".py",
   "mimetype": "text/x-python",
   "name": "python",
   "nbconvert_exporter": "python",
   "pygments_lexer": "ipython3",
   "version": "3.7.3"
  },
  "toc": {
   "base_numbering": 1,
   "nav_menu": {},
   "number_sections": true,
   "sideBar": true,
   "skip_h1_title": false,
   "title_cell": "Table of Contents",
   "title_sidebar": "Contents",
   "toc_cell": false,
   "toc_position": {},
   "toc_section_display": true,
   "toc_window_display": false
  }
 },
 "nbformat": 4,
 "nbformat_minor": 4
}
