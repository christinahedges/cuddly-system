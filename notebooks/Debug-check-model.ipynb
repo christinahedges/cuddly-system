{
 "cells": [
  {
   "cell_type": "code",
   "execution_count": null,
   "metadata": {},
   "outputs": [],
   "source": [
    "import os\n",
    "import sys\n",
    "_path = os.path.abspath('../scripts/')\n",
    "if _path not in sys.path:\n",
    "    sys.path.append(_path)\n",
    "\n",
    "import numpy as np\n",
    "import matplotlib as mpl\n",
    "import matplotlib.pyplot as plt\n",
    "%matplotlib inline\n",
    "import astropy.coordinates as coord\n",
    "import astropy.table as at\n",
    "import astropy.units as u\n",
    "from pyia import GaiaData\n",
    "from scipy.interpolate import interp1d\n",
    "\n",
    "import exoplanet as xo\n",
    "import pymc3 as pm\n",
    "\n",
    "coord.galactocentric_frame_defaults.set('v4.0');\n",
    "\n",
    "from model import ComovingHelper"
   ]
  },
  {
   "cell_type": "code",
   "execution_count": null,
   "metadata": {},
   "outputs": [],
   "source": [
    "# t = at.Table.read('../cache/probs-150pc_MG12-result.fits')\n",
    "# d = at.Table.read('../data/150pc_MG12-result.fits.gz')\n",
    "# joined = at.join(t, d, keys='source_id')\n",
    "\n",
    "# g = GaiaData(joined)"
   ]
  },
  {
   "cell_type": "code",
   "execution_count": null,
   "metadata": {},
   "outputs": [],
   "source": [
    "ht = at.Table.read('../cache/probs-hip_like_gaia.fits')\n",
    "lg = at.Table.read('../data/hip_like_gaia.fits')\n",
    "ht = at.join(ht, lg, keys='source_id')\n",
    "ht.rename_column('source_id', 'HIP')\n",
    "\n",
    "h = at.Table.read('/mnt/home/apricewhelan/data/Hipparcos/hip2.fits')\n",
    "joined = at.join(ht, h, keys='HIP')\n",
    "\n",
    "hg = GaiaData(joined)"
   ]
  },
  {
   "cell_type": "code",
   "execution_count": null,
   "metadata": {},
   "outputs": [],
   "source": [
    "thresh = 0.99\n",
    "mask = (ht['prob'] > thresh) & (hg.distance < 150*u.pc)\n",
    "\n",
    "fig, ax = plt.subplots()\n",
    "ax.plot(hg.data['B-V'][mask], \n",
    "        (hg.Hpmag - hg.distmod)[mask],\n",
    "        marker='o', ls='none')\n",
    "ax.set_xlim(-0.5, 1)\n",
    "ax.set_ylim(8, -4)\n",
    "\n",
    "fig, ax = plt.subplots()\n",
    "ax.plot(hg.data['B-V'][mask], \n",
    "        hg.Hpmag[mask],\n",
    "        marker='o', ls='none')\n",
    "ax.set_xlim(-0.5, 1)\n",
    "ax.set_ylim(8, -4)"
   ]
  },
  {
   "cell_type": "code",
   "execution_count": null,
   "metadata": {},
   "outputs": [],
   "source": [
    "derp = hg[(ht['prob'] > 0.99) & np.isfinite(ht['radial_velocity'])]\n",
    "c = derp.get_skycoord()\n",
    "v0 = coord.CartesianDifferential([-6.932, 24.301, -9.509] * u.km/u.s)\n",
    "dv = c.velocity - v0\n",
    "\n",
    "derp = derp[dv.norm() > 15*u.km/u.s]"
   ]
  },
  {
   "cell_type": "code",
   "execution_count": null,
   "metadata": {},
   "outputs": [],
   "source": [
    "plt.hist(dv.norm().value)"
   ]
  },
  {
   "cell_type": "code",
   "execution_count": null,
   "metadata": {},
   "outputs": [],
   "source": [
    "helper = ComovingHelper(derp)"
   ]
  },
  {
   "cell_type": "code",
   "execution_count": null,
   "metadata": {},
   "outputs": [],
   "source": [
    "# All in km/s\n",
    "model_kw = dict()\n",
    "model_kw['v0'] = v0 = np.array([-6.932, 24.301, -9.509])\n",
    "model_kw['sigma_v0'] = 0.6 \n",
    "model_kw['vfield'] = np.array([[-1.49966296, 14.54365055, -9.39127686],\n",
    "                               [-8.78150468, 22.08294278, -22.9100212],\n",
    "                               [-112.0987016, 120.8536385, -179.84992332]])\n",
    "model_kw['sigma_vfield'] = np.array([15.245, 37.146, 109.5])\n",
    "model_kw['wfield'] = np.array([0.53161301, 0.46602227, 0.00236472])"
   ]
  },
  {
   "cell_type": "code",
   "execution_count": null,
   "metadata": {},
   "outputs": [],
   "source": [
    "model = helper.get_model(**model_kw)"
   ]
  },
  {
   "cell_type": "code",
   "execution_count": null,
   "metadata": {},
   "outputs": [],
   "source": [
    "n = 0\n",
    "with model:\n",
    "    pm.set_data({'y': helper.ys[n],\n",
    "                 'Cinv': helper.Cinvs[n],\n",
    "                 'M': helper.Ms[n]})\n",
    "\n",
    "    test_pt = {'vxyz': helper.test_vxyz[n],\n",
    "               'r': helper.test_r[n],\n",
    "               'w': np.array([0.5, 0.5])}\n",
    "    \n",
    "    print(\"starting optimize\")\n",
    "    res = xo.optimize(start=test_pt, progress_bar=False,\n",
    "                      verbose=False)\n",
    "\n",
    "    print(\"done optimize - starting sample\")\n",
    "    trace = pm.sample(\n",
    "        start=res,\n",
    "        tune=2000,\n",
    "        draws=1000,\n",
    "        cores=1,\n",
    "        chains=1,\n",
    "        step=xo.get_dense_nuts_step(target_accept=0.95),\n",
    "        progressbar=True\n",
    "    )"
   ]
  },
  {
   "cell_type": "code",
   "execution_count": null,
   "metadata": {},
   "outputs": [],
   "source": [
    "ll_fg = trace.get_values(model.group_logp)\n",
    "ll_bg = trace.get_values(model.field_logp)\n",
    "post_prob = np.exp(ll_fg - np.logaddexp(ll_fg, ll_bg))\n",
    "post_prob.sum() / len(post_prob)"
   ]
  },
  {
   "cell_type": "code",
   "execution_count": null,
   "metadata": {},
   "outputs": [],
   "source": [
    "helper.ys[n]"
   ]
  },
  {
   "cell_type": "code",
   "execution_count": null,
   "metadata": {},
   "outputs": [],
   "source": [
    "np.sqrt(helper.Cs[n])"
   ]
  },
  {
   "cell_type": "code",
   "execution_count": null,
   "metadata": {},
   "outputs": [],
   "source": [
    "derp.radial_velocity_error[n]"
   ]
  },
  {
   "cell_type": "code",
   "execution_count": null,
   "metadata": {},
   "outputs": [],
   "source": [
    "derp.parallax_error[n]"
   ]
  },
  {
   "cell_type": "code",
   "execution_count": null,
   "metadata": {},
   "outputs": [],
   "source": [
    "with model:\n",
    "    val = xo.eval_in_model(model.vars[-1], point=trace[4])\n",
    "    print(val)"
   ]
  },
  {
   "cell_type": "markdown",
   "metadata": {},
   "source": [
    "## Compare to old sample:"
   ]
  },
  {
   "cell_type": "code",
   "execution_count": null,
   "metadata": {},
   "outputs": [],
   "source": [
    "oldies = GaiaData(at.Table.read('../data/TheOGGroup.csv', format='ascii.ecsv'))\n",
    "oldies_prob = g[np.isin(g.source_id, oldies.source_id)]"
   ]
  },
  {
   "cell_type": "code",
   "execution_count": null,
   "metadata": {},
   "outputs": [],
   "source": [
    "mg = oldies_prob.phot_g_mean_mag - oldies_prob.distmod\n",
    "bprp = oldies_prob.phot_bp_mean_mag - oldies_prob.phot_rp_mean_mag\n",
    "\n",
    "# ---\n",
    "\n",
    "fig, ax = plt.subplots(1, 1, figsize=(8, 6))\n",
    "\n",
    "cs = ax.scatter(bprp, mg, c=oldies_prob.prob, \n",
    "                marker='o', vmin=0, vmax=1, \n",
    "                cmap='cividis')\n",
    "\n",
    "cb = fig.colorbar(cs)\n",
    "\n",
    "ax.set_xlim(0.4, 3.)\n",
    "ax.set_ylim(12., 0)\n",
    "\n",
    "ax.set_xlabel('BP-RP')\n",
    "ax.set_ylabel('$M_G$')\n",
    "\n",
    "fig.set_facecolor('w')"
   ]
  }
 ],
 "metadata": {
  "kernelspec": {
   "display_name": "apw python3.7.3",
   "language": "python",
   "name": "py3"
  },
  "language_info": {
   "codemirror_mode": {
    "name": "ipython",
    "version": 3
   },
   "file_extension": ".py",
   "mimetype": "text/x-python",
   "name": "python",
   "nbconvert_exporter": "python",
   "pygments_lexer": "ipython3",
   "version": "3.7.3"
  }
 },
 "nbformat": 4,
 "nbformat_minor": 4
}
