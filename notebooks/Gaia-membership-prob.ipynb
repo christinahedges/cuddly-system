{
 "cells": [
  {
   "cell_type": "code",
   "execution_count": 1,
   "metadata": {
    "ExecuteTime": {
     "end_time": "2020-07-14T19:55:12.395402Z",
     "start_time": "2020-07-14T19:55:07.522176Z"
    }
   },
   "outputs": [],
   "source": [
    "import astropy.coordinates as coord\n",
    "import astropy.table as at\n",
    "import astropy.units as u\n",
    "import matplotlib as mpl\n",
    "import matplotlib.pyplot as plt\n",
    "%matplotlib inline\n",
    "import numpy as np\n",
    "\n",
    "# gala\n",
    "import gala.coordinates as gc\n",
    "import gala.dynamics as gd\n",
    "import gala.integrate as gi\n",
    "import gala.potential as gp\n",
    "from gala.units import galactic\n",
    "\n",
    "from pyia import GaiaData\n",
    "import theano\n",
    "theano.config.gcc.cxxflags = \"-fbracket-depth=16000\" # default is 256\n",
    "import pymc3 as pm\n",
    "import theano.tensor as tt\n",
    "import exoplanet as xo"
   ]
  },
  {
   "cell_type": "code",
   "execution_count": 2,
   "metadata": {
    "ExecuteTime": {
     "end_time": "2020-07-14T19:55:12.402469Z",
     "start_time": "2020-07-14T19:55:12.397037Z"
    }
   },
   "outputs": [],
   "source": [
    "pc_mas_yr_per_km_s = (1 * u.km/u.s).to(u.pc*u.mas/u.yr, u.dimensionless_angles()).value\n",
    "km_s_per_pc_mas_yr = 1 / pc_mas_yr_per_km_s"
   ]
  },
  {
   "cell_type": "code",
   "execution_count": 3,
   "metadata": {
    "ExecuteTime": {
     "end_time": "2020-07-14T19:55:14.826651Z",
     "start_time": "2020-07-14T19:55:13.943196Z"
    }
   },
   "outputs": [],
   "source": [
    "g = GaiaData('/Users/apricewhelan/data/GaiaDR2/rv-good-plx.fits')"
   ]
  },
  {
   "cell_type": "code",
   "execution_count": 4,
   "metadata": {
    "ExecuteTime": {
     "end_time": "2020-07-14T19:55:15.071170Z",
     "start_time": "2020-07-14T19:55:14.828377Z"
    }
   },
   "outputs": [
    {
     "data": {
      "text/plain": [
       "array([-6.93189151, 24.30123728, -9.50923957])"
      ]
     },
     "execution_count": 4,
     "metadata": {},
     "output_type": "execute_result"
    }
   ],
   "source": [
    "the_og = g[g.source_id == 1490845584382687232]\n",
    "v0 = the_og.get_skycoord().velocity.d_xyz.value.T[0]\n",
    "sigma_0 = 0.6  # km/s\n",
    "v0"
   ]
  },
  {
   "cell_type": "code",
   "execution_count": 5,
   "metadata": {
    "ExecuteTime": {
     "end_time": "2020-07-14T19:55:15.546901Z",
     "start_time": "2020-07-14T19:55:15.542473Z"
    }
   },
   "outputs": [
    {
     "data": {
      "text/latex": [
       "$61.36273 \\; \\mathrm{pc}$"
      ],
      "text/plain": [
       "<Quantity 61.3627299 pc>"
      ]
     },
     "execution_count": 5,
     "metadata": {},
     "output_type": "execute_result"
    }
   ],
   "source": [
    "(100*u.Myr * 0.6*u.km/u.s).to(u.pc)"
   ]
  },
  {
   "cell_type": "code",
   "execution_count": 48,
   "metadata": {
    "ExecuteTime": {
     "end_time": "2020-07-14T20:21:12.442479Z",
     "start_time": "2020-07-14T20:21:11.836515Z"
    }
   },
   "outputs": [
    {
     "data": {
      "text/plain": [
       "(5374, 998596, 1430)"
      ]
     },
     "execution_count": 48,
     "metadata": {},
     "output_type": "execute_result"
    }
   ],
   "source": [
    "c = g.get_skycoord()\n",
    "the_og_c = the_og.get_skycoord()[0]\n",
    "\n",
    "sep3d_mask = c.separation_3d(the_og_c) < 40*u.pc\n",
    "vel3d_mask = (c.velocity - the_og_c.velocity).norm() < 25*u.km/u.s\n",
    "xv_mask = vel3d_mask & sep3d_mask\n",
    "\n",
    "subg = g[xv_mask]\n",
    "\n",
    "sep3d_mask.sum(), vel3d_mask.sum(), xv_mask.sum()"
   ]
  },
  {
   "cell_type": "code",
   "execution_count": 7,
   "metadata": {
    "ExecuteTime": {
     "end_time": "2020-07-14T19:55:19.872165Z",
     "start_time": "2020-07-14T19:55:19.867830Z"
    }
   },
   "outputs": [],
   "source": [
    "def get_tangent_basis(ra, dec):\n",
    "    \"\"\"\n",
    "    row vectors are the tangent-space basis at (alpha, delta, r)\n",
    "    ra, dec in radians\n",
    "    \"\"\"\n",
    "    M = np.array([\n",
    "        [-np.sin(ra), np.cos(ra), 0.],\n",
    "        [-np.sin(dec)*np.cos(ra), -np.sin(dec)*np.sin(ra), np.cos(dec)],\n",
    "        [np.cos(dec)*np.cos(ra), np.cos(dec)*np.sin(ra), np.sin(dec)]\n",
    "    ])\n",
    "    return M"
   ]
  },
  {
   "cell_type": "code",
   "execution_count": 8,
   "metadata": {
    "ExecuteTime": {
     "end_time": "2020-07-14T19:55:19.879132Z",
     "start_time": "2020-07-14T19:55:19.874718Z"
    }
   },
   "outputs": [],
   "source": [
    "Cs = subg.get_cov(units=dict(pmra=u.mas/u.yr, pmdec=u.mas/u.yr, radial_velocity=u.km/u.s))\n",
    "C = Cs[:, 2:, 2:]"
   ]
  },
  {
   "cell_type": "code",
   "execution_count": 9,
   "metadata": {
    "ExecuteTime": {
     "end_time": "2020-07-14T19:55:19.907456Z",
     "start_time": "2020-07-14T19:55:19.882481Z"
    }
   },
   "outputs": [
    {
     "data": {
      "text/plain": [
       "((344, 4, 4), (344, 3, 3), (344, 4))"
      ]
     },
     "execution_count": 9,
     "metadata": {},
     "output_type": "execute_result"
    }
   ],
   "source": [
    "N = len(subg)\n",
    "\n",
    "ra = subg.ra.to_value(u.rad)\n",
    "dec = subg.dec.to_value(u.rad)\n",
    "M = np.stack([get_tangent_basis(ra[i], dec[i]) for i in range(N)])\n",
    "y = np.stack([subg.parallax.value, \n",
    "              subg.pmra.value, \n",
    "              subg.pmdec.value, \n",
    "              subg.radial_velocity.value], \n",
    "             axis=1)\n",
    "C.shape, M.shape, y.shape"
   ]
  },
  {
   "cell_type": "code",
   "execution_count": 10,
   "metadata": {
    "ExecuteTime": {
     "end_time": "2020-07-14T19:55:20.881052Z",
     "start_time": "2020-07-14T19:55:19.909062Z"
    }
   },
   "outputs": [
    {
     "name": "stdout",
     "output_type": "stream",
     "text": [
      "17.01588725821087 -1.944019876872665\n",
      "34.919332723115375 17.93291631906719\n",
      "19.414660154522675 -10.616232734773691\n"
     ]
    },
    {
     "data": {
      "text/plain": [
       "<matplotlib.legend.Legend at 0x7f8c75e5f610>"
      ]
     },
     "execution_count": 10,
     "metadata": {},
     "output_type": "execute_result"
    },
    {
     "data": {
      "image/png": "[encoded data removed]",
      "text/plain": [
       "<Figure size 432x288 with 1 Axes>"
      ]
     },
     "metadata": {
      "image/png": {
       "height": 252,
       "width": 384
      },
      "needs_background": "light"
     },
     "output_type": "display_data"
    }
   ],
   "source": [
    "for i in range(3):\n",
    "    _x = g[sep3d_mask].get_skycoord().velocity.d_xyz.value[i]\n",
    "    print(1.5 * np.median(np.abs(_x - np.median(_x))),\n",
    "          np.median(_x))\n",
    "    plt.hist(g[sep3d_mask].get_skycoord().velocity.d_xyz.value[i],\n",
    "             bins=np.linspace(-100, 100, 64), alpha=0.4, label=str(i));\n",
    "plt.legend(loc='best')"
   ]
  },
  {
   "cell_type": "code",
   "execution_count": 11,
   "metadata": {
    "ExecuteTime": {
     "end_time": "2020-07-14T19:55:20.889620Z",
     "start_time": "2020-07-14T19:55:20.882376Z"
    }
   },
   "outputs": [],
   "source": [
    "test_vxyz = subg.get_skycoord().velocity.d_xyz.value.T\n",
    "test_d = subg.distance.value"
   ]
  },
  {
   "cell_type": "code",
   "execution_count": 12,
   "metadata": {
    "ExecuteTime": {
     "end_time": "2020-07-14T19:57:41.499191Z",
     "start_time": "2020-07-14T19:55:20.891164Z"
    }
   },
   "outputs": [],
   "source": [
    "# vdisk = np.zeros(3)\n",
    "vdisk = np.array([-2, 17.9, -10.6])\n",
    "# sigma_disk = np.full(3, 30.)  # km/s\n",
    "sigma_disk = np.array([15, 35, 20.])\n",
    "\n",
    "vhalo = np.zeros(3)\n",
    "sigma_halo = np.full(3, 125.)  # km/s\n",
    "\n",
    "# Number of prior mixture components:\n",
    "K = 3\n",
    "\n",
    "with pm.Model() as model:\n",
    "    r = pm.Uniform(\"r\", 1, 500, shape=N, testval=test_d)\n",
    "    \n",
    "    # Mixture model for 3D velocity\n",
    "    w = pm.Dirichlet('w', a=np.ones(K))\n",
    "    \n",
    "    _v0 = pm.Normal.dist(v0, np.full(3, sigma_0), \n",
    "                         shape=(N, 3))\n",
    "    _v1 = pm.Normal.dist(vdisk, sigma_disk, \n",
    "                         shape=(N, 3))\n",
    "    _v2 = pm.Normal.dist(vhalo, sigma_halo, \n",
    "                         shape=(N, 3))\n",
    "    vxyz = pm.Mixture('vxyz', w=w, comp_dists=[_v0, _v1, _v2], \n",
    "                      testval=test_vxyz, shape=(N, 3)) \n",
    "    \n",
    "    v0_logp = pm.Deterministic('v0_logp', _v0.logp(vxyz))\n",
    "    v1_logp = pm.Deterministic('v1_logp', _v1.logp(vxyz))\n",
    "    v2_logp = pm.Deterministic('v2_logp', _v2.logp(vxyz))\n",
    "    \n",
    "    # Velocity in tangent plane coordinates\n",
    "    vtan = tt.batched_dot(M, vxyz)\n",
    "    \n",
    "    model_pm = vtan[:, :2] / r[:, None] * pc_mas_yr_per_km_s\n",
    "    model_rv = vtan[:, 2:3]\n",
    "    model_y = tt.concatenate((1000 / r[:, None], model_pm, model_rv), axis=1)\n",
    "    \n",
    "    for n in range(N):\n",
    "        pm.MvNormal(f'y{n}', mu=model_y[n], cov=C[n], observed=y[n], shape=4)"
   ]
  },
  {
   "cell_type": "code",
   "execution_count": 13,
   "metadata": {
    "ExecuteTime": {
     "end_time": "2020-07-14T20:08:42.924263Z",
     "start_time": "2020-07-14T19:57:44.500406Z"
    }
   },
   "outputs": [
    {
     "name": "stderr",
     "output_type": "stream",
     "text": [
      "optimizing logp for variables: [vxyz, w, r]\n"
     ]
    },
    {
     "data": {
      "application/vnd.jupyter.widget-view+json": {
       "model_id": "17f5344bef2e4410a530893324703e18",
       "version_major": 2,
       "version_minor": 0
      },
      "text/plain": [
       "HBox(children=(FloatProgress(value=1.0, bar_style='info', max=1.0), HTML(value='')))"
      ]
     },
     "metadata": {},
     "output_type": "display_data"
    },
    {
     "name": "stdout",
     "output_type": "stream",
     "text": [
      "\n"
     ]
    },
    {
     "name": "stderr",
     "output_type": "stream",
     "text": [
      "message: Optimization terminated successfully.\n",
      "logp: -3824.958965138262 -> -3192.5480918396493\n"
     ]
    }
   ],
   "source": [
    "with model:\n",
    "    res = xo.optimize()"
   ]
  },
  {
   "cell_type": "code",
   "execution_count": 14,
   "metadata": {
    "ExecuteTime": {
     "end_time": "2020-07-14T20:09:51.680381Z",
     "start_time": "2020-07-14T20:09:51.676420Z"
    },
    "scrolled": false
   },
   "outputs": [],
   "source": [
    "logps = np.zeros((N, 3))\n",
    "for n in range(3):\n",
    "    logps[:, n] = res[f'v{n}_logp'].sum(axis=1)"
   ]
  },
  {
   "cell_type": "code",
   "execution_count": 15,
   "metadata": {
    "ExecuteTime": {
     "end_time": "2020-07-14T20:09:53.229169Z",
     "start_time": "2020-07-14T20:09:53.226551Z"
    }
   },
   "outputs": [],
   "source": [
    "from scipy.special import logsumexp"
   ]
  },
  {
   "cell_type": "code",
   "execution_count": 16,
   "metadata": {
    "ExecuteTime": {
     "end_time": "2020-07-14T20:09:53.390583Z",
     "start_time": "2020-07-14T20:09:53.388342Z"
    }
   },
   "outputs": [],
   "source": [
    "# for i in range(3):\n",
    "#     _x = test_vxyz[:, i]\n",
    "#     print(1.5 * np.median(np.abs(_x - np.median(_x))),\n",
    "#           np.median(_x))\n",
    "#     plt.hist(test_vxyz[:, i],\n",
    "#              bins=np.linspace(-100, 100, 64), alpha=0.4, label=str(i),\n",
    "#              density=True);\n",
    "    \n",
    "#     _grid = np.linspace(-100, 100, 1000)\n",
    "#     plt.plot(_grid, norm.pdf(_grid, vdisk[i], sigma_disk[i]), marker='')\n",
    "    \n",
    "# plt.legend(loc='best')"
   ]
  },
  {
   "cell_type": "code",
   "execution_count": 17,
   "metadata": {
    "ExecuteTime": {
     "end_time": "2020-07-14T20:09:53.810143Z",
     "start_time": "2020-07-14T20:09:53.806719Z"
    }
   },
   "outputs": [],
   "source": [
    "prob = np.exp(logps[:, 0] - logsumexp(logps, axis=1))"
   ]
  },
  {
   "cell_type": "code",
   "execution_count": 18,
   "metadata": {
    "ExecuteTime": {
     "end_time": "2020-07-14T20:09:54.619553Z",
     "start_time": "2020-07-14T20:09:54.438964Z"
    }
   },
   "outputs": [
    {
     "data": {
      "text/plain": [
       "(array([325.,   1.,   0.,   0.,   0.,   0.,   0.,   1.,   1.,  16.]),\n",
       " array([0.        , 0.09999808, 0.19999615, 0.29999423, 0.3999923 ,\n",
       "        0.49999038, 0.59998845, 0.69998653, 0.7999846 , 0.89998268,\n",
       "        0.99998076]),\n",
       " <a list of 10 Patch objects>)"
      ]
     },
     "execution_count": 18,
     "metadata": {},
     "output_type": "execute_result"
    },
    {
     "data": {
      "image/png": "[encoded data removed]",
      "text/plain": [
       "<Figure size 432x288 with 1 Axes>"
      ]
     },
     "metadata": {
      "image/png": {
       "height": 252,
       "width": 384
      },
      "needs_background": "light"
     },
     "output_type": "display_data"
    }
   ],
   "source": [
    "plt.hist(prob)"
   ]
  },
  {
   "cell_type": "code",
   "execution_count": 19,
   "metadata": {
    "ExecuteTime": {
     "end_time": "2020-07-14T20:09:56.362444Z",
     "start_time": "2020-07-14T20:09:56.356227Z"
    }
   },
   "outputs": [
    {
     "data": {
      "text/html": [
       "&lt;Column name=&apos;source_id&apos; dtype=&apos;int64&apos; length=18&gt;\n",
       "<table>\n",
       "<tr><td>1320894312595678976</td></tr>\n",
       "<tr><td>1397457048152981632</td></tr>\n",
       "<tr><td>1476485996883837184</td></tr>\n",
       "<tr><td>1396617472242087168</td></tr>\n",
       "<tr><td>1490845584382687232</td></tr>\n",
       "<tr><td>1523644978312478976</td></tr>\n",
       "<tr><td>1263985102569989504</td></tr>\n",
       "<tr><td>1549259098113618688</td></tr>\n",
       "<tr><td>1523645047031954944</td></tr>\n",
       "<tr><td>4026742744369123584</td></tr>\n",
       "<tr><td>1189404610382948224</td></tr>\n",
       "<tr><td>1203627102528283392</td></tr>\n",
       "<tr><td>1501788130259330688</td></tr>\n",
       "<tr><td>1610856453920291712</td></tr>\n",
       "<tr><td>1535849763537160320</td></tr>\n",
       "<tr><td>1291109504671837824</td></tr>\n",
       "<tr><td>1236585612107071616</td></tr>\n",
       "<tr><td>3958028490314315008</td></tr>\n",
       "</table>"
      ],
      "text/plain": [
       "<Column name='source_id' dtype='int64' length=18>\n",
       "1320894312595678976\n",
       "1397457048152981632\n",
       "1476485996883837184\n",
       "1396617472242087168\n",
       "1490845584382687232\n",
       "1523644978312478976\n",
       "1263985102569989504\n",
       "1549259098113618688\n",
       "1523645047031954944\n",
       "4026742744369123584\n",
       "1189404610382948224\n",
       "1203627102528283392\n",
       "1501788130259330688\n",
       "1610856453920291712\n",
       "1535849763537160320\n",
       "1291109504671837824\n",
       "1236585612107071616\n",
       "3958028490314315008"
      ]
     },
     "execution_count": 19,
     "metadata": {},
     "output_type": "execute_result"
    }
   ],
   "source": [
    "subg[prob > 0.5].source_id"
   ]
  },
  {
   "cell_type": "code",
   "execution_count": 26,
   "metadata": {
    "ExecuteTime": {
     "end_time": "2020-07-14T20:13:54.758852Z",
     "start_time": "2020-07-14T20:13:54.753303Z"
    }
   },
   "outputs": [],
   "source": [
    "highprob = subg[prob > 0.5]\n",
    "\n",
    "mg = highprob.phot_g_mean_mag - highprob.distmod\n",
    "bprp = highprob.phot_bp_mean_mag - highprob.phot_rp_mean_mag"
   ]
  },
  {
   "cell_type": "code",
   "execution_count": 31,
   "metadata": {
    "ExecuteTime": {
     "end_time": "2020-07-14T20:14:42.095611Z",
     "start_time": "2020-07-14T20:14:41.816465Z"
    }
   },
   "outputs": [
    {
     "data": {
      "image/png": "[encoded data removed]",
      "text/plain": [
       "<Figure size 432x432 with 1 Axes>"
      ]
     },
     "metadata": {
      "image/png": {
       "height": 421,
       "width": 424
      }
     },
     "output_type": "display_data"
    }
   ],
   "source": [
    "fig, ax = plt.subplots(1, 1, figsize=(6, 6))\n",
    "\n",
    "ax.scatter(bprp, mg, c=prob[prob > 0.5], \n",
    "           cmap='magma_r')\n",
    "\n",
    "ax.set_xlim(0, 3)\n",
    "ax.set_ylim(10, 3)\n",
    "\n",
    "ax.set_xlabel(r'$G_{\\rm BP}-G_{\\rm RP}$')\n",
    "ax.set_ylabel('$M_G$')\n",
    "\n",
    "fig.set_facecolor('w')\n",
    "fig.tight_layout()"
   ]
  },
  {
   "cell_type": "code",
   "execution_count": 37,
   "metadata": {
    "ExecuteTime": {
     "end_time": "2020-07-14T20:17:30.410917Z",
     "start_time": "2020-07-14T20:17:30.141464Z"
    }
   },
   "outputs": [
    {
     "data": {
      "text/plain": [
       "(-90.0, 90.0)"
      ]
     },
     "execution_count": 37,
     "metadata": {},
     "output_type": "execute_result"
    },
    {
     "data": {
      "image/png": "[encoded data removed]",
      "text/plain": [
       "<Figure size 720x360 with 1 Axes>"
      ]
     },
     "metadata": {
      "image/png": {
       "height": 306,
       "width": 619
      },
      "needs_background": "light"
     },
     "output_type": "display_data"
    }
   ],
   "source": [
    "highprob_c = highprob.get_skycoord()\n",
    "\n",
    "plt.figure(figsize=(10, 5))\n",
    "plt.scatter(highprob_c.barycentricmeanecliptic.lon.degree,\n",
    "            highprob_c.barycentricmeanecliptic.lat.degree)\n",
    "plt.xlim(360, 0)\n",
    "plt.ylim(-90, 90)"
   ]
  },
  {
   "cell_type": "code",
   "execution_count": 51,
   "metadata": {
    "ExecuteTime": {
     "end_time": "2020-07-14T20:24:54.171130Z",
     "start_time": "2020-07-14T20:24:54.143516Z"
    }
   },
   "outputs": [],
   "source": [
    "highprob_tbl = highprob.data\n",
    "highprob_tbl['prob'] = prob[prob > 0.5]\n",
    "highprob_tbl.write('/Users/apricewhelan/Downloads/TheOGGroup.csv', format='ascii.ecsv')"
   ]
  },
  {
   "cell_type": "code",
   "execution_count": null,
   "metadata": {},
   "outputs": [],
   "source": []
  }
 ],
 "metadata": {
  "kernelspec": {
   "display_name": "Python [conda env:root] *",
   "language": "python",
   "name": "conda-root-py"
  },
  "language_info": {
   "codemirror_mode": {
    "name": "ipython",
    "version": 3
   },
   "file_extension": ".py",
   "mimetype": "text/x-python",
   "name": "python",
   "nbconvert_exporter": "python",
   "pygments_lexer": "ipython3",
   "version": "3.7.7"
  },
  "toc": {
   "base_numbering": 1,
   "nav_menu": {},
   "number_sections": true,
   "sideBar": true,
   "skip_h1_title": false,
   "title_cell": "Table of Contents",
   "title_sidebar": "Contents",
   "toc_cell": false,
   "toc_position": {},
   "toc_section_display": true,
   "toc_window_display": false
  }
 },
 "nbformat": 4,
 "nbformat_minor": 4
}
