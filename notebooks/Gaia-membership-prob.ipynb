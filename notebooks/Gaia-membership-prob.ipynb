{
 "cells": [
  {
   "cell_type": "code",
   "execution_count": 104,
   "metadata": {
    "ExecuteTime": {
     "end_time": "2020-07-17T20:16:41.941825Z",
     "start_time": "2020-07-17T20:16:41.778005Z"
    }
   },
   "outputs": [
    {
     "data": {
      "text/plain": [
       "'3.9.2'"
      ]
     },
     "execution_count": 104,
     "metadata": {},
     "output_type": "execute_result"
    }
   ],
   "source": [
    "import os\n",
    "\n",
    "import astropy.coordinates as coord\n",
    "coord.galactocentric_frame_defaults.set('v4.0')\n",
    "import astropy.table as at\n",
    "import astropy.units as u\n",
    "import matplotlib as mpl\n",
    "import matplotlib.pyplot as plt\n",
    "%matplotlib inline\n",
    "import numpy as np\n",
    "\n",
    "# gala\n",
    "import gala.coordinates as gc\n",
    "import gala.dynamics as gd\n",
    "import gala.integrate as gi\n",
    "import gala.potential as gp\n",
    "from gala.units import galactic\n",
    "from scipy.special import logsumexp\n",
    "\n",
    "from pyia import GaiaData\n",
    "import theano\n",
    "theano.config.gcc.cxxflags = \"-fbracket-depth=16000\" # default is 256\n",
    "import pymc3 as pm\n",
    "import theano.tensor as tt\n",
    "import exoplanet as xo\n",
    "\n",
    "pm.__version__"
   ]
  },
  {
   "cell_type": "markdown",
   "metadata": {},
   "source": [
    "Expected mean disk velocity in ICRS:"
   ]
  },
  {
   "cell_type": "code",
   "execution_count": 2,
   "metadata": {
    "ExecuteTime": {
     "end_time": "2020-07-15T23:16:37.014975Z",
     "start_time": "2020-07-15T23:16:36.978515Z"
    }
   },
   "outputs": [
    {
     "data": {
      "text/plain": [
       "(array([ 1.72666906, 17.96839664, -5.97107496]),\n",
       " array([-15.0730518 ,  33.09260716, -31.36846921]),\n",
       " array([-113.89493924,  122.05855141, -180.76490601]))"
      ]
     },
     "execution_count": 2,
     "metadata": {},
     "output_type": "execute_result"
    }
   ],
   "source": [
    "xtmp = coord.CartesianRepresentation(100, 0, 0, unit=u.km)\n",
    "vlsr = coord.CartesianDifferential(-(np.array([12.9, 245.6, 7.78]) - np.array([0, 234, 0])) * u.km/u.s)\n",
    "vthin = coord.SkyCoord(xtmp.with_differentials(vlsr), frame='galactic').icrs.velocity.d_xyz.value\n",
    "\n",
    "xtmp = coord.CartesianRepresentation(100, 0, 0, unit=u.km)\n",
    "vlsr = coord.CartesianDifferential(-(np.array([12.9, 245.6, 7.78]) - np.array([0, 200, 0])) * u.km/u.s)\n",
    "vthik = coord.SkyCoord(xtmp.with_differentials(vlsr), frame='galactic').icrs.velocity.d_xyz.value\n",
    "\n",
    "xtmp = coord.CartesianRepresentation(100, 0, 0, unit=u.km)\n",
    "vsun = coord.CartesianDifferential(-np.array([12.9, 245.6, 7.78]) * u.km/u.s)\n",
    "vhalo = coord.SkyCoord(xtmp.with_differentials(vsun), frame='galactic').icrs.velocity.d_xyz.value\n",
    "\n",
    "vthin, vthik, vhalo"
   ]
  },
  {
   "cell_type": "code",
   "execution_count": 3,
   "metadata": {
    "ExecuteTime": {
     "end_time": "2020-07-15T23:16:37.023157Z",
     "start_time": "2020-07-15T23:16:37.017712Z"
    }
   },
   "outputs": [],
   "source": [
    "pc_mas_yr_per_km_s = (1 * u.km/u.s).to(u.pc*u.mas/u.yr, u.dimensionless_angles()).value\n",
    "km_s_per_pc_mas_yr = 1 / pc_mas_yr_per_km_s"
   ]
  },
  {
   "cell_type": "code",
   "execution_count": 4,
   "metadata": {
    "ExecuteTime": {
     "end_time": "2020-07-15T23:16:38.487713Z",
     "start_time": "2020-07-15T23:16:37.026269Z"
    }
   },
   "outputs": [],
   "source": [
    "g = GaiaData(os.path.expanduser('~/data/GaiaDR2/rv-good-plx.fits'))"
   ]
  },
  {
   "cell_type": "code",
   "execution_count": 5,
   "metadata": {
    "ExecuteTime": {
     "end_time": "2020-07-15T23:16:39.060423Z",
     "start_time": "2020-07-15T23:16:38.489591Z"
    }
   },
   "outputs": [
    {
     "data": {
      "text/plain": [
       "array([-6.93189151, 24.30123728, -9.50923957])"
      ]
     },
     "execution_count": 5,
     "metadata": {},
     "output_type": "execute_result"
    }
   ],
   "source": [
    "the_og = g[g.source_id == 1490845584382687232]\n",
    "v0 = the_og.get_skycoord().velocity.d_xyz.value.T[0]\n",
    "sigma_0 = 0.6  # km/s\n",
    "v0"
   ]
  },
  {
   "cell_type": "markdown",
   "metadata": {},
   "source": [
    "How much could the group have dispersed in free space?"
   ]
  },
  {
   "cell_type": "code",
   "execution_count": 6,
   "metadata": {
    "ExecuteTime": {
     "end_time": "2020-07-15T23:16:39.067381Z",
     "start_time": "2020-07-15T23:16:39.062155Z"
    }
   },
   "outputs": [
    {
     "data": {
      "text/latex": [
       "$61.36273 \\; \\mathrm{pc}$"
      ],
      "text/plain": [
       "<Quantity 61.3627299 pc>"
      ]
     },
     "execution_count": 6,
     "metadata": {},
     "output_type": "execute_result"
    }
   ],
   "source": [
    "(100*u.Myr * 0.6*u.km/u.s).to(u.pc)"
   ]
  },
  {
   "cell_type": "code",
   "execution_count": 7,
   "metadata": {
    "ExecuteTime": {
     "end_time": "2020-07-15T23:16:39.073201Z",
     "start_time": "2020-07-15T23:16:39.069003Z"
    }
   },
   "outputs": [],
   "source": [
    "def get_tangent_basis(ra, dec):\n",
    "    \"\"\"\n",
    "    row vectors are the tangent-space basis at (alpha, delta, r)\n",
    "    ra, dec in radians\n",
    "    \"\"\"\n",
    "    M = np.array([\n",
    "        [-np.sin(ra), np.cos(ra), 0.],\n",
    "        [-np.sin(dec)*np.cos(ra), -np.sin(dec)*np.sin(ra), np.cos(dec)],\n",
    "        [np.cos(dec)*np.cos(ra), np.cos(dec)*np.sin(ra), np.sin(dec)]\n",
    "    ])\n",
    "    return M"
   ]
  },
  {
   "cell_type": "code",
   "execution_count": 8,
   "metadata": {
    "ExecuteTime": {
     "end_time": "2020-07-15T23:16:39.084565Z",
     "start_time": "2020-07-15T23:16:39.076439Z"
    }
   },
   "outputs": [],
   "source": [
    "class UniformSpaceDensity(pm.Continuous):\n",
    "\n",
    "    def __init__(self, rlim, **kwargs):\n",
    "        \"\"\"A uniform space density prior over a distance, r, between (0, rlim)\n",
    "        \"\"\"\n",
    "\n",
    "        self.rlim = float(rlim)\n",
    "        assert (self.rlim > 0)\n",
    "        self._fac = np.log(3.) - 3 * np.log(self.rlim)\n",
    "\n",
    "        shape = kwargs.get(\"shape\", None)\n",
    "        if shape is None:\n",
    "            testval = 0.5 * self.rlim\n",
    "        else:\n",
    "            testval = 0.5 * self.rlim + np.zeros(shape)\n",
    "        kwargs[\"testval\"] = kwargs.pop(\"testval\", testval)\n",
    "        super(UniformSpaceDensity, self).__init__(**kwargs)\n",
    "\n",
    "    def _random(self, size=None):\n",
    "        uu = np.random.uniform(size=size)\n",
    "        return np.cbrt(uu) * self.rlim\n",
    "\n",
    "    def random(self, point=None, size=None):\n",
    "        return generate_samples(\n",
    "            self._random,\n",
    "            dist_shape=self.shape,\n",
    "            broadcast_shape=self.shape,\n",
    "            size=size,\n",
    "        )\n",
    "\n",
    "    def logp(self, value):\n",
    "        return 2 * tt.log(tt.as_tensor_variable(value)) + self._fac"
   ]
  },
  {
   "cell_type": "code",
   "execution_count": 80,
   "metadata": {
    "ExecuteTime": {
     "end_time": "2020-07-16T16:54:17.463304Z",
     "start_time": "2020-07-16T16:54:17.366632Z"
    }
   },
   "outputs": [],
   "source": [
    "filename = '../data/all_stars_near_theOG.csv'\n",
    "if os.path.exists(filename):\n",
    "    prev = at.Table.read(filename, format='ascii.ecsv')\n",
    "else:\n",
    "    prev = None # For first run"
   ]
  },
  {
   "cell_type": "code",
   "execution_count": 82,
   "metadata": {
    "ExecuteTime": {
     "end_time": "2020-07-16T16:54:25.245054Z",
     "start_time": "2020-07-16T16:54:24.597687Z"
    }
   },
   "outputs": [
    {
     "data": {
      "text/plain": [
       "(26887, 302969, 2767, 961)"
      ]
     },
     "execution_count": 82,
     "metadata": {},
     "output_type": "execute_result"
    }
   ],
   "source": [
    "c = g.get_skycoord()\n",
    "the_og_c = the_og.get_skycoord()[0]\n",
    "\n",
    "sep3d_mask = c.separation_3d(the_og_c) < 70*u.pc\n",
    "vel3d_mask = (c.velocity - the_og_c.velocity).norm() < 15*u.km/u.s\n",
    "xv_mask = vel3d_mask & sep3d_mask\n",
    "\n",
    "subg = g[xv_mask]\n",
    "\n",
    "if prev is not None:\n",
    "    not_prev_mask = ~np.isin(subg.source_id, prev['source_id'])\n",
    "    subg = subg[not_prev_mask]\n",
    "\n",
    "sep3d_mask.sum(), vel3d_mask.sum(), xv_mask.sum(), len(subg)"
   ]
  },
  {
   "cell_type": "code",
   "execution_count": 83,
   "metadata": {
    "ExecuteTime": {
     "end_time": "2020-07-16T16:54:27.093270Z",
     "start_time": "2020-07-16T16:54:27.087142Z"
    }
   },
   "outputs": [],
   "source": [
    "Cs = subg.get_cov(units=dict(pmra=u.mas/u.yr, pmdec=u.mas/u.yr, radial_velocity=u.km/u.s))\n",
    "C = Cs[:, 2:, 2:]"
   ]
  },
  {
   "cell_type": "code",
   "execution_count": 84,
   "metadata": {
    "ExecuteTime": {
     "end_time": "2020-07-16T16:54:28.318206Z",
     "start_time": "2020-07-16T16:54:28.273819Z"
    }
   },
   "outputs": [
    {
     "data": {
      "text/plain": [
       "((961, 4, 4), (961, 3, 3), (961, 4))"
      ]
     },
     "execution_count": 84,
     "metadata": {},
     "output_type": "execute_result"
    }
   ],
   "source": [
    "N = len(subg)\n",
    "\n",
    "ra = subg.ra.to_value(u.rad)\n",
    "dec = subg.dec.to_value(u.rad)\n",
    "M = np.stack([get_tangent_basis(ra[i], dec[i]) for i in range(N)])\n",
    "y = np.stack([subg.parallax.value, \n",
    "              subg.pmra.value, \n",
    "              subg.pmdec.value, \n",
    "              subg.radial_velocity.value], \n",
    "             axis=1)\n",
    "\n",
    "Cinvs = np.stack([np.linalg.inv(C[n]) for n in range(N)], axis=0)\n",
    "\n",
    "C.shape, M.shape, y.shape"
   ]
  },
  {
   "cell_type": "code",
   "execution_count": 85,
   "metadata": {
    "ExecuteTime": {
     "end_time": "2020-07-16T16:54:31.997135Z",
     "start_time": "2020-07-16T16:54:28.902536Z"
    }
   },
   "outputs": [
    {
     "name": "stdout",
     "output_type": "stream",
     "text": [
      "16.14998308012067 -1.5587678391681004\n",
      "33.681902747385706 18.607217802793844\n",
      "20.12456579753809 -10.26107439934088\n"
     ]
    },
    {
     "data": {
      "image/png": "[encoded data removed]",
      "text/plain": [
       "<Figure size 1080x360 with 3 Axes>"
      ]
     },
     "metadata": {
      "image/png": {
       "height": 351,
       "width": 1072
      },
      "needs_background": "light"
     },
     "output_type": "display_data"
    }
   ],
   "source": [
    "fig, axes = plt.subplots(1, 3, figsize=(15, 5), sharex=True, sharey=True)\n",
    "for i in range(3):\n",
    "    ax = axes[i]\n",
    "    \n",
    "    _x = g[sep3d_mask].get_skycoord().velocity.d_xyz.value[i]\n",
    "    print(1.5 * np.median(np.abs(_x - np.median(_x))),\n",
    "          np.median(_x))\n",
    "    ax.hist(g[sep3d_mask].get_skycoord().velocity.d_xyz.value[i],\n",
    "            bins=np.linspace(-150, 150, 64), alpha=0.4, label=str(i));\n",
    "    \n",
    "    ax.axvline(vthin[i], color='tab:red', linestyle='--')\n",
    "    ax.axvline(vthik[i], color='tab:green', linestyle='--')\n",
    "    \n",
    "ax.legend(loc='best')\n",
    "\n",
    "fig.tight_layout()"
   ]
  },
  {
   "cell_type": "code",
   "execution_count": 86,
   "metadata": {
    "ExecuteTime": {
     "end_time": "2020-07-16T16:54:32.007990Z",
     "start_time": "2020-07-16T16:54:31.998648Z"
    }
   },
   "outputs": [],
   "source": [
    "test_vxyz = subg.get_skycoord().velocity.d_xyz.value.T\n",
    "test_d = subg.distance.value"
   ]
  },
  {
   "cell_type": "code",
   "execution_count": 87,
   "metadata": {
    "ExecuteTime": {
     "end_time": "2020-07-16T16:54:33.501965Z",
     "start_time": "2020-07-16T16:54:32.009944Z"
    }
   },
   "outputs": [],
   "source": [
    "sigma_thin = 20.  # np.array([15, 35, 20.])\n",
    "sigma_thik = 50.\n",
    "sigma_halo = 125.  # np.full(3, 125.)  # km/s\n",
    "\n",
    "# Number of prior mixture components:\n",
    "K = 4\n",
    "with pm.Model() as model:\n",
    "    r = UniformSpaceDensity(\"r\", 2000, shape=N, testval=test_d)\n",
    "    \n",
    "    # Mixture model for 3D velocity\n",
    "    w = pm.Dirichlet('w', a=np.ones(K))\n",
    "    \n",
    "    _v0 = pm.Normal.dist(v0, np.full(3, sigma_0), \n",
    "                         shape=(N, 3))\n",
    "    _v1 = pm.Normal.dist(vthin, sigma_thin, \n",
    "                         shape=(N, 3))\n",
    "    _v2 = pm.Normal.dist(vthik, sigma_thik, \n",
    "                         shape=(N, 3))\n",
    "    _v3 = pm.Normal.dist(vhalo, sigma_halo, \n",
    "                         shape=(N, 3))\n",
    "    vxyz = pm.Mixture('vxyz', w=w, comp_dists=[_v0, _v1, _v2, _v3], \n",
    "                      testval=test_vxyz, shape=(N, 3)) \n",
    "    \n",
    "    v0_logp = pm.Deterministic('v0_logp', _v0.logp(vxyz))\n",
    "    v1_logp = pm.Deterministic('v1_logp', _v1.logp(vxyz))\n",
    "    v2_logp = pm.Deterministic('v2_logp', _v2.logp(vxyz))\n",
    "    v3_logp = pm.Deterministic('v3_logp', _v3.logp(vxyz))\n",
    "    \n",
    "    # Velocity in tangent plane coordinates\n",
    "    vtan = tt.batched_dot(M, vxyz)\n",
    "    \n",
    "    model_pm = vtan[:, :2] / r[:, None] * pc_mas_yr_per_km_s\n",
    "    model_rv = vtan[:, 2:3]\n",
    "    model_y = tt.concatenate((1000 / r[:, None], model_pm, model_rv), axis=1)\n",
    "    \n",
    "    # Option 1:\n",
    "    # for n in range(N):\n",
    "    #     pm.MvNormal(f'y{n}', mu=model_y[n], cov=C[n], observed=y[n], shape=4)\n",
    "    \n",
    "    # Option 2:\n",
    "#     val = tt.as_tensor_variable(0.)\n",
    "#     for n in range(N):\n",
    "#         # val += pm.MvNormal.dist.logp(mu=model_y[n], cov=C[n], observed=y[n], shape=4)\n",
    "#         dy = model_y[n] - y[n]\n",
    "#         val += -0.5 * tt.transpose(dy).dot(Cinvs[n]).dot(dy)\n",
    "\n",
    "    # Option 3:\n",
    "    dy = model_y - y\n",
    "    val = -0.5 * tt.batched_dot(dy, tt.batched_dot(Cinvs, dy))\n",
    "\n",
    "    pm.Potential(\"more_logp\", val)"
   ]
  },
  {
   "cell_type": "code",
   "execution_count": 88,
   "metadata": {
    "ExecuteTime": {
     "end_time": "2020-07-16T18:23:12.645494Z",
     "start_time": "2020-07-16T16:54:33.503809Z"
    }
   },
   "outputs": [
    {
     "name": "stderr",
     "output_type": "stream",
     "text": [
      "optimizing logp for variables: [vxyz, w, r]\n"
     ]
    },
    {
     "data": {
      "application/vnd.jupyter.widget-view+json": {
       "model_id": "864ac0c0f6654df5a853aadce009b42f",
       "version_major": 2,
       "version_minor": 0
      },
      "text/plain": [
       "HBox(children=(FloatProgress(value=1.0, bar_style='info', max=1.0), HTML(value='')))"
      ]
     },
     "metadata": {},
     "output_type": "display_data"
    },
    {
     "name": "stdout",
     "output_type": "stream",
     "text": [
      "\n"
     ]
    },
    {
     "name": "stderr",
     "output_type": "stream",
     "text": [
      "message: Desired error not necessarily achieved due to precision loss.\n",
      "logp: -25953.312594075727 -> -24041.686508833318\n"
     ]
    }
   ],
   "source": [
    "with model:\n",
    "    res = xo.optimize(start={'w': np.ones(K), \n",
    "                             'r': test_d,\n",
    "                             'vxyz': test_vxyz})"
   ]
  },
  {
   "cell_type": "code",
   "execution_count": 94,
   "metadata": {
    "ExecuteTime": {
     "end_time": "2020-07-16T18:23:57.232253Z",
     "start_time": "2020-07-16T18:23:57.228793Z"
    }
   },
   "outputs": [],
   "source": [
    "# res['r'] / test_d"
   ]
  },
  {
   "cell_type": "code",
   "execution_count": 95,
   "metadata": {
    "ExecuteTime": {
     "end_time": "2020-07-16T18:23:57.372274Z",
     "start_time": "2020-07-16T18:23:57.366152Z"
    }
   },
   "outputs": [],
   "source": [
    "logps = np.zeros((N, K))\n",
    "for k in range(K):\n",
    "    logps[:, k] = res[f'v{k}_logp'].sum(axis=1)"
   ]
  },
  {
   "cell_type": "code",
   "execution_count": 96,
   "metadata": {
    "ExecuteTime": {
     "end_time": "2020-07-16T18:23:57.907662Z",
     "start_time": "2020-07-16T18:23:57.895187Z"
    }
   },
   "outputs": [],
   "source": [
    "# for i in range(3):\n",
    "#     _x = test_vxyz[:, i]\n",
    "#     print(1.5 * np.median(np.abs(_x - np.median(_x))),\n",
    "#           np.median(_x))\n",
    "#     plt.hist(test_vxyz[:, i],\n",
    "#              bins=np.linspace(-100, 100, 64), alpha=0.4, label=str(i),\n",
    "#              density=True);\n",
    "    \n",
    "#     _grid = np.linspace(-100, 100, 1000)\n",
    "#     plt.plot(_grid, norm.pdf(_grid, vdisk[i], sigma_disk[i]), marker='')\n",
    "    \n",
    "# plt.legend(loc='best')"
   ]
  },
  {
   "cell_type": "code",
   "execution_count": 97,
   "metadata": {
    "ExecuteTime": {
     "end_time": "2020-07-16T18:23:58.782345Z",
     "start_time": "2020-07-16T18:23:58.774025Z"
    }
   },
   "outputs": [
    {
     "data": {
      "text/plain": [
       "14"
      ]
     },
     "execution_count": 97,
     "metadata": {},
     "output_type": "execute_result"
    }
   ],
   "source": [
    "prob = np.exp(logps[:, 0] - logsumexp(logps, axis=1))\n",
    "(prob > 0.5).sum()"
   ]
  },
  {
   "cell_type": "code",
   "execution_count": 98,
   "metadata": {
    "ExecuteTime": {
     "end_time": "2020-07-16T18:24:02.194650Z",
     "start_time": "2020-07-16T18:24:02.189644Z"
    },
    "scrolled": true
   },
   "outputs": [],
   "source": [
    "# plt.hist(prob)"
   ]
  },
  {
   "cell_type": "code",
   "execution_count": 99,
   "metadata": {
    "ExecuteTime": {
     "end_time": "2020-07-16T18:24:04.145233Z",
     "start_time": "2020-07-16T18:24:03.574516Z"
    }
   },
   "outputs": [
    {
     "data": {
      "text/plain": [
       "(2767, 1806)"
      ]
     },
     "execution_count": 99,
     "metadata": {},
     "output_type": "execute_result"
    }
   ],
   "source": [
    "tmp = subg.data\n",
    "tmp['prob'] = prob\n",
    "if prev is not None:\n",
    "    all_tbl = at.vstack((prev, tmp))\n",
    "else:\n",
    "    all_tbl = tmp\n",
    "all_tbl.write('../data/all_stars_near_theOG.csv', format='ascii.ecsv', overwrite=True)\n",
    "len(all_tbl), len(prev)"
   ]
  },
  {
   "cell_type": "code",
   "execution_count": 100,
   "metadata": {
    "ExecuteTime": {
     "end_time": "2020-07-16T18:24:50.887714Z",
     "start_time": "2020-07-16T18:24:50.795724Z"
    }
   },
   "outputs": [
    {
     "data": {
      "text/plain": [
       "66"
      ]
     },
     "execution_count": 100,
     "metadata": {},
     "output_type": "execute_result"
    }
   ],
   "source": [
    "highprob_tbl = all_tbl[all_tbl['prob'] > 0.5]\n",
    "highprob_tbl.write('../data/TheOGGroup.csv', format='ascii.ecsv', overwrite=True)\n",
    "len(highprob_tbl)"
   ]
  },
  {
   "cell_type": "code",
   "execution_count": null,
   "metadata": {},
   "outputs": [],
   "source": []
  }
 ],
 "metadata": {
  "kernelspec": {
   "display_name": "Python [conda env:root] *",
   "language": "python",
   "name": "conda-root-py"
  },
  "language_info": {
   "codemirror_mode": {
    "name": "ipython",
    "version": 3
   },
   "file_extension": ".py",
   "mimetype": "text/x-python",
   "name": "python",
   "nbconvert_exporter": "python",
   "pygments_lexer": "ipython3",
   "version": "3.7.7"
  },
  "toc": {
   "base_numbering": 1,
   "nav_menu": {},
   "number_sections": true,
   "sideBar": true,
   "skip_h1_title": false,
   "title_cell": "Table of Contents",
   "title_sidebar": "Contents",
   "toc_cell": false,
   "toc_position": {},
   "toc_section_display": true,
   "toc_window_display": false
  }
 },
 "nbformat": 4,
 "nbformat_minor": 4
}
