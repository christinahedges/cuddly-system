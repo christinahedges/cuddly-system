{
 "cells": [
  {
   "cell_type": "code",
   "execution_count": null,
   "metadata": {},
   "outputs": [],
   "source": [
    "import os\n",
    "\n",
    "import astropy.coordinates as coord\n",
    "coord.galactocentric_frame_defaults.set('v4.0')\n",
    "import astropy.table as at\n",
    "import astropy.units as u\n",
    "import matplotlib as mpl\n",
    "import matplotlib.pyplot as plt\n",
    "%matplotlib inline\n",
    "import numpy as np\n",
    "\n",
    "# gala\n",
    "import gala.coordinates as gc\n",
    "import gala.dynamics as gd\n",
    "import gala.integrate as gi\n",
    "import gala.potential as gp\n",
    "from gala.units import galactic\n",
    "from scipy.special import logsumexp\n",
    "\n",
    "from pyia import GaiaData\n",
    "import theano\n",
    "theano.config.gcc.cxxflags = \"-fbracket-depth=16000\" # default is 256\n",
    "import pymc3 as pm\n",
    "import theano.tensor as tt\n",
    "import exoplanet as xo\n",
    "\n",
    "pm.__version__"
   ]
  },
  {
   "cell_type": "markdown",
   "metadata": {},
   "source": [
    "Expected mean disk velocity in ICRS:"
   ]
  },
  {
   "cell_type": "code",
   "execution_count": null,
   "metadata": {},
   "outputs": [],
   "source": [
    "xtmp = coord.CartesianRepresentation(100, 0, 0, unit=u.km)\n",
    "vlsr = coord.CartesianDifferential(-(np.array([12.9, 245.6, 7.78]) - np.array([0, 234, 0])) * u.km/u.s)\n",
    "vthin = coord.SkyCoord(xtmp.with_differentials(vlsr), frame='galactic').icrs.velocity.d_xyz.value\n",
    "\n",
    "xtmp = coord.CartesianRepresentation(100, 0, 0, unit=u.km)\n",
    "vlsr = coord.CartesianDifferential(-(np.array([12.9, 245.6, 7.78]) - np.array([0, 200, 0])) * u.km/u.s)\n",
    "vthik = coord.SkyCoord(xtmp.with_differentials(vlsr), frame='galactic').icrs.velocity.d_xyz.value\n",
    "\n",
    "xtmp = coord.CartesianRepresentation(100, 0, 0, unit=u.km)\n",
    "vsun = coord.CartesianDifferential(-np.array([12.9, 245.6, 7.78]) * u.km/u.s)\n",
    "vhalo = coord.SkyCoord(xtmp.with_differentials(vsun), frame='galactic').icrs.velocity.d_xyz.value\n",
    "\n",
    "vthin, vthik, vhalo"
   ]
  },
  {
   "cell_type": "code",
   "execution_count": null,
   "metadata": {},
   "outputs": [],
   "source": [
    "pc_mas_yr_per_km_s = (1 * u.km/u.s).to(u.pc*u.mas/u.yr, u.dimensionless_angles()).value\n",
    "km_s_per_pc_mas_yr = 1 / pc_mas_yr_per_km_s"
   ]
  },
  {
   "cell_type": "code",
   "execution_count": null,
   "metadata": {},
   "outputs": [],
   "source": [
    "g = GaiaData(os.path.expanduser('~/data/GaiaDR2/rv-good-plx.fits'))"
   ]
  },
  {
   "cell_type": "code",
   "execution_count": null,
   "metadata": {},
   "outputs": [],
   "source": [
    "the_og = g[g.source_id == 1490845584382687232]\n",
    "v0 = the_og.get_skycoord().velocity.d_xyz.value.T[0]\n",
    "sigma_0 = 0.6  # km/s\n",
    "v0"
   ]
  },
  {
   "cell_type": "markdown",
   "metadata": {},
   "source": [
    "How much could the group have dispersed in free space?"
   ]
  },
  {
   "cell_type": "code",
   "execution_count": null,
   "metadata": {},
   "outputs": [],
   "source": [
    "(100*u.Myr * 0.6*u.km/u.s).to(u.pc)"
   ]
  },
  {
   "cell_type": "code",
   "execution_count": null,
   "metadata": {},
   "outputs": [],
   "source": [
    "def get_tangent_basis(ra, dec):\n",
    "    \"\"\"\n",
    "    row vectors are the tangent-space basis at (alpha, delta, r)\n",
    "    ra, dec in radians\n",
    "    \"\"\"\n",
    "    M = np.array([\n",
    "        [-np.sin(ra), np.cos(ra), 0.],\n",
    "        [-np.sin(dec)*np.cos(ra), -np.sin(dec)*np.sin(ra), np.cos(dec)],\n",
    "        [np.cos(dec)*np.cos(ra), np.cos(dec)*np.sin(ra), np.sin(dec)]\n",
    "    ])\n",
    "    return M"
   ]
  },
  {
   "cell_type": "code",
   "execution_count": null,
   "metadata": {},
   "outputs": [],
   "source": [
    "class UniformSpaceDensity(pm.Continuous):\n",
    "\n",
    "    def __init__(self, rlim, **kwargs):\n",
    "        \"\"\"A uniform space density prior over a distance, r, between (0, rlim)\n",
    "        \"\"\"\n",
    "\n",
    "        self.rlim = float(rlim)\n",
    "        assert (self.rlim > 0)\n",
    "        self._fac = np.log(3.) - 3 * np.log(self.rlim)\n",
    "\n",
    "        shape = kwargs.get(\"shape\", None)\n",
    "        if shape is None:\n",
    "            testval = 0.5 * self.rlim\n",
    "        else:\n",
    "            testval = 0.5 * self.rlim + np.zeros(shape)\n",
    "        kwargs[\"testval\"] = kwargs.pop(\"testval\", testval)\n",
    "        super(UniformSpaceDensity, self).__init__(**kwargs)\n",
    "\n",
    "    def _random(self, size=None):\n",
    "        uu = np.random.uniform(size=size)\n",
    "        return np.cbrt(uu) * self.rlim\n",
    "\n",
    "    def random(self, point=None, size=None):\n",
    "        return generate_samples(\n",
    "            self._random,\n",
    "            dist_shape=self.shape,\n",
    "            broadcast_shape=self.shape,\n",
    "            size=size,\n",
    "        )\n",
    "\n",
    "    def logp(self, value):\n",
    "        return 2 * tt.log(tt.as_tensor_variable(value)) + self._fac"
   ]
  },
  {
   "cell_type": "code",
   "execution_count": null,
   "metadata": {},
   "outputs": [],
   "source": [
    "filename = '../data/all_stars_near_theOG.csv'\n",
    "if os.path.exists(filename):\n",
    "    prev = at.Table.read(filename, format='ascii.ecsv')\n",
    "else:\n",
    "    prev = None # For first run"
   ]
  },
  {
   "cell_type": "code",
   "execution_count": null,
   "metadata": {},
   "outputs": [],
   "source": [
    "c = g.get_skycoord()\n",
    "the_og_c = the_og.get_skycoord()[0]\n",
    "\n",
    "sep3d_mask = c.separation_3d(the_og_c) < 70*u.pc\n",
    "vel3d_mask = (c.velocity - the_og_c.velocity).norm() < 15*u.km/u.s\n",
    "xv_mask = vel3d_mask & sep3d_mask\n",
    "\n",
    "subg = g[xv_mask]\n",
    "\n",
    "if prev is not None:\n",
    "    not_prev_mask = ~np.isin(subg.source_id, prev['source_id'])\n",
    "    subg = subg[not_prev_mask]\n",
    "\n",
    "sep3d_mask.sum(), vel3d_mask.sum(), xv_mask.sum(), len(subg)"
   ]
  },
  {
   "cell_type": "code",
   "execution_count": null,
   "metadata": {},
   "outputs": [],
   "source": [
    "Cs = subg.get_cov(units=dict(pmra=u.mas/u.yr, pmdec=u.mas/u.yr, radial_velocity=u.km/u.s))\n",
    "C = Cs[:, 2:, 2:]"
   ]
  },
  {
   "cell_type": "code",
   "execution_count": null,
   "metadata": {},
   "outputs": [],
   "source": [
    "N = len(subg)\n",
    "\n",
    "ra = subg.ra.to_value(u.rad)\n",
    "dec = subg.dec.to_value(u.rad)\n",
    "M = np.stack([get_tangent_basis(ra[i], dec[i]) for i in range(N)])\n",
    "y = np.stack([subg.parallax.value, \n",
    "              subg.pmra.value, \n",
    "              subg.pmdec.value, \n",
    "              subg.radial_velocity.value], \n",
    "             axis=1)\n",
    "\n",
    "Cinvs = np.stack([np.linalg.inv(C[n]) for n in range(N)], axis=0)\n",
    "\n",
    "C.shape, M.shape, y.shape"
   ]
  },
  {
   "cell_type": "code",
   "execution_count": null,
   "metadata": {},
   "outputs": [],
   "source": [
    "fig, axes = plt.subplots(1, 3, figsize=(15, 5), sharex=True, sharey=True)\n",
    "for i in range(3):\n",
    "    ax = axes[i]\n",
    "    \n",
    "    _x = g[sep3d_mask].get_skycoord().velocity.d_xyz.value[i]\n",
    "    print(1.5 * np.median(np.abs(_x - np.median(_x))),\n",
    "          np.median(_x))\n",
    "    ax.hist(g[sep3d_mask].get_skycoord().velocity.d_xyz.value[i],\n",
    "            bins=np.linspace(-150, 150, 64), alpha=0.4, label=str(i));\n",
    "    \n",
    "    ax.axvline(vthin[i], color='tab:red', linestyle='--')\n",
    "    ax.axvline(vthik[i], color='tab:green', linestyle='--')\n",
    "    \n",
    "ax.legend(loc='best')\n",
    "\n",
    "fig.tight_layout()"
   ]
  },
  {
   "cell_type": "code",
   "execution_count": null,
   "metadata": {},
   "outputs": [],
   "source": [
    "test_vxyz = subg.get_skycoord().velocity.d_xyz.value.T\n",
    "test_d = subg.distance.value"
   ]
  },
  {
   "cell_type": "code",
   "execution_count": null,
   "metadata": {},
   "outputs": [],
   "source": [
    "sigma_thin = 20.  # np.array([15, 35, 20.])\n",
    "sigma_thik = 50.\n",
    "sigma_halo = 125.  # np.full(3, 125.)  # km/s\n",
    "\n",
    "# Number of prior mixture components:\n",
    "K = 4\n",
    "with pm.Model() as model:\n",
    "    r = UniformSpaceDensity(\"r\", 2000, shape=N, testval=test_d)\n",
    "    \n",
    "    # Mixture model for 3D velocity\n",
    "    w = pm.Dirichlet('w', a=np.ones(K))\n",
    "    \n",
    "    _v0 = pm.Normal.dist(v0, np.full(3, sigma_0), \n",
    "                         shape=(N, 3))\n",
    "    _v1 = pm.Normal.dist(vthin, sigma_thin, \n",
    "                         shape=(N, 3))\n",
    "    _v2 = pm.Normal.dist(vthik, sigma_thik, \n",
    "                         shape=(N, 3))\n",
    "    _v3 = pm.Normal.dist(vhalo, sigma_halo, \n",
    "                         shape=(N, 3))\n",
    "    vxyz = pm.Mixture('vxyz', w=w, comp_dists=[_v0, _v1, _v2, _v3], \n",
    "                      testval=test_vxyz, shape=(N, 3)) \n",
    "    \n",
    "    v0_logp = pm.Deterministic('v0_logp', _v0.logp(vxyz))\n",
    "    v1_logp = pm.Deterministic('v1_logp', _v1.logp(vxyz))\n",
    "    v2_logp = pm.Deterministic('v2_logp', _v2.logp(vxyz))\n",
    "    v3_logp = pm.Deterministic('v3_logp', _v3.logp(vxyz))\n",
    "    \n",
    "    # Velocity in tangent plane coordinates\n",
    "    vtan = tt.batched_dot(M, vxyz)\n",
    "    \n",
    "    model_pm = vtan[:, :2] / r[:, None] * pc_mas_yr_per_km_s\n",
    "    model_rv = vtan[:, 2:3]\n",
    "    model_y = tt.concatenate((1000 / r[:, None], model_pm, model_rv), axis=1)\n",
    "    \n",
    "    # Option 1:\n",
    "    # for n in range(N):\n",
    "    #     pm.MvNormal(f'y{n}', mu=model_y[n], cov=C[n], observed=y[n], shape=4)\n",
    "    \n",
    "    # Option 2:\n",
    "#     val = tt.as_tensor_variable(0.)\n",
    "#     for n in range(N):\n",
    "#         # val += pm.MvNormal.dist.logp(mu=model_y[n], cov=C[n], observed=y[n], shape=4)\n",
    "#         dy = model_y[n] - y[n]\n",
    "#         val += -0.5 * tt.transpose(dy).dot(Cinvs[n]).dot(dy)\n",
    "\n",
    "    # Option 3:\n",
    "    dy = model_y - y\n",
    "    val = -0.5 * tt.batched_dot(dy, tt.batched_dot(Cinvs, dy))\n",
    "\n",
    "    pm.Potential(\"more_logp\", val)"
   ]
  },
  {
   "cell_type": "code",
   "execution_count": null,
   "metadata": {},
   "outputs": [],
   "source": [
    "with model:\n",
    "    res = xo.optimize(start={'w': np.ones(K), \n",
    "                             'r': test_d,\n",
    "                             'vxyz': test_vxyz})"
   ]
  },
  {
   "cell_type": "code",
   "execution_count": null,
   "metadata": {},
   "outputs": [],
   "source": [
    "# res['r'] / test_d"
   ]
  },
  {
   "cell_type": "code",
   "execution_count": null,
   "metadata": {},
   "outputs": [],
   "source": [
    "logps = np.zeros((N, K))\n",
    "for k in range(K):\n",
    "    logps[:, k] = res[f'v{k}_logp'].sum(axis=1)"
   ]
  },
  {
   "cell_type": "code",
   "execution_count": null,
   "metadata": {},
   "outputs": [],
   "source": [
    "# for i in range(3):\n",
    "#     _x = test_vxyz[:, i]\n",
    "#     print(1.5 * np.median(np.abs(_x - np.median(_x))),\n",
    "#           np.median(_x))\n",
    "#     plt.hist(test_vxyz[:, i],\n",
    "#              bins=np.linspace(-100, 100, 64), alpha=0.4, label=str(i),\n",
    "#              density=True);\n",
    "    \n",
    "#     _grid = np.linspace(-100, 100, 1000)\n",
    "#     plt.plot(_grid, norm.pdf(_grid, vdisk[i], sigma_disk[i]), marker='')\n",
    "    \n",
    "# plt.legend(loc='best')"
   ]
  },
  {
   "cell_type": "code",
   "execution_count": null,
   "metadata": {},
   "outputs": [],
   "source": [
    "prob = np.exp(logps[:, 0] - logsumexp(logps, axis=1))\n",
    "(prob > 0.5).sum()"
   ]
  },
  {
   "cell_type": "code",
   "execution_count": null,
   "metadata": {},
   "outputs": [],
   "source": [
    "# plt.hist(prob)"
   ]
  },
  {
   "cell_type": "code",
   "execution_count": null,
   "metadata": {},
   "outputs": [],
   "source": [
    "tmp = subg.data\n",
    "tmp['prob'] = prob\n",
    "if prev is not None:\n",
    "    all_tbl = at.vstack((prev, tmp))\n",
    "else:\n",
    "    all_tbl = tmp\n",
    "all_tbl.write('../data/all_stars_near_theOG.csv', format='ascii.ecsv', overwrite=True)\n",
    "len(all_tbl), len(prev)"
   ]
  },
  {
   "cell_type": "code",
   "execution_count": null,
   "metadata": {},
   "outputs": [],
   "source": [
    "highprob_tbl = all_tbl[all_tbl['prob'] > 0.5]\n",
    "highprob_tbl.write('../data/TheOGGroup.csv', format='ascii.ecsv', overwrite=True)\n",
    "len(highprob_tbl)"
   ]
  },
  {
   "cell_type": "code",
   "execution_count": null,
   "metadata": {},
   "outputs": [],
   "source": []
  }
 ],
 "metadata": {
  "kernelspec": {
   "display_name": "Python [conda env:root] *",
   "language": "python",
   "name": "conda-root-py"
  },
  "language_info": {
   "codemirror_mode": {
    "name": "ipython",
    "version": 3
   },
   "file_extension": ".py",
   "mimetype": "text/x-python",
   "name": "python",
   "nbconvert_exporter": "python",
   "pygments_lexer": "ipython3",
   "version": "3.7.7"
  },
  "toc": {
   "base_numbering": 1,
   "nav_menu": {},
   "number_sections": true,
   "sideBar": true,
   "skip_h1_title": false,
   "title_cell": "Table of Contents",
   "title_sidebar": "Contents",
   "toc_cell": false,
   "toc_position": {},
   "toc_section_display": true,
   "toc_window_display": false
  }
 },
 "nbformat": 4,
 "nbformat_minor": 4
}
