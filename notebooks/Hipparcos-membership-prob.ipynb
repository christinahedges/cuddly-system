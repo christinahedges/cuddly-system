{
 "cells": [
  {
   "cell_type": "code",
   "execution_count": 1,
   "metadata": {
    "ExecuteTime": {
     "end_time": "2020-07-16T17:26:05.636086Z",
     "start_time": "2020-07-16T17:25:56.871255Z"
    }
   },
   "outputs": [
    {
     "data": {
      "text/plain": [
       "'3.9.2'"
      ]
     },
     "execution_count": 1,
     "metadata": {},
     "output_type": "execute_result"
    }
   ],
   "source": [
    "import os\n",
    "\n",
    "import astropy.coordinates as coord\n",
    "coord.galactocentric_frame_defaults.set('v4.0')\n",
    "import astropy.table as at\n",
    "import astropy.units as u\n",
    "import matplotlib as mpl\n",
    "import matplotlib.pyplot as plt\n",
    "%matplotlib inline\n",
    "import numpy as np\n",
    "\n",
    "# gala\n",
    "import gala.coordinates as gc\n",
    "import gala.dynamics as gd\n",
    "import gala.integrate as gi\n",
    "import gala.potential as gp\n",
    "from gala.units import galactic\n",
    "from scipy.special import logsumexp\n",
    "\n",
    "from pyia import GaiaData\n",
    "import theano\n",
    "theano.config.gcc.cxxflags = \"-fbracket-depth=16000\" # default is 256\n",
    "import pymc3 as pm\n",
    "import theano.tensor as tt\n",
    "import exoplanet as xo\n",
    "\n",
    "pm.__version__"
   ]
  },
  {
   "cell_type": "markdown",
   "metadata": {},
   "source": [
    "Expected mean disk velocity in ICRS:"
   ]
  },
  {
   "cell_type": "code",
   "execution_count": 2,
   "metadata": {
    "ExecuteTime": {
     "end_time": "2020-07-16T17:26:05.729512Z",
     "start_time": "2020-07-16T17:26:05.639580Z"
    }
   },
   "outputs": [
    {
     "data": {
      "text/plain": [
       "(array([ 1.72666906, 17.96839664, -5.97107496]),\n",
       " array([-15.0730518 ,  33.09260716, -31.36846921]),\n",
       " array([-113.89493924,  122.05855141, -180.76490601]))"
      ]
     },
     "execution_count": 2,
     "metadata": {},
     "output_type": "execute_result"
    }
   ],
   "source": [
    "xtmp = coord.CartesianRepresentation(100, 0, 0, unit=u.km)\n",
    "vlsr = coord.CartesianDifferential(-(np.array([12.9, 245.6, 7.78]) - np.array([0, 234, 0])) * u.km/u.s)\n",
    "vthin = coord.SkyCoord(xtmp.with_differentials(vlsr), frame='galactic').icrs.velocity.d_xyz.value\n",
    "\n",
    "xtmp = coord.CartesianRepresentation(100, 0, 0, unit=u.km)\n",
    "vlsr = coord.CartesianDifferential(-(np.array([12.9, 245.6, 7.78]) - np.array([0, 200, 0])) * u.km/u.s)\n",
    "vthik = coord.SkyCoord(xtmp.with_differentials(vlsr), frame='galactic').icrs.velocity.d_xyz.value\n",
    "\n",
    "xtmp = coord.CartesianRepresentation(100, 0, 0, unit=u.km)\n",
    "vsun = coord.CartesianDifferential(-np.array([12.9, 245.6, 7.78]) * u.km/u.s)\n",
    "vhalo = coord.SkyCoord(xtmp.with_differentials(vsun), frame='galactic').icrs.velocity.d_xyz.value\n",
    "\n",
    "vthin, vthik, vhalo"
   ]
  },
  {
   "cell_type": "code",
   "execution_count": 3,
   "metadata": {
    "ExecuteTime": {
     "end_time": "2020-07-16T17:26:05.796906Z",
     "start_time": "2020-07-16T17:26:05.766090Z"
    }
   },
   "outputs": [],
   "source": [
    "pc_mas_yr_per_km_s = (1 * u.km/u.s).to(u.pc*u.mas/u.yr, u.dimensionless_angles()).value\n",
    "km_s_per_pc_mas_yr = 1 / pc_mas_yr_per_km_s"
   ]
  },
  {
   "cell_type": "code",
   "execution_count": 4,
   "metadata": {
    "ExecuteTime": {
     "end_time": "2020-07-16T17:26:14.862731Z",
     "start_time": "2020-07-16T17:26:12.672451Z"
    }
   },
   "outputs": [],
   "source": [
    "g = GaiaData(os.path.expanduser('~/data/GaiaDR2/rv-good-plx.fits'))"
   ]
  },
  {
   "cell_type": "code",
   "execution_count": 5,
   "metadata": {
    "ExecuteTime": {
     "end_time": "2020-07-16T17:26:15.726617Z",
     "start_time": "2020-07-16T17:26:14.868398Z"
    }
   },
   "outputs": [
    {
     "data": {
      "text/plain": [
       "array([-6.93189151, 24.30123728, -9.50923957])"
      ]
     },
     "execution_count": 5,
     "metadata": {},
     "output_type": "execute_result"
    }
   ],
   "source": [
    "the_og = g[g.source_id == 1490845584382687232]\n",
    "v0 = the_og.get_skycoord().velocity.d_xyz.value.T[0]\n",
    "sigma_0 = 0.6  # km/s\n",
    "v0"
   ]
  },
  {
   "cell_type": "code",
   "execution_count": 6,
   "metadata": {
    "ExecuteTime": {
     "end_time": "2020-07-16T17:26:15.741216Z",
     "start_time": "2020-07-16T17:26:15.732607Z"
    }
   },
   "outputs": [],
   "source": [
    "def get_tangent_basis(ra, dec):\n",
    "    \"\"\"\n",
    "    row vectors are the tangent-space basis at (alpha, delta, r)\n",
    "    ra, dec in radians\n",
    "    \"\"\"\n",
    "    M = np.array([\n",
    "        [-np.sin(ra), np.cos(ra), 0.],\n",
    "        [-np.sin(dec)*np.cos(ra), -np.sin(dec)*np.sin(ra), np.cos(dec)],\n",
    "        [np.cos(dec)*np.cos(ra), np.cos(dec)*np.sin(ra), np.sin(dec)]\n",
    "    ])\n",
    "    return M"
   ]
  },
  {
   "cell_type": "code",
   "execution_count": 7,
   "metadata": {
    "ExecuteTime": {
     "end_time": "2020-07-16T17:26:15.765633Z",
     "start_time": "2020-07-16T17:26:15.744310Z"
    }
   },
   "outputs": [],
   "source": [
    "class UniformSpaceDensity(pm.Continuous):\n",
    "\n",
    "    def __init__(self, rlim, **kwargs):\n",
    "        \"\"\"A uniform space density prior over a distance, r, between (0, rlim)\n",
    "        \"\"\"\n",
    "\n",
    "        self.rlim = float(rlim)\n",
    "        assert (self.rlim > 0)\n",
    "        self._fac = np.log(3.) - 3 * np.log(self.rlim)\n",
    "\n",
    "        shape = kwargs.get(\"shape\", None)\n",
    "        if shape is None:\n",
    "            testval = 0.5 * self.rlim\n",
    "        else:\n",
    "            testval = 0.5 * self.rlim + np.zeros(shape)\n",
    "        kwargs[\"testval\"] = kwargs.pop(\"testval\", testval)\n",
    "        super(UniformSpaceDensity, self).__init__(**kwargs)\n",
    "\n",
    "    def _random(self, size=None):\n",
    "        uu = np.random.uniform(size=size)\n",
    "        return np.cbrt(uu) * self.rlim\n",
    "\n",
    "    def random(self, point=None, size=None):\n",
    "        return generate_samples(\n",
    "            self._random,\n",
    "            dist_shape=self.shape,\n",
    "            broadcast_shape=self.shape,\n",
    "            size=size,\n",
    "        )\n",
    "\n",
    "    def logp(self, value):\n",
    "        return 2 * tt.log(tt.as_tensor_variable(value)) + self._fac"
   ]
  },
  {
   "cell_type": "code",
   "execution_count": 144,
   "metadata": {
    "ExecuteTime": {
     "end_time": "2020-07-17T13:10:34.016141Z",
     "start_time": "2020-07-17T13:10:33.795862Z"
    }
   },
   "outputs": [],
   "source": [
    "xhip = at.Table.read('/Users/apricewhelan/data/Hipparcos/xhip.fits')\n",
    "xhip.meta = None\n",
    "\n",
    "pulkovo = at.Table.read('/Users/apricewhelan/data/Hipparcos/Pulkovo.fits')\n",
    "pulkovo.meta = None\n",
    "pulkovo.remove_columns(['eRV', '_RA', '_DE', 'recno'])\n",
    "\n",
    "joined = at.join(xhip, pulkovo, keys='HIP')"
   ]
  },
  {
   "cell_type": "code",
   "execution_count": 149,
   "metadata": {
    "ExecuteTime": {
     "end_time": "2020-07-17T13:12:28.540335Z",
     "start_time": "2020-07-17T13:12:22.621290Z"
    }
   },
   "outputs": [
    {
     "data": {
      "text/plain": [
       "(-50.0, 50.0)"
      ]
     },
     "execution_count": 149,
     "metadata": {},
     "output_type": "execute_result"
    },
    {
     "data": {
      "image/png": "[encoded data removed]",
      "text/plain": [
       "<Figure size 864x432 with 1 Axes>"
      ]
     },
     "metadata": {
      "image/png": {
       "height": 361,
       "width": 741
      },
      "needs_background": "light"
     },
     "output_type": "display_data"
    }
   ],
   "source": [
    "plt.figure(figsize=(12, 6))\n",
    "plt.errorbar(joined['RV_1'],\n",
    "             joined['RV_1'] - joined['RV_2'],\n",
    "             xerr=joined['e_RV_1'],\n",
    "             yerr=np.sqrt(joined['e_RV_1']**2 + joined['e_RV_2']**2),\n",
    "             ls='none')\n",
    "plt.xlim(-400, 400)\n",
    "plt.ylim(-50, 50)"
   ]
  },
  {
   "cell_type": "code",
   "execution_count": 140,
   "metadata": {
    "ExecuteTime": {
     "end_time": "2020-07-16T20:28:12.319588Z",
     "start_time": "2020-07-16T20:28:10.675763Z"
    }
   },
   "outputs": [
    {
     "data": {
      "text/plain": [
       "11259"
      ]
     },
     "execution_count": 140,
     "metadata": {},
     "output_type": "execute_result"
    }
   ],
   "source": [
    "# hip = at.QTable.read('/Users/apricewhelan/data/Hipparcos/hip2.fits')\n",
    "# hip = hip[hip['Plx'] > 0]\n",
    "hip = at.QTable.read('/Users/apricewhelan/data/GaiaDR2/gaia-hipparcos.fits.gz')\n",
    "hip = hip[~np.isfinite(hip['radial_velocity'])]\n",
    "hip.rename_column('hip', 'HIP')\n",
    "\n",
    "xhip = at.Table.read('/Users/apricewhelan/data/Hipparcos/xhip.fits')\n",
    "xhip.meta = None\n",
    "\n",
    "pulkovo = at.Table.read('/Users/apricewhelan/data/Hipparcos/Pulkovo.fits')\n",
    "pulkovo.meta = None\n",
    "pulkovo.remove_columns(['eRV', '_RA', '_DE', 'recno'])\n",
    "pulkovo['q_RV'] = 3\n",
    "xhip = at.vstack((xhip, pulkovo[~np.isin(pulkovo['HIP'], xhip['HIP'])]))\n",
    "\n",
    "hip = at.join(hip, xhip, keys='HIP', \n",
    "              uniq_col_name='{col_name}{table_name}',\n",
    "              table_names=['', '_2'])\n",
    "hip = hip[np.isfinite(hip['RV']) & np.isfinite(hip['e_RV'])]\n",
    "# hip.remove_column('F1')\n",
    "len(hip)"
   ]
  },
  {
   "cell_type": "code",
   "execution_count": 111,
   "metadata": {
    "ExecuteTime": {
     "end_time": "2020-07-16T19:59:03.359712Z",
     "start_time": "2020-07-16T19:59:03.349092Z"
    }
   },
   "outputs": [],
   "source": [
    "hip_c = coord.SkyCoord(hip['RArad'], hip['DErad'],\n",
    "                       distance=coord.Distance(parallax=hip['Plx']),\n",
    "                       pm_ra_cosdec=hip['pmRA'],\n",
    "                       pm_dec=hip['pmDE'],\n",
    "                       radial_velocity=hip['RV'])"
   ]
  },
  {
   "cell_type": "code",
   "execution_count": 112,
   "metadata": {
    "ExecuteTime": {
     "end_time": "2020-07-16T19:59:06.384554Z",
     "start_time": "2020-07-16T19:59:05.951497Z"
    }
   },
   "outputs": [
    {
     "data": {
      "image/png": "[encoded data removed]",
      "text/plain": [
       "<Figure size 432x288 with 1 Axes>"
      ]
     },
     "metadata": {
      "image/png": {
       "height": 252,
       "width": 391
      },
      "needs_background": "light"
     },
     "output_type": "display_data"
    }
   ],
   "source": [
    "plt.hist(hip['Hpmag'].value, bins=np.linspace(-5, 7, 64));\n",
    "plt.yscale('log')"
   ]
  },
  {
   "cell_type": "code",
   "execution_count": 125,
   "metadata": {
    "ExecuteTime": {
     "end_time": "2020-07-16T20:01:03.414113Z",
     "start_time": "2020-07-16T20:01:03.304910Z"
    }
   },
   "outputs": [],
   "source": [
    "filename = '../data/hip_stars_near_theOG.csv'\n",
    "if os.path.exists(filename):\n",
    "    prev = at.QTable.read(filename, format='ascii.ecsv')\n",
    "else:\n",
    "    prev = None # For first run"
   ]
  },
  {
   "cell_type": "code",
   "execution_count": 114,
   "metadata": {
    "ExecuteTime": {
     "end_time": "2020-07-16T19:59:17.931306Z",
     "start_time": "2020-07-16T19:59:17.896249Z"
    }
   },
   "outputs": [
    {
     "data": {
      "text/plain": [
       "(7555, 6376, 40)"
      ]
     },
     "execution_count": 114,
     "metadata": {},
     "output_type": "execute_result"
    }
   ],
   "source": [
    "c = hip_c\n",
    "the_og_c = the_og.get_skycoord()[0]\n",
    "\n",
    "sep3d_mask = c.separation_3d(the_og_c) < 70*u.pc\n",
    "vel3d_mask = (c.velocity - the_og_c.velocity).norm() < 15*u.km/u.s\n",
    "xv_mask = vel3d_mask & sep3d_mask\n",
    "\n",
    "if prev is not None:\n",
    "    not_prev_mask = ~np.isin(hip['HIP'], prev['HIP'])\n",
    "    xv_mask &= not_prev_mask\n",
    "\n",
    "sep3d_mask.sum(), vel3d_mask.sum(), xv_mask.sum()"
   ]
  },
  {
   "cell_type": "code",
   "execution_count": 115,
   "metadata": {
    "ExecuteTime": {
     "end_time": "2020-07-16T19:59:22.633174Z",
     "start_time": "2020-07-16T19:59:22.624829Z"
    }
   },
   "outputs": [],
   "source": [
    "C = np.zeros((xv_mask.sum(), 4, 4))\n",
    "C[:, 0, 0] = hip['e_Plx'][xv_mask].to_value(u.mas) ** 2\n",
    "C[:, 1, 1] = hip['e_pmRA'][xv_mask].to_value(u.mas/u.yr) ** 2\n",
    "C[:, 2, 2] = hip['e_pmDE'][xv_mask].to_value(u.mas/u.yr) ** 2\n",
    "C[:, 3, 3] = hip['e_RV'][xv_mask].to_value(u.km/u.s) ** 2\n",
    "\n",
    "Cinvs = np.zeros((xv_mask.sum(), 4, 4))\n",
    "for i in range(3):\n",
    "    Cinvs[:, i, i] = 1 / C[:, i, i]"
   ]
  },
  {
   "cell_type": "code",
   "execution_count": 116,
   "metadata": {
    "ExecuteTime": {
     "end_time": "2020-07-16T19:59:23.255169Z",
     "start_time": "2020-07-16T19:59:23.240983Z"
    }
   },
   "outputs": [
    {
     "data": {
      "text/plain": [
       "((40, 4, 4), (40, 3, 3), (40, 4))"
      ]
     },
     "execution_count": 116,
     "metadata": {},
     "output_type": "execute_result"
    }
   ],
   "source": [
    "N = xv_mask.sum()\n",
    "\n",
    "ra = c[xv_mask].ra.to_value(u.rad)\n",
    "dec = c[xv_mask].dec.to_value(u.rad)\n",
    "M = np.stack([get_tangent_basis(ra[i], dec[i]) for i in range(N)])\n",
    "y = np.stack([hip['Plx'][xv_mask].to_value(u.mas),\n",
    "              hip['pmRA'][xv_mask].to_value(u.mas/u.yr),\n",
    "              hip['pmDE'][xv_mask].to_value(u.mas/u.yr),\n",
    "              hip['RV'][xv_mask].to_value(u.km/u.s)], \n",
    "             axis=1)\n",
    "\n",
    "C.shape, M.shape, y.shape"
   ]
  },
  {
   "cell_type": "code",
   "execution_count": 117,
   "metadata": {
    "ExecuteTime": {
     "end_time": "2020-07-16T19:59:24.497401Z",
     "start_time": "2020-07-16T19:59:24.489815Z"
    }
   },
   "outputs": [],
   "source": [
    "test_vxyz = c.velocity.d_xyz.value.T[xv_mask]\n",
    "test_d = c.distance.value[xv_mask]"
   ]
  },
  {
   "cell_type": "code",
   "execution_count": 118,
   "metadata": {
    "ExecuteTime": {
     "end_time": "2020-07-16T19:59:27.340390Z",
     "start_time": "2020-07-16T19:59:25.370197Z"
    }
   },
   "outputs": [],
   "source": [
    "sigma_thin = 20.  # np.array([15, 35, 20.])\n",
    "sigma_thik = 50.\n",
    "sigma_halo = 125.  # np.full(3, 125.)  # km/s\n",
    "\n",
    "# Number of prior mixture components:\n",
    "K = 4\n",
    "with pm.Model() as model:\n",
    "    # r = pm.Uniform(\"r\", 1, 500, shape=N, testval=test_d)\n",
    "    r = UniformSpaceDensity(\"r\", 2000, shape=N, testval=test_d)\n",
    "    \n",
    "    # Mixture model for 3D velocity\n",
    "    w = pm.Dirichlet('w', a=np.ones(K))\n",
    "    \n",
    "    _v0 = pm.Normal.dist(v0, np.full(3, sigma_0), \n",
    "                         shape=(N, 3))\n",
    "    _v1 = pm.Normal.dist(vthin, sigma_thin, \n",
    "                         shape=(N, 3))\n",
    "    _v2 = pm.Normal.dist(vthik, sigma_thik, \n",
    "                         shape=(N, 3))\n",
    "    _v3 = pm.Normal.dist(vhalo, sigma_halo, \n",
    "                         shape=(N, 3))\n",
    "    vxyz = pm.Mixture('vxyz', w=w, comp_dists=[_v0, _v1, _v2, _v3], \n",
    "                      testval=test_vxyz, shape=(N, 3)) \n",
    "    \n",
    "    v0_logp = pm.Deterministic('v0_logp', _v0.logp(vxyz))\n",
    "    v1_logp = pm.Deterministic('v1_logp', _v1.logp(vxyz))\n",
    "    v2_logp = pm.Deterministic('v2_logp', _v2.logp(vxyz))\n",
    "    v3_logp = pm.Deterministic('v3_logp', _v3.logp(vxyz))\n",
    "    \n",
    "    # Velocity in tangent plane coordinates\n",
    "    vtan = tt.batched_dot(M, vxyz)\n",
    "    \n",
    "    model_pm = vtan[:, :2] / r[:, None] * pc_mas_yr_per_km_s\n",
    "    model_rv = vtan[:, 2:3]\n",
    "    model_y = tt.concatenate((1000 / r[:, None], model_pm, model_rv), axis=1)\n",
    "    \n",
    "    # Option 3:\n",
    "    dy = model_y - y\n",
    "    val = -0.5 * tt.batched_dot(dy, tt.batched_dot(Cinvs, dy))\n",
    "\n",
    "    pm.Potential(\"more_logp\", val)"
   ]
  },
  {
   "cell_type": "code",
   "execution_count": 119,
   "metadata": {
    "ExecuteTime": {
     "end_time": "2020-07-16T19:59:31.536261Z",
     "start_time": "2020-07-16T19:59:28.625506Z"
    }
   },
   "outputs": [
    {
     "name": "stderr",
     "output_type": "stream",
     "text": [
      "optimizing logp for variables: [vxyz, w, r]\n"
     ]
    },
    {
     "data": {
      "application/vnd.jupyter.widget-view+json": {
       "model_id": "1c4e96eaf2be47fb85eccd3a40522173",
       "version_major": 2,
       "version_minor": 0
      },
      "text/plain": [
       "HBox(children=(FloatProgress(value=1.0, bar_style='info', max=1.0), HTML(value='')))"
      ]
     },
     "metadata": {},
     "output_type": "display_data"
    },
    {
     "name": "stdout",
     "output_type": "stream",
     "text": [
      "\n"
     ]
    },
    {
     "name": "stderr",
     "output_type": "stream",
     "text": [
      "message: Optimization terminated successfully.\n",
      "logp: -1102.7552324006374 -> -983.8969803404932\n"
     ]
    }
   ],
   "source": [
    "with model:\n",
    "    res = xo.optimize(start={'w': np.ones(K), \n",
    "                             'r': test_d,\n",
    "                             'vxyz': test_vxyz})"
   ]
  },
  {
   "cell_type": "code",
   "execution_count": 120,
   "metadata": {
    "ExecuteTime": {
     "end_time": "2020-07-16T19:59:33.291594Z",
     "start_time": "2020-07-16T19:59:33.289202Z"
    }
   },
   "outputs": [],
   "source": [
    "# res['r'] / test_d"
   ]
  },
  {
   "cell_type": "code",
   "execution_count": 121,
   "metadata": {
    "ExecuteTime": {
     "end_time": "2020-07-16T19:59:34.413399Z",
     "start_time": "2020-07-16T19:59:34.409474Z"
    }
   },
   "outputs": [],
   "source": [
    "logps = np.zeros((N, K))\n",
    "for k in range(K):\n",
    "    logps[:, k] = res[f'v{k}_logp'].sum(axis=1)"
   ]
  },
  {
   "cell_type": "code",
   "execution_count": 122,
   "metadata": {
    "ExecuteTime": {
     "end_time": "2020-07-16T19:59:36.659711Z",
     "start_time": "2020-07-16T19:59:36.657181Z"
    }
   },
   "outputs": [],
   "source": [
    "# for i in range(3):\n",
    "#     _x = test_vxyz[:, i]\n",
    "#     print(1.5 * np.median(np.abs(_x - np.median(_x))),\n",
    "#           np.median(_x))\n",
    "#     plt.hist(test_vxyz[:, i],\n",
    "#              bins=np.linspace(-100, 100, 64), alpha=0.4, label=str(i),\n",
    "#              density=True);\n",
    "    \n",
    "#     _grid = np.linspace(-100, 100, 1000)\n",
    "#     plt.plot(_grid, norm.pdf(_grid, vdisk[i], sigma_disk[i]), marker='')\n",
    "    \n",
    "# plt.legend(loc='best')"
   ]
  },
  {
   "cell_type": "code",
   "execution_count": 123,
   "metadata": {
    "ExecuteTime": {
     "end_time": "2020-07-16T19:59:36.986009Z",
     "start_time": "2020-07-16T19:59:36.981314Z"
    }
   },
   "outputs": [
    {
     "data": {
      "text/plain": [
       "2"
      ]
     },
     "execution_count": 123,
     "metadata": {},
     "output_type": "execute_result"
    }
   ],
   "source": [
    "prob = np.exp(logps[:, 0] - logsumexp(logps, axis=1))\n",
    "(prob > 0.5).sum()"
   ]
  },
  {
   "cell_type": "code",
   "execution_count": 132,
   "metadata": {
    "ExecuteTime": {
     "end_time": "2020-07-16T20:02:05.927287Z",
     "start_time": "2020-07-16T20:02:05.561101Z"
    },
    "scrolled": true
   },
   "outputs": [],
   "source": [
    "tmp = hip[xv_mask].copy()\n",
    "tmp['prob'] = prob\n",
    "if prev is not None:\n",
    "    all_tbl = at.QTable(at.vstack((at.Table(prev), at.Table(tmp))))\n",
    "else:\n",
    "    all_tbl = tmp\n",
    "all_tbl.write('../data/hip_stars_near_theOG.csv', format='ascii.ecsv', overwrite=True)"
   ]
  },
  {
   "cell_type": "code",
   "execution_count": null,
   "metadata": {},
   "outputs": [],
   "source": []
  },
  {
   "cell_type": "markdown",
   "metadata": {},
   "source": [
    "---\n",
    "\n",
    "OLD"
   ]
  },
  {
   "cell_type": "code",
   "execution_count": 321,
   "metadata": {
    "ExecuteTime": {
     "end_time": "2020-07-16T17:25:31.104779Z",
     "start_time": "2020-07-16T17:25:30.910966Z"
    }
   },
   "outputs": [],
   "source": [
    "hip = at.QTable.read('/Users/apricewhelan/data/Hipparcos/hip2.fits')\n",
    "hip = hip[hip['Plx'] > 0]"
   ]
  },
  {
   "cell_type": "code",
   "execution_count": 322,
   "metadata": {
    "ExecuteTime": {
     "end_time": "2020-07-16T17:25:35.488844Z",
     "start_time": "2020-07-16T17:25:35.382714Z"
    }
   },
   "outputs": [],
   "source": [
    "brightbois = at.Table.read('/Users/apricewhelan/data/Hipparcos/Bright-star-catalog.fit')\n",
    "brightbois = brightbois[np.isfinite(brightbois['RAJ2000'])]\n",
    "bb_c = coord.SkyCoord(brightbois['RAJ2000'],\n",
    "                      brightbois['DEJ2000'])"
   ]
  },
  {
   "cell_type": "code",
   "execution_count": 302,
   "metadata": {
    "ExecuteTime": {
     "end_time": "2020-07-15T21:36:50.019772Z",
     "start_time": "2020-07-15T21:36:49.613066Z"
    }
   },
   "outputs": [],
   "source": [
    "idx, sep2d, _ = hip_c.match_to_catalog_sky(bb_c)"
   ]
  },
  {
   "cell_type": "code",
   "execution_count": 303,
   "metadata": {
    "ExecuteTime": {
     "end_time": "2020-07-15T21:36:50.089798Z",
     "start_time": "2020-07-15T21:36:50.053099Z"
    }
   },
   "outputs": [],
   "source": [
    "hip['radial_velocity'] = np.full(len(hip), np.nan) * u.km/u.s\n",
    "hip['radial_velocity'][sep2d < 10*u.arcsec] = brightbois['RadVel'][idx[sep2d < 10*u.arcsec]]"
   ]
  },
  {
   "cell_type": "code",
   "execution_count": 304,
   "metadata": {
    "ExecuteTime": {
     "end_time": "2020-07-15T21:36:50.185285Z",
     "start_time": "2020-07-15T21:36:50.106054Z"
    }
   },
   "outputs": [
    {
     "data": {
      "text/plain": [
       "123"
      ]
     },
     "execution_count": 304,
     "metadata": {},
     "output_type": "execute_result"
    }
   ],
   "source": [
    "hip_c = coord.SkyCoord(hip['RArad'], hip['DErad'],\n",
    "                       distance=coord.Distance(parallax=hip['Plx']),\n",
    "                       pm_ra_cosdec=hip['pmRA'],\n",
    "                       pm_dec=hip['pmDE'],\n",
    "                       radial_velocity=hip['radial_velocity'])\n",
    "\n",
    "mask = ((hip_c.distance < 80*u.pc) & (hip_c.distance > 20*u.pc) &\n",
    "        (hip_c.pm_ra_cosdec < -40*u.mas/u.yr) & \n",
    "        (hip_c.pm_dec > -90*u.mas/u.yr) & \n",
    "        (hip_c.pm_dec < 10*u.mas/u.yr) & \n",
    "        (hip_c.ra > 150*u.deg) & (hip_c.ra < 260*u.deg) &\n",
    "        (hip_c.dec > 0*u.deg) & (hip_c.dec < 60*u.deg) &\n",
    "        (hip['Hpmag'] < 7.5*u.mag))\n",
    "mask.sum()"
   ]
  },
  {
   "cell_type": "code",
   "execution_count": 305,
   "metadata": {
    "ExecuteTime": {
     "end_time": "2020-07-15T21:36:50.897306Z",
     "start_time": "2020-07-15T21:36:50.864356Z"
    }
   },
   "outputs": [
    {
     "data": {
      "text/plain": [
       "23"
      ]
     },
     "execution_count": 305,
     "metadata": {},
     "output_type": "execute_result"
    }
   ],
   "source": [
    "hip_galcen = hip_c[mask].transform_to(coord.Galactocentric)\n",
    "hip_v_mask = ((hip_galcen.velocity - np.mean(galcen.velocity)).norm() < 10*u.km/u.s)\n",
    "hip_v_mask.sum()"
   ]
  },
  {
   "cell_type": "code",
   "execution_count": 309,
   "metadata": {
    "ExecuteTime": {
     "end_time": "2020-07-15T21:39:10.853927Z",
     "start_time": "2020-07-15T21:39:10.849870Z"
    }
   },
   "outputs": [],
   "source": [
    "mhp = hip['Hpmag'] - hip_c.distance.distmod\n",
    "BImag = hip['B-V']"
   ]
  },
  {
   "cell_type": "code",
   "execution_count": 312,
   "metadata": {
    "ExecuteTime": {
     "end_time": "2020-07-15T21:40:05.319592Z",
     "start_time": "2020-07-15T21:40:04.428280Z"
    }
   },
   "outputs": [
    {
     "data": {
      "text/plain": [
       "(7.5, -2.0)"
      ]
     },
     "execution_count": 312,
     "metadata": {},
     "output_type": "execute_result"
    },
    {
     "data": {
      "image/png": "[encoded data removed]",
      "text/plain": [
       "<Figure size 432x432 with 1 Axes>"
      ]
     },
     "metadata": {
      "image/png": {
       "height": 367,
       "width": 393
      },
      "needs_background": "light"
     },
     "output_type": "display_data"
    }
   ],
   "source": [
    "fig, ax = plt.subplots(1, 1, figsize=(6, 6))\n",
    "ax.scatter(BImag[mask][hip_v_mask], mhp[mask][hip_v_mask])\n",
    "\n",
    "for age in np.arange(7.4, 8.2+1e-3, 0.2):\n",
    "    iso = at.Table.read(f'/Users/apricewhelan/data/Isochrones/MIST/FeH_0.1_iso.fits')\n",
    "    i = iso[np.isclose(iso['log10_isochrone_age_yr'], age)] \n",
    "    i = i[i['phase'] < 4]  # rgb or before\n",
    "    ax.plot(i['Tycho_B']-i['Tycho_V'], i['Hipparcos_Hp'], \n",
    "            marker='', label=f'log10age=${age:.1f}$', zorder=-10)\n",
    "\n",
    "ax.set_xlim(-1, 2)\n",
    "ax.set_ylim(7.5, -2)"
   ]
  },
  {
   "cell_type": "code",
   "execution_count": 293,
   "metadata": {
    "ExecuteTime": {
     "end_time": "2020-07-15T21:34:47.372999Z",
     "start_time": "2020-07-15T21:34:47.348176Z"
    }
   },
   "outputs": [
    {
     "data": {
      "text/html": [
       "<i>QTable length=21</i>\n",
       "<table id=\"table140420430002640\" class=\"table-striped table-bordered table-condensed\">\n",
       "<thead><tr><th>HIP</th><th>Hpmag</th></tr></thead>\n",
       "<thead><tr><th></th><th>mag</th></tr></thead>\n",
       "<thead><tr><th>int32</th><th>float32</th></tr></thead>\n",
       "<tr><td>67301</td><td>1.7994</td></tr>\n",
       "<tr><td>72220</td><td>3.7371</td></tr>\n",
       "<tr><td>82673</td><td>4.3400</td></tr>\n",
       "<tr><td>76852</td><td>4.5337</td></tr>\n",
       "<tr><td>51056</td><td>4.7931</td></tr>\n",
       "<tr><td>55266</td><td>4.8035</td></tr>\n",
       "<tr><td>59819</td><td>5.1214</td></tr>\n",
       "<tr><td>75761</td><td>5.2203</td></tr>\n",
       "<tr><td>71618</td><td>5.4092</td></tr>\n",
       "<tr><td>82587</td><td>5.4157</td></tr>\n",
       "<tr><td>52422</td><td>5.5699</td></tr>\n",
       "<tr><td>80008</td><td>5.5709</td></tr>\n",
       "<tr><td>61968</td><td>5.5779</td></tr>\n",
       "<tr><td>59608</td><td>5.9207</td></tr>\n",
       "<tr><td>65241</td><td>5.9238</td></tr>\n",
       "<tr><td>67194</td><td>5.9497</td></tr>\n",
       "<tr><td>51200</td><td>6.0569</td></tr>\n",
       "<tr><td>71094</td><td>6.0679</td></tr>\n",
       "<tr><td>83494</td><td>6.1479</td></tr>\n",
       "<tr><td>58369</td><td>6.5035</td></tr>\n",
       "<tr><td>76291</td><td>6.6240</td></tr>\n",
       "</table>"
      ],
      "text/plain": [
       "<QTable length=21>\n",
       " HIP    Hpmag \n",
       "         mag  \n",
       "int32  float32\n",
       "------ -------\n",
       " 67301  1.7994\n",
       " 72220  3.7371\n",
       " 82673  4.3400\n",
       " 76852  4.5337\n",
       " 51056  4.7931\n",
       " 55266  4.8035\n",
       " 59819  5.1214\n",
       " 75761  5.2203\n",
       " 71618  5.4092\n",
       " 82587  5.4157\n",
       " 52422  5.5699\n",
       " 80008  5.5709\n",
       " 61968  5.5779\n",
       " 59608  5.9207\n",
       " 65241  5.9238\n",
       " 67194  5.9497\n",
       " 51200  6.0569\n",
       " 71094  6.0679\n",
       " 83494  6.1479\n",
       " 58369  6.5035\n",
       " 76291  6.6240"
      ]
     },
     "execution_count": 293,
     "metadata": {},
     "output_type": "execute_result"
    }
   ],
   "source": [
    "derp = hip[mask][hip_v_mask][BImag[mask][hip_v_mask] < 1*u.mag]\n",
    "derp['HIP', 'Hpmag'][np.argsort(derp['Hpmag'])]"
   ]
  },
  {
   "cell_type": "code",
   "execution_count": null,
   "metadata": {},
   "outputs": [],
   "source": []
  }
 ],
 "metadata": {
  "kernelspec": {
   "display_name": "Python [conda env:root] *",
   "language": "python",
   "name": "conda-root-py"
  },
  "language_info": {
   "codemirror_mode": {
    "name": "ipython",
    "version": 3
   },
   "file_extension": ".py",
   "mimetype": "text/x-python",
   "name": "python",
   "nbconvert_exporter": "python",
   "pygments_lexer": "ipython3",
   "version": "3.7.7"
  },
  "toc": {
   "base_numbering": 1,
   "nav_menu": {},
   "number_sections": true,
   "sideBar": true,
   "skip_h1_title": false,
   "title_cell": "Table of Contents",
   "title_sidebar": "Contents",
   "toc_cell": false,
   "toc_position": {},
   "toc_section_display": true,
   "toc_window_display": false
  }
 },
 "nbformat": 4,
 "nbformat_minor": 4
}
