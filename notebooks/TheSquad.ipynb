{
 "cells": [
  {
   "cell_type": "code",
   "execution_count": null,
   "metadata": {},
   "outputs": [],
   "source": [
    "import pandas as pd\n",
    "pd.set_option('display.max_colwidth', -1)"
   ]
  },
  {
   "cell_type": "code",
   "execution_count": null,
   "metadata": {},
   "outputs": [],
   "source": [
    "from astroquery.vizier import Vizier\n",
    "from astropy.coordinates import SkyCoord, Angle, match_coordinates_3d\n",
    "import astropy.units as u\n",
    "from astropy.table import Table\n",
    "from tqdm.notebook import tqdm"
   ]
  },
  {
   "cell_type": "code",
   "execution_count": null,
   "metadata": {},
   "outputs": [],
   "source": [
    "from astropy.io import fits\n",
    "import astropy.units as u\n",
    "\n",
    "import matplotlib.pyplot as plt\n",
    "import numpy as np\n",
    "import lightkurve as lk\n",
    "import astropy.units as u\n",
    "\n",
    "import pyia\n",
    "plt.style.use('seaborn-white')"
   ]
  },
  {
   "cell_type": "code",
   "execution_count": null,
   "metadata": {},
   "outputs": [],
   "source": [
    "hdulist = fits.open('TheOGGroup.fits')"
   ]
  },
  {
   "cell_type": "code",
   "execution_count": null,
   "metadata": {},
   "outputs": [],
   "source": [
    "df = Table(hdulist[1].data).to_pandas().sort_values('phot_g_mean_mag').reset_index(drop=True)"
   ]
  },
  {
   "cell_type": "code",
   "execution_count": null,
   "metadata": {},
   "outputs": [],
   "source": [
    "df[['phot_g_mean_mag', 'source_id']]"
   ]
  },
  {
   "cell_type": "code",
   "execution_count": null,
   "metadata": {},
   "outputs": [],
   "source": [
    "\n",
    "fig, ax = plt.subplots(len(df), figsize=(12, len(df) * 1.5), sharex=True, sharey=True)\n",
    "plt.subplots_adjust(hspace=0)\n",
    "fig2, ax2 = plt.subplots(len(df), figsize=(6, len(df) * 1.5), sharex=True)\n",
    "plt.subplots_adjust(hspace=0)\n",
    "\n",
    "all_lcs = []\n",
    "for idx, d in df.iterrows():\n",
    "    ra, dec = d.ra, d.dec\n",
    "    sr = lk.search_lightcurvefile('{} {}'.format(ra, dec))\n",
    "    \n",
    "    if len(sr) == 0:\n",
    "        sr = lk.search_tesscut('{} {}'.format(ra, dec))\n",
    "        if len(sr) == 0:\n",
    "            continue\n",
    "        tpf = sr.download_all(cutout_size=(10, 11))[0]\n",
    "        aper = tpf.create_threshold_mask()\n",
    "        r = lk.correctors.TessPLDCorrector(tpf, aperture_mask=aper)\n",
    "        lc = r.correct(pixel_components=3, sigma=3).normalize()\n",
    "\n",
    "        #lc = (lc - r.diagnostic_lightcurves['pix']).normalize()\n",
    "    else:\n",
    "        lcs = sr.download_all(quality_bitmask=None)\n",
    "        lc = lcs.PDCSAP_FLUX.stitch().remove_nans().normalize()#.bin(15, method='mean')\n",
    "        \n",
    "    if lc.label in ['TIC 27491137', 'TIC 180695581']:\n",
    "        c = 'r'\n",
    "    else:\n",
    "        c = 'k'\n",
    "    df.loc[idx, 'TIC_ID'] = lc.label\n",
    "    lc.label = '{}'.format(int(d.source_id))\n",
    "    lc.remove_outliers(100).errorbar(ax=ax[idx], c=c, label=lc.label)\n",
    "    ax[idx].legend()\n",
    "    per = lc.to_periodogram(minimum_period=0.1, maximum_period=15, oversample_factor=10)\n",
    "    df.loc[idx, 'period'] = per.period_at_max_power.value\n",
    "    df.loc[idx, 'amp'] = np.nanpercentile(lc.flux, 90) - np.nanpercentile(lc.flux, 10)\n",
    "\n",
    "    lc.remove_outliers(100).fold(per.period_at_max_power.value).errorbar(ax=ax2[idx], c=c, label=lc.label, alpha=0.5)\n",
    "    ax2[idx].legend()\n",
    "    lc.meta['gaia'] = d\n",
    "    all_lcs.append(lc)"
   ]
  },
  {
   "cell_type": "code",
   "execution_count": null,
   "metadata": {},
   "outputs": [],
   "source": [
    "fig.savefig('lcs.png', dpi=200)"
   ]
  },
  {
   "cell_type": "code",
   "execution_count": null,
   "metadata": {},
   "outputs": [],
   "source": [
    "fig2.savefig('lcs_folded.png', dpi=200)"
   ]
  },
  {
   "cell_type": "code",
   "execution_count": null,
   "metadata": {},
   "outputs": [],
   "source": [
    "for idx, d in df.iterrows():\n",
    "    ra, dec = d.ra, d.dec\n",
    "    result = Vizier.query_region(SkyCoord('{} {}'.format(ra, dec), unit='deg'), radius=Angle(10, \"arcsec\"), catalog=['J/A+A/588/A103/cat2rxs'])\n",
    "    if len(result) != 0:\n",
    "        df.loc[idx, 'xraycounts'] = (result[0]['Cts'].data.data[0])"
   ]
  },
  {
   "cell_type": "code",
   "execution_count": null,
   "metadata": {},
   "outputs": [],
   "source": [
    "df.to_csv('preliminary_table.csv', index=False)"
   ]
  },
  {
   "cell_type": "code",
   "execution_count": null,
   "metadata": {},
   "outputs": [],
   "source": [
    "og = (df.source_id == 1490845584382687232)\n",
    "twin = df.source_id == 1476485996883837184"
   ]
  },
  {
   "cell_type": "code",
   "execution_count": null,
   "metadata": {},
   "outputs": [],
   "source": [
    "g = pyia.GaiaData(Table.from_pandas(df))"
   ]
  },
  {
   "cell_type": "code",
   "execution_count": null,
   "metadata": {},
   "outputs": [],
   "source": [
    "bprp, mg = g.phot_bp_mean_mag - g.phot_rp_mean_mag, g.phot_g_mean_mag - g.distmod\n",
    "\n",
    "fig, ax = plt.subplots(1, 1, figsize=(5, 5))\n",
    "\n",
    "#k = ~np.isfinite(df.period)\n",
    "#im = ax.scatter(bprp[k], mg[k], c='grey', marker='o')\n",
    "\n",
    "im = ax.scatter(bprp[og], mg[og], c='r', marker='o', s=100, zorder=-10)\n",
    "im = ax.scatter(bprp[twin], mg[twin], c='r', marker='o', s=100, zorder=-10)\n",
    "\n",
    "plt.text(bprp[og].value, mg[og].value, '   TIC 2749', c='r')\n",
    "plt.text(bprp[twin].value, mg[twin].value, '   TOI-1807', c='r')\n",
    "\n",
    "im = ax.scatter(bprp, mg, c='k')\n",
    "#cbar = plt.colorbar(im, ax=ax)\n",
    "#cbar.set_label('Period [d]')\n",
    "\n",
    "ax.set_xlim(0, 3)\n",
    "ax.set_ylim(10, 3)\n",
    "\n",
    "ax.set_xlabel(r'$G_{\\rm BP}-G_{\\rm RP}$')\n",
    "ax.set_ylabel('$M_G$')\n",
    "\n",
    "fig.set_facecolor('w')\n",
    "fig.tight_layout()\n",
    "plt.title(\"Young Moving Group\")"
   ]
  },
  {
   "cell_type": "code",
   "execution_count": null,
   "metadata": {},
   "outputs": [],
   "source": [
    "bprp, mg = g.phot_bp_mean_mag - g.phot_rp_mean_mag, g.phot_g_mean_mag #- g.distmod\n",
    "\n",
    "fig, ax = plt.subplots(1, 1, figsize=(5, 5))\n",
    "\n",
    "#k = ~np.isfinite(df.period)\n",
    "#im = ax.scatter(bprp[k], mg[k], c='grey', marker='o')\n",
    "\n",
    "im = ax.scatter(bprp[og], mg[og], c='r', marker='o', s=100, zorder=-10)\n",
    "im = ax.scatter(bprp[twin], mg[twin], c='r', marker='o', s=100, zorder=-10)\n",
    "\n",
    "plt.text(bprp[og].value, mg[og].value, '   TIC 2749', c='r')\n",
    "plt.text(bprp[twin].value, mg[twin].value, '   TOI-1807', c='r')\n",
    "\n",
    "im = ax.scatter(bprp, mg, c='k')\n",
    "#cbar = plt.colorbar(im, ax=ax)\n",
    "#cbar.set_label('Period [d]')\n",
    "\n",
    "ax.set_xlim(0, 3)\n",
    "ax.set_ylim(13, 7)\n",
    "\n",
    "ax.set_xlabel(r'$G_{\\rm BP}-G_{\\rm RP}$')\n",
    "ax.set_ylabel('Gaia G Mag')\n",
    "\n",
    "fig.set_facecolor('w')\n",
    "fig.tight_layout()\n",
    "plt.title(\"Young Moving Group\")"
   ]
  },
  {
   "cell_type": "code",
   "execution_count": null,
   "metadata": {},
   "outputs": [],
   "source": [
    "fig = plt.figure()\n",
    "plt.scatter(df.teff_val, df.period, c=df.phot_g_mean_mag, cmap='viridis_r')\n",
    "plt.colorbar()\n",
    "plt.scatter(df.teff_val[og], df.period[og], c='r', s=100, zorder=-1)\n",
    "plt.scatter(df.teff_val[twin], df.period[twin], c='r', s=100, zorder=-1)\n",
    "\n",
    "plt.text(df.teff_val[og], df.period[og], 'TIC 2749', color='r')\n",
    "plt.text(df.teff_val[twin], df.period[twin], 'TOI 1807', color='r')\n",
    "\n",
    "plt.xlim(7000, 3000)\n",
    "plt.ylim(0, 15)\n",
    "plt.xlabel('Effective Temperature')\n",
    "plt.ylabel('Period')\n",
    "fig.savefig('color-period.png', dpi=200)"
   ]
  },
  {
   "cell_type": "code",
   "execution_count": null,
   "metadata": {},
   "outputs": [],
   "source": [
    "fig = plt.figure()\n",
    "#plt.scatter(pl2['B'] - pl2['R'], pl2.period, c='k', s=5)\n",
    "plt.scatter(df.teff_val, df.period, c=df.xraycounts, cmap='GnBu', vmin=0, vmax=50)\n",
    "cbar = plt.colorbar()\n",
    "cbar.set_label('X-Ray Source Count Rate [ct/s] (2RXS ROSAT)')\n",
    "k = ~np.isfinite(df.xraycounts)\n",
    "plt.scatter(df.teff_val[k], df.period[k], c='grey', vmin=0, vmax=50, s=20, zorder=-10, marker='x')\n",
    "\n",
    "plt.scatter(df.teff_val[og], df.period[og], c='r', s=100, zorder=-1)\n",
    "plt.scatter(df.teff_val[twin], df.period[twin], c='r', s=100, zorder=-1)\n",
    "\n",
    "plt.text(df.teff_val[og], df.period[og], 'TIC 2749', color='r')\n",
    "plt.text(df.teff_val[twin], df.period[twin], 'TOI 1807', color='r')\n",
    "\n",
    "\n",
    "#plt.scatter(df.loc[0].teff_val, df.loc[0].period/2, marker='x', c='grey')\n",
    "plt.xlim(7000, 3000)\n",
    "plt.ylim(0, 15)\n",
    "plt.xlabel('Effective Temperature')\n",
    "plt.ylabel('Period')\n",
    "fig.savefig('xray-counts.png', dpi=200)"
   ]
  }
 ],
 "metadata": {
  "kernelspec": {
   "display_name": "Python 3",
   "language": "python",
   "name": "python3"
  },
  "language_info": {
   "codemirror_mode": {
    "name": "ipython",
    "version": 3
   },
   "file_extension": ".py",
   "mimetype": "text/x-python",
   "name": "python",
   "nbconvert_exporter": "python",
   "pygments_lexer": "ipython3",
   "version": "3.6.7"
  }
 },
 "nbformat": 4,
 "nbformat_minor": 2
}
