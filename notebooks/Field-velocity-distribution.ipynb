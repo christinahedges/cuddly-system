{
 "cells": [
  {
   "cell_type": "code",
   "execution_count": null,
   "metadata": {},
   "outputs": [],
   "source": [
    "import sys\n",
    "import os\n",
    "_path = os.path.abspath('../scripts/')\n",
    "if _path not in sys.path:\n",
    "    sys.path.append(_path)\n",
    "\n",
    "import astropy.coordinates as coord\n",
    "coord.galactocentric_frame_defaults.set('v4.0')\n",
    "import astropy.table as at\n",
    "import astropy.units as u\n",
    "import matplotlib as mpl\n",
    "import matplotlib.pyplot as plt\n",
    "%matplotlib inline\n",
    "import numpy as np\n",
    "\n",
    "from scipy.special import logsumexp\n",
    "\n",
    "from pyia import GaiaData\n",
    "import theano\n",
    "# theano.config.gcc.cxxflags = \"-fbracket-depth=16000\" # default is 256 - only need this on Mac??\n",
    "import pymc3 as pm\n",
    "import theano.tensor as tt\n",
    "import exoplanet as xo\n",
    "\n",
    "from model import FieldHelper"
   ]
  },
  {
   "cell_type": "markdown",
   "metadata": {},
   "source": [
    "Expected mean disk velocity in ICRS:"
   ]
  },
  {
   "cell_type": "code",
   "execution_count": null,
   "metadata": {},
   "outputs": [],
   "source": [
    "xtmp = coord.CartesianRepresentation(100, 0, 0, unit=u.km)\n",
    "vlsr = coord.CartesianDifferential(-(np.array([12.9, 245.6, 7.78]) - np.array([0, 234, 0])) * u.km/u.s)\n",
    "vthin = coord.SkyCoord(xtmp.with_differentials(vlsr), frame='galactic').icrs.velocity.d_xyz.value\n",
    "\n",
    "xtmp = coord.CartesianRepresentation(100, 0, 0, unit=u.km)\n",
    "vlsr = coord.CartesianDifferential(-(np.array([12.9, 245.6, 7.78]) - np.array([0, 200, 0])) * u.km/u.s)\n",
    "vthik = coord.SkyCoord(xtmp.with_differentials(vlsr), frame='galactic').icrs.velocity.d_xyz.value\n",
    "\n",
    "xtmp = coord.CartesianRepresentation(100, 0, 0, unit=u.km)\n",
    "vsun = coord.CartesianDifferential(-np.array([12.9, 245.6, 7.78]) * u.km/u.s)\n",
    "vhalo = coord.SkyCoord(xtmp.with_differentials(vsun), frame='galactic').icrs.velocity.d_xyz.value\n",
    "\n",
    "vthin, vthik, vhalo"
   ]
  },
  {
   "cell_type": "code",
   "execution_count": null,
   "metadata": {},
   "outputs": [],
   "source": [
    "vfield0 = np.stack([vthin, vthik, vhalo])\n",
    "sigvfield0 = np.stack([20., 50., 125.])"
   ]
  },
  {
   "cell_type": "code",
   "execution_count": null,
   "metadata": {},
   "outputs": [],
   "source": [
    "g = GaiaData('../data/150pc_MG12-result.fits.gz')"
   ]
  },
  {
   "cell_type": "code",
   "execution_count": null,
   "metadata": {},
   "outputs": [],
   "source": [
    "subg = g[np.isfinite(g.radial_velocity)]\n",
    "# subg = g\n",
    "subg = subg[np.random.choice(len(subg), size=1024, replace=False)]\n",
    "np.isfinite(subg.radial_velocity).sum()"
   ]
  },
  {
   "cell_type": "code",
   "execution_count": null,
   "metadata": {},
   "outputs": [],
   "source": [
    "for gg in [g, subg]:\n",
    "    c = gg.get_skycoord()\n",
    "\n",
    "    fig, axes = plt.subplots(1, 3, figsize=(15, 5), sharex=True, sharey=True)\n",
    "    for i in range(3):\n",
    "        ax = axes[i]\n",
    "\n",
    "        _x = c.velocity.d_xyz.value[i]\n",
    "        print(1.5 * np.nanmedian(np.abs(_x - np.nanmedian(_x))),\n",
    "              np.nanmedian(_x))\n",
    "        ax.hist(c.velocity.d_xyz.value[i],\n",
    "                bins=np.linspace(-150, 150, 64), alpha=0.4, label=str(i));\n",
    "\n",
    "        ax.axvline(vthin[i], color='tab:red', linestyle='--')\n",
    "        ax.axvline(vthik[i], color='tab:green', linestyle='--')\n",
    "\n",
    "    ax.legend(loc='best')\n",
    "#     ax.set_yscale('log')\n",
    "\n",
    "    fig.tight_layout()"
   ]
  },
  {
   "cell_type": "code",
   "execution_count": null,
   "metadata": {},
   "outputs": [],
   "source": [
    "from model import BaseHelper, UniformSpaceDensity, pc_mas_yr_per_km_s\n",
    "class FieldHelper(BaseHelper):\n",
    "\n",
    "    def get_model(self, vfield0, sigma_vfield0):\n",
    "        # Number of prior mixture components:\n",
    "        with pm.Model() as model:\n",
    "\n",
    "            # True distance:\n",
    "            rlim = 250.\n",
    "            BoundedR = pm.Bound(UniformSpaceDensity, lower=0, upper=rlim)\n",
    "            r = BoundedR(\"r\", rlim, shape=(self.N, 1))\n",
    "\n",
    "            # Milky Way velocity distribution\n",
    "            K = vfield0.shape[0]\n",
    "            w = pm.Dirichlet('w', a=np.ones(K))\n",
    "\n",
    "            # Set up means and variances:\n",
    "            meanvs = []\n",
    "            sigvs = []\n",
    "            for k in range(K):\n",
    "                vtmp = pm.Normal(f'vmean{k}', vfield0[k], 10., shape=3)  # HACK\n",
    "\n",
    "                BoundedNormal = pm.Bound(pm.Normal, lower=1.5, upper=5.3)\n",
    "                lnstmp = BoundedNormal(f'lns{k}',\n",
    "                                       np.log(sigma_vfield0[k]), 0.5)\n",
    "                stmp = pm.Deterministic(f'vsig{k}', tt.exp(lnstmp))\n",
    "\n",
    "                meanvs.append(vtmp)\n",
    "                sigvs.append(stmp)\n",
    "\n",
    "            pvdists = []\n",
    "            for k in range(K):\n",
    "                pvtmp = pm.Normal.dist(meanvs[k], sigvs[k], shape=3)\n",
    "                pvdists.append(pvtmp)\n",
    "            vxyz = pm.Mixture('vxyz', w=w,\n",
    "                              comp_dists=pvdists, shape=(self.N, 3))\n",
    "\n",
    "            # Velocity in tangent plane coordinates\n",
    "            vtan = tt.batched_dot(self.Ms, vxyz)\n",
    "\n",
    "            model_pm = vtan[:, :2] / r * pc_mas_yr_per_km_s\n",
    "            model_rv = vtan[:, 2:3]\n",
    "            model_y = tt.concatenate((1000 / r, model_pm, model_rv), axis=1)\n",
    "\n",
    "            pm.Deterministic('model_y', model_y)\n",
    "            # val = pm.MvNormal('like', mu=model_y, tau=Cinv, observed=y)\n",
    "            dy = self.ys - model_y\n",
    "            pm.Potential('chisq',\n",
    "                         -0.5 * tt.batched_dot(dy,\n",
    "                                               tt.batched_dot(self.Cinvs, dy)))\n",
    "\n",
    "        return model"
   ]
  },
  {
   "cell_type": "code",
   "execution_count": null,
   "metadata": {},
   "outputs": [],
   "source": [
    "helper = FieldHelper(subg)\n",
    "model = helper.get_model(vfield0, sigvfield0)"
   ]
  },
  {
   "cell_type": "code",
   "execution_count": null,
   "metadata": {},
   "outputs": [],
   "source": [
    "with model:\n",
    "    res = xo.optimize(start={'vxyz': helper.test_vxyz,\n",
    "                             'r': helper.test_r,\n",
    "                             'w': np.array([0.5, 0.4, 0.1]),\n",
    "                             'vmean0': vfield0[0],\n",
    "                             'vmean1': vfield0[1],\n",
    "                             'vmean2': vfield0[2],\n",
    "                             'lns0': np.log(sigvfield0[0]),\n",
    "                             'lns1': np.log(sigvfield0[1]),\n",
    "                             'lns2': np.log(sigvfield0[2])})"
   ]
  },
  {
   "cell_type": "code",
   "execution_count": null,
   "metadata": {},
   "outputs": [],
   "source": [
    "res['w']"
   ]
  },
  {
   "cell_type": "code",
   "execution_count": null,
   "metadata": {},
   "outputs": [],
   "source": [
    "res"
   ]
  },
  {
   "cell_type": "code",
   "execution_count": null,
   "metadata": {},
   "outputs": [],
   "source": [
    "from scipy.special import logsumexp\n",
    "from scipy.stats import multivariate_normal\n",
    "\n",
    "def logmixprob(vxyz):\n",
    "    ps = []\n",
    "    for k in range(3):\n",
    "        ps.append(multivariate_normal.logpdf(vxyz, res[f'vmean{k}'], \n",
    "                                             cov=np.eye(3)*res[f'vsig{k}']**2) + np.log(res['w'][k]))\n",
    "    return logsumexp(ps, axis=0)"
   ]
  },
  {
   "cell_type": "code",
   "execution_count": null,
   "metadata": {},
   "outputs": [],
   "source": [
    "c = g.get_skycoord()\n",
    "\n",
    "fig, axes = plt.subplots(1, 3, figsize=(15, 5), sharex=True, sharey=True)\n",
    "for i in range(3):\n",
    "    ax = axes[i]\n",
    "\n",
    "    _x = c.velocity.d_xyz.value[i]\n",
    "    print(1.5 * np.nanmedian(np.abs(_x - np.nanmedian(_x))),\n",
    "          np.nanmedian(_x))\n",
    "    ax.hist(c.velocity.d_xyz.value[i],\n",
    "            bins=np.linspace(-150, 150, 64), alpha=0.4, \n",
    "            label=str(i), color='k', density=True);\n",
    "\n",
    "    ax.axvline(vthin[i], color='tab:red', linestyle='--')\n",
    "    ax.axvline(vthik[i], color='tab:green', linestyle='--')\n",
    "    \n",
    "    vxyz = np.zeros((1024, 3))\n",
    "    vxyz[:, i] = np.linspace(-150, 150, vxyz.shape[0])\n",
    "    ax.plot(vxyz[:, i], np.exp(logmixprob(vxyz)), marker='') # TODO: why is this not normalized right? marginal?\n",
    "\n",
    "ax.legend(loc='best')\n",
    "\n",
    "fig.tight_layout()"
   ]
  },
  {
   "cell_type": "code",
   "execution_count": null,
   "metadata": {},
   "outputs": [],
   "source": []
  }
 ],
 "metadata": {
  "kernelspec": {
   "display_name": "conda-pymc3",
   "language": "python",
   "name": "conda-pymc3"
  },
  "language_info": {
   "codemirror_mode": {
    "name": "ipython",
    "version": 3
   },
   "file_extension": ".py",
   "mimetype": "text/x-python",
   "name": "python",
   "nbconvert_exporter": "python",
   "pygments_lexer": "ipython3",
   "version": "3.7.7"
  },
  "toc": {
   "base_numbering": 1,
   "nav_menu": {},
   "number_sections": true,
   "sideBar": true,
   "skip_h1_title": false,
   "title_cell": "Table of Contents",
   "title_sidebar": "Contents",
   "toc_cell": false,
   "toc_position": {},
   "toc_section_display": true,
   "toc_window_display": false
  }
 },
 "nbformat": 4,
 "nbformat_minor": 4
}
