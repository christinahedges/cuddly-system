{
 "cells": [
  {
   "cell_type": "code",
   "execution_count": null,
   "metadata": {},
   "outputs": [],
   "source": [
    "import os\n",
    "\n",
    "import astropy.coordinates as coord\n",
    "coord.galactocentric_frame_defaults.set('v4.0')\n",
    "import astropy.table as at\n",
    "import astropy.units as u\n",
    "import matplotlib as mpl\n",
    "import matplotlib.pyplot as plt\n",
    "%matplotlib inline\n",
    "import numpy as np\n",
    "\n",
    "# gala\n",
    "import gala.coordinates as gc\n",
    "import gala.dynamics as gd\n",
    "import gala.integrate as gi\n",
    "import gala.potential as gp\n",
    "from gala.units import galactic\n",
    "from scipy.special import logsumexp\n",
    "\n",
    "from pyia import GaiaData\n",
    "import theano\n",
    "theano.config.gcc.cxxflags = \"-fbracket-depth=16000\" # default is 256\n",
    "import pymc3 as pm\n",
    "import theano.tensor as tt\n",
    "import exoplanet as xo\n",
    "\n",
    "pm.__version__"
   ]
  },
  {
   "cell_type": "markdown",
   "metadata": {},
   "source": [
    "Expected mean disk velocity in ICRS:"
   ]
  },
  {
   "cell_type": "code",
   "execution_count": null,
   "metadata": {},
   "outputs": [],
   "source": [
    "xtmp = coord.CartesianRepresentation(100, 0, 0, unit=u.km)\n",
    "vlsr = coord.CartesianDifferential(-(np.array([12.9, 245.6, 7.78]) - np.array([0, 234, 0])) * u.km/u.s)\n",
    "vthin = coord.SkyCoord(xtmp.with_differentials(vlsr), frame='galactic').icrs.velocity.d_xyz.value\n",
    "\n",
    "xtmp = coord.CartesianRepresentation(100, 0, 0, unit=u.km)\n",
    "vlsr = coord.CartesianDifferential(-(np.array([12.9, 245.6, 7.78]) - np.array([0, 200, 0])) * u.km/u.s)\n",
    "vthik = coord.SkyCoord(xtmp.with_differentials(vlsr), frame='galactic').icrs.velocity.d_xyz.value\n",
    "\n",
    "xtmp = coord.CartesianRepresentation(100, 0, 0, unit=u.km)\n",
    "vsun = coord.CartesianDifferential(-np.array([12.9, 245.6, 7.78]) * u.km/u.s)\n",
    "vhalo = coord.SkyCoord(xtmp.with_differentials(vsun), frame='galactic').icrs.velocity.d_xyz.value\n",
    "\n",
    "vthin, vthik, vhalo"
   ]
  },
  {
   "cell_type": "code",
   "execution_count": null,
   "metadata": {},
   "outputs": [],
   "source": [
    "pc_mas_yr_per_km_s = (1 * u.km/u.s).to(u.pc*u.mas/u.yr, u.dimensionless_angles()).value\n",
    "km_s_per_pc_mas_yr = 1 / pc_mas_yr_per_km_s"
   ]
  },
  {
   "cell_type": "code",
   "execution_count": null,
   "metadata": {},
   "outputs": [],
   "source": [
    "g = GaiaData(os.path.expanduser('~/data/GaiaDR2/rv-good-plx.fits'))"
   ]
  },
  {
   "cell_type": "code",
   "execution_count": null,
   "metadata": {},
   "outputs": [],
   "source": [
    "the_og = g[g.source_id == 1490845584382687232]\n",
    "v0 = the_og.get_skycoord().velocity.d_xyz.value.T[0]\n",
    "sigma_0 = 0.6  # km/s\n",
    "v0"
   ]
  },
  {
   "cell_type": "code",
   "execution_count": null,
   "metadata": {},
   "outputs": [],
   "source": [
    "def get_tangent_basis(ra, dec):\n",
    "    \"\"\"\n",
    "    row vectors are the tangent-space basis at (alpha, delta, r)\n",
    "    ra, dec in radians\n",
    "    \"\"\"\n",
    "    M = np.array([\n",
    "        [-np.sin(ra), np.cos(ra), 0.],\n",
    "        [-np.sin(dec)*np.cos(ra), -np.sin(dec)*np.sin(ra), np.cos(dec)],\n",
    "        [np.cos(dec)*np.cos(ra), np.cos(dec)*np.sin(ra), np.sin(dec)]\n",
    "    ])\n",
    "    return M"
   ]
  },
  {
   "cell_type": "code",
   "execution_count": null,
   "metadata": {},
   "outputs": [],
   "source": [
    "class UniformSpaceDensity(pm.Continuous):\n",
    "\n",
    "    def __init__(self, rlim, **kwargs):\n",
    "        \"\"\"A uniform space density prior over a distance, r, between (0, rlim)\n",
    "        \"\"\"\n",
    "\n",
    "        self.rlim = float(rlim)\n",
    "        assert (self.rlim > 0)\n",
    "        self._fac = np.log(3.) - 3 * np.log(self.rlim)\n",
    "\n",
    "        shape = kwargs.get(\"shape\", None)\n",
    "        if shape is None:\n",
    "            testval = 0.5 * self.rlim\n",
    "        else:\n",
    "            testval = 0.5 * self.rlim + np.zeros(shape)\n",
    "        kwargs[\"testval\"] = kwargs.pop(\"testval\", testval)\n",
    "        super(UniformSpaceDensity, self).__init__(**kwargs)\n",
    "\n",
    "    def _random(self, size=None):\n",
    "        uu = np.random.uniform(size=size)\n",
    "        return np.cbrt(uu) * self.rlim\n",
    "\n",
    "    def random(self, point=None, size=None):\n",
    "        return generate_samples(\n",
    "            self._random,\n",
    "            dist_shape=self.shape,\n",
    "            broadcast_shape=self.shape,\n",
    "            size=size,\n",
    "        )\n",
    "\n",
    "    def logp(self, value):\n",
    "        return 2 * tt.log(tt.as_tensor_variable(value)) + self._fac"
   ]
  },
  {
   "cell_type": "code",
   "execution_count": null,
   "metadata": {},
   "outputs": [],
   "source": [
    "hip = at.QTable.read('/Users/apricewhelan/data/GaiaDR2/gaia-hipparcos.fits.gz')\n",
    "hip = hip[~np.isfinite(hip['radial_velocity'])]\n",
    "hip.rename_column('hip', 'HIP')\n",
    "\n",
    "xhip = at.Table.read('/Users/apricewhelan/data/Hipparcos/xhip.fits')\n",
    "xhip.meta = None\n",
    "\n",
    "pulkovo = at.Table.read('/Users/apricewhelan/data/Hipparcos/Pulkovo.fits')\n",
    "pulkovo.meta = None\n",
    "pulkovo.remove_columns(['eRV', '_RA', '_DE', 'recno'])\n",
    "pulkovo['q_RV'] = 3\n",
    "xhip = at.vstack((xhip, pulkovo[~np.isin(pulkovo['HIP'], xhip['HIP'])]))\n",
    "\n",
    "hip = at.join(hip, xhip, keys='HIP', \n",
    "              uniq_col_name='{col_name}{table_name}',\n",
    "              table_names=['', '_2'])\n",
    "hip = hip[np.isfinite(hip['RV']) & np.isfinite(hip['e_RV'])]\n",
    "\n",
    "hip['radial_velocity'] = hip['RV']\n",
    "hip['radial_velocity_error'] = hip['e_RV']\n",
    "\n",
    "hip = hip[hip['parallax'] > 0]\n",
    "len(hip)"
   ]
  },
  {
   "cell_type": "code",
   "execution_count": null,
   "metadata": {},
   "outputs": [],
   "source": [
    "g = GaiaData(hip)"
   ]
  },
  {
   "cell_type": "code",
   "execution_count": null,
   "metadata": {},
   "outputs": [],
   "source": [
    "plt.hist(hip['phot_g_mean_mag'].value, bins=np.linspace(-5, 7, 64));\n",
    "plt.yscale('log')"
   ]
  },
  {
   "cell_type": "code",
   "execution_count": null,
   "metadata": {},
   "outputs": [],
   "source": [
    "# filename = '../data/hip_stars_near_theOG.csv'\n",
    "# if os.path.exists(filename):\n",
    "#     prev = at.QTable.read(filename, format='ascii.ecsv')\n",
    "# else:\n",
    "#     prev = None # For first run\n",
    "prev = None # For first run"
   ]
  },
  {
   "cell_type": "code",
   "execution_count": null,
   "metadata": {},
   "outputs": [],
   "source": [
    "c = g.get_skycoord()\n",
    "the_og_c = the_og.get_skycoord()[0]\n",
    "\n",
    "sep3d_mask = c.separation_3d(the_og_c) < 70*u.pc\n",
    "vel3d_mask = (c.velocity - the_og_c.velocity).norm() < 15*u.km/u.s\n",
    "xv_mask = vel3d_mask & sep3d_mask\n",
    "\n",
    "subg = g[xv_mask]\n",
    "\n",
    "if prev is not None:\n",
    "    not_prev_mask = ~np.isin(subg.source_id, prev['source_id'])\n",
    "    subg = subg[not_prev_mask]\n",
    "\n",
    "sep3d_mask.sum(), vel3d_mask.sum(), xv_mask.sum(), len(subg)"
   ]
  },
  {
   "cell_type": "code",
   "execution_count": null,
   "metadata": {},
   "outputs": [],
   "source": [
    "Cs = subg.get_cov(units=dict(pmra=u.mas/u.yr, pmdec=u.mas/u.yr, radial_velocity=u.km/u.s))\n",
    "C = Cs[:, 2:, 2:]"
   ]
  },
  {
   "cell_type": "code",
   "execution_count": null,
   "metadata": {},
   "outputs": [],
   "source": [
    "N = len(subg)\n",
    "\n",
    "ra = subg.ra.to_value(u.rad)\n",
    "dec = subg.dec.to_value(u.rad)\n",
    "M = np.stack([get_tangent_basis(ra[i], dec[i]) for i in range(N)])\n",
    "y = np.stack([subg.parallax.value, \n",
    "              subg.pmra.value, \n",
    "              subg.pmdec.value, \n",
    "              subg.radial_velocity.value], \n",
    "             axis=1)\n",
    "\n",
    "Cinvs = np.stack([np.linalg.inv(C[n]) for n in range(N)], axis=0)\n",
    "\n",
    "C.shape, M.shape, y.shape"
   ]
  },
  {
   "cell_type": "code",
   "execution_count": null,
   "metadata": {},
   "outputs": [],
   "source": [
    "test_vxyz = subg.get_skycoord().velocity.d_xyz.value.T\n",
    "test_d = subg.distance.value"
   ]
  },
  {
   "cell_type": "code",
   "execution_count": null,
   "metadata": {},
   "outputs": [],
   "source": [
    "sigma_thin = 20.  # np.array([15, 35, 20.])\n",
    "sigma_thik = 50.\n",
    "sigma_halo = 125.  # np.full(3, 125.)  # km/s\n",
    "\n",
    "# Number of prior mixture components:\n",
    "K = 4\n",
    "with pm.Model() as model:\n",
    "    # r = pm.Uniform(\"r\", 1, 500, shape=N, testval=test_d)\n",
    "    r = UniformSpaceDensity(\"r\", 2000, shape=N, testval=test_d)\n",
    "    \n",
    "    # Mixture model for 3D velocity\n",
    "    w = pm.Dirichlet('w', a=np.ones(K))\n",
    "    \n",
    "    _v0 = pm.Normal.dist(v0, np.full(3, sigma_0), \n",
    "                         shape=(N, 3))\n",
    "    _v1 = pm.Normal.dist(vthin, sigma_thin, \n",
    "                         shape=(N, 3))\n",
    "    _v2 = pm.Normal.dist(vthik, sigma_thik, \n",
    "                         shape=(N, 3))\n",
    "    _v3 = pm.Normal.dist(vhalo, sigma_halo, \n",
    "                         shape=(N, 3))\n",
    "    vxyz = pm.Mixture('vxyz', w=w, comp_dists=[_v0, _v1, _v2, _v3], \n",
    "                      testval=test_vxyz, shape=(N, 3)) \n",
    "    \n",
    "    v0_logp = pm.Deterministic('v0_logp', _v0.logp(vxyz))\n",
    "    v1_logp = pm.Deterministic('v1_logp', _v1.logp(vxyz))\n",
    "    v2_logp = pm.Deterministic('v2_logp', _v2.logp(vxyz))\n",
    "    v3_logp = pm.Deterministic('v3_logp', _v3.logp(vxyz))\n",
    "    \n",
    "    # Velocity in tangent plane coordinates\n",
    "    vtan = tt.batched_dot(M, vxyz)\n",
    "    \n",
    "    model_pm = vtan[:, :2] / r[:, None] * pc_mas_yr_per_km_s\n",
    "    model_rv = vtan[:, 2:3]\n",
    "    model_y = tt.concatenate((1000 / r[:, None], model_pm, model_rv), axis=1)\n",
    "    \n",
    "    # Option 3:\n",
    "    dy = model_y - y\n",
    "    val = -0.5 * tt.batched_dot(dy, tt.batched_dot(Cinvs, dy))\n",
    "\n",
    "    pm.Potential(\"more_logp\", val)"
   ]
  },
  {
   "cell_type": "code",
   "execution_count": null,
   "metadata": {},
   "outputs": [],
   "source": [
    "with model:\n",
    "    res = xo.optimize(start={'w': np.ones(K), \n",
    "                             'r': test_d,\n",
    "                             'vxyz': test_vxyz})"
   ]
  },
  {
   "cell_type": "code",
   "execution_count": null,
   "metadata": {},
   "outputs": [],
   "source": [
    "# res['r'] / test_d"
   ]
  },
  {
   "cell_type": "code",
   "execution_count": null,
   "metadata": {},
   "outputs": [],
   "source": [
    "logps = np.zeros((N, K))\n",
    "for k in range(K):\n",
    "    logps[:, k] = res[f'v{k}_logp'].sum(axis=1)"
   ]
  },
  {
   "cell_type": "code",
   "execution_count": null,
   "metadata": {},
   "outputs": [],
   "source": [
    "# for i in range(3):\n",
    "#     _x = test_vxyz[:, i]\n",
    "#     print(1.5 * np.median(np.abs(_x - np.median(_x))),\n",
    "#           np.median(_x))\n",
    "#     plt.hist(test_vxyz[:, i],\n",
    "#              bins=np.linspace(-100, 100, 64), alpha=0.4, label=str(i),\n",
    "#              density=True);\n",
    "    \n",
    "#     _grid = np.linspace(-100, 100, 1000)\n",
    "#     plt.plot(_grid, norm.pdf(_grid, vdisk[i], sigma_disk[i]), marker='')\n",
    "    \n",
    "# plt.legend(loc='best')"
   ]
  },
  {
   "cell_type": "code",
   "execution_count": null,
   "metadata": {},
   "outputs": [],
   "source": [
    "prob = np.exp(logps[:, 0] - logsumexp(logps, axis=1))\n",
    "(prob > 0.5).sum()"
   ]
  },
  {
   "cell_type": "code",
   "execution_count": null,
   "metadata": {},
   "outputs": [],
   "source": [
    "subg.source_id[prob > 0.5]"
   ]
  },
  {
   "cell_type": "code",
   "execution_count": null,
   "metadata": {},
   "outputs": [],
   "source": [
    "tmp = hip[xv_mask].copy()\n",
    "tmp['prob'] = prob\n",
    "if prev is not None:\n",
    "    all_tbl = at.QTable(at.vstack((at.Table(prev), at.Table(tmp))))\n",
    "else:\n",
    "    all_tbl = tmp\n",
    "all_tbl.write('../data/hip_stars_near_theOG.csv', format='ascii.ecsv', overwrite=True)"
   ]
  },
  {
   "cell_type": "code",
   "execution_count": null,
   "metadata": {},
   "outputs": [],
   "source": []
  },
  {
   "cell_type": "markdown",
   "metadata": {},
   "source": [
    "---\n",
    "\n",
    "OLD"
   ]
  },
  {
   "cell_type": "code",
   "execution_count": null,
   "metadata": {},
   "outputs": [],
   "source": [
    "hip = at.QTable.read('/Users/apricewhelan/data/Hipparcos/hip2.fits')\n",
    "hip = hip[hip['Plx'] > 0]"
   ]
  },
  {
   "cell_type": "code",
   "execution_count": null,
   "metadata": {},
   "outputs": [],
   "source": [
    "brightbois = at.Table.read('/Users/apricewhelan/data/Hipparcos/Bright-star-catalog.fit')\n",
    "brightbois = brightbois[np.isfinite(brightbois['RAJ2000'])]\n",
    "bb_c = coord.SkyCoord(brightbois['RAJ2000'],\n",
    "                      brightbois['DEJ2000'])"
   ]
  },
  {
   "cell_type": "code",
   "execution_count": null,
   "metadata": {},
   "outputs": [],
   "source": [
    "idx, sep2d, _ = hip_c.match_to_catalog_sky(bb_c)"
   ]
  },
  {
   "cell_type": "code",
   "execution_count": null,
   "metadata": {},
   "outputs": [],
   "source": [
    "hip['radial_velocity'] = np.full(len(hip), np.nan) * u.km/u.s\n",
    "hip['radial_velocity'][sep2d < 10*u.arcsec] = brightbois['RadVel'][idx[sep2d < 10*u.arcsec]]"
   ]
  },
  {
   "cell_type": "code",
   "execution_count": null,
   "metadata": {},
   "outputs": [],
   "source": [
    "hip_c = coord.SkyCoord(hip['RArad'], hip['DErad'],\n",
    "                       distance=coord.Distance(parallax=hip['Plx']),\n",
    "                       pm_ra_cosdec=hip['pmRA'],\n",
    "                       pm_dec=hip['pmDE'],\n",
    "                       radial_velocity=hip['radial_velocity'])\n",
    "\n",
    "mask = ((hip_c.distance < 80*u.pc) & (hip_c.distance > 20*u.pc) &\n",
    "        (hip_c.pm_ra_cosdec < -40*u.mas/u.yr) & \n",
    "        (hip_c.pm_dec > -90*u.mas/u.yr) & \n",
    "        (hip_c.pm_dec < 10*u.mas/u.yr) & \n",
    "        (hip_c.ra > 150*u.deg) & (hip_c.ra < 260*u.deg) &\n",
    "        (hip_c.dec > 0*u.deg) & (hip_c.dec < 60*u.deg) &\n",
    "        (hip['Hpmag'] < 7.5*u.mag))\n",
    "mask.sum()"
   ]
  },
  {
   "cell_type": "code",
   "execution_count": null,
   "metadata": {},
   "outputs": [],
   "source": [
    "hip_galcen = hip_c[mask].transform_to(coord.Galactocentric)\n",
    "hip_v_mask = ((hip_galcen.velocity - np.mean(galcen.velocity)).norm() < 10*u.km/u.s)\n",
    "hip_v_mask.sum()"
   ]
  },
  {
   "cell_type": "code",
   "execution_count": null,
   "metadata": {},
   "outputs": [],
   "source": [
    "mhp = hip['Hpmag'] - hip_c.distance.distmod\n",
    "BImag = hip['B-V']"
   ]
  },
  {
   "cell_type": "code",
   "execution_count": null,
   "metadata": {},
   "outputs": [],
   "source": [
    "fig, ax = plt.subplots(1, 1, figsize=(6, 6))\n",
    "ax.scatter(BImag[mask][hip_v_mask], mhp[mask][hip_v_mask])\n",
    "\n",
    "for age in np.arange(7.4, 8.2+1e-3, 0.2):\n",
    "    iso = at.Table.read(f'/Users/apricewhelan/data/Isochrones/MIST/FeH_0.1_iso.fits')\n",
    "    i = iso[np.isclose(iso['log10_isochrone_age_yr'], age)] \n",
    "    i = i[i['phase'] < 4]  # rgb or before\n",
    "    ax.plot(i['Tycho_B']-i['Tycho_V'], i['Hipparcos_Hp'], \n",
    "            marker='', label=f'log10age=${age:.1f}$', zorder=-10)\n",
    "\n",
    "ax.set_xlim(-1, 2)\n",
    "ax.set_ylim(7.5, -2)"
   ]
  },
  {
   "cell_type": "code",
   "execution_count": null,
   "metadata": {},
   "outputs": [],
   "source": [
    "derp = hip[mask][hip_v_mask][BImag[mask][hip_v_mask] < 1*u.mag]\n",
    "derp['HIP', 'Hpmag'][np.argsort(derp['Hpmag'])]"
   ]
  },
  {
   "cell_type": "code",
   "execution_count": null,
   "metadata": {},
   "outputs": [],
   "source": []
  }
 ],
 "metadata": {
  "kernelspec": {
   "display_name": "Python [conda env:root] *",
   "language": "python",
   "name": "conda-root-py"
  },
  "language_info": {
   "codemirror_mode": {
    "name": "ipython",
    "version": 3
   },
   "file_extension": ".py",
   "mimetype": "text/x-python",
   "name": "python",
   "nbconvert_exporter": "python",
   "pygments_lexer": "ipython3",
   "version": "3.7.7"
  },
  "toc": {
   "base_numbering": 1,
   "nav_menu": {},
   "number_sections": true,
   "sideBar": true,
   "skip_h1_title": false,
   "title_cell": "Table of Contents",
   "title_sidebar": "Contents",
   "toc_cell": false,
   "toc_position": {},
   "toc_section_display": true,
   "toc_window_display": false
  }
 },
 "nbformat": 4,
 "nbformat_minor": 4
}
