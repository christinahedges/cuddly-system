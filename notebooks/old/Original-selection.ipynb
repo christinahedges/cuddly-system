{
 "cells": [
  {
   "cell_type": "code",
   "execution_count": null,
   "metadata": {},
   "outputs": [],
   "source": [
    "import astropy.coordinates as coord\n",
    "import astropy.table as at\n",
    "import astropy.units as u\n",
    "import matplotlib as mpl\n",
    "import matplotlib.pyplot as plt\n",
    "%matplotlib inline\n",
    "import numpy as np\n",
    "\n",
    "# gala\n",
    "import gala.coordinates as gc\n",
    "import gala.dynamics as gd\n",
    "import gala.integrate as gi\n",
    "import gala.potential as gp\n",
    "from gala.units import galactic\n",
    "\n",
    "from pyia import GaiaData\n",
    "from dustmaps.bayestar import BayestarQuery"
   ]
  },
  {
   "cell_type": "markdown",
   "metadata": {},
   "source": [
    "The original 2:\n",
    "\n",
    "http://simbad.harvard.edu/simbad/sim-id?bibyear1=1850&bibyear2=%24currentYear&submit=Display&Ident=%40602764&Name=BD%2B40++2790&bibdisplay=refsum&bibyear1=1850&bibyear2=%24currentYear#lab_bib\n",
    "\n",
    "http://simbad.harvard.edu/simbad/sim-id?Ident=%402119260&Name=BD%2b39%20%202643&submit=submit"
   ]
  },
  {
   "cell_type": "code",
   "execution_count": null,
   "metadata": {},
   "outputs": [],
   "source": [
    "g1 = GaiaData.from_query(\"SELECT * FROM gaiadr2.gaia_source WHERE source_id=1490845584382687232;\")\n",
    "g2 = GaiaData.from_query(\"SELECT * FROM gaiadr2.gaia_source WHERE source_id=1476485996883837184;\")"
   ]
  },
  {
   "cell_type": "markdown",
   "metadata": {},
   "source": [
    "**ARCES exposure time**"
   ]
  },
  {
   "cell_type": "code",
   "execution_count": null,
   "metadata": {},
   "outputs": [],
   "source": [
    "# from arcesetc import signal_to_noise_to_exp_time\n",
    "\n",
    "# # sptype = 'K3V'\n",
    "# sptype = 'K2V'\n",
    "# wavelength = 6563 * u.Angstrom\n",
    "# signal_to_noise = 30\n",
    "# V = 9.97\n",
    "\n",
    "# signal_to_noise_to_exp_time(sptype, wavelength, V, signal_to_noise).to(u.min)"
   ]
  },
  {
   "cell_type": "markdown",
   "metadata": {},
   "source": [
    "---"
   ]
  },
  {
   "cell_type": "code",
   "execution_count": null,
   "metadata": {},
   "outputs": [],
   "source": [
    "c1 = g1.get_skycoord()[0]\n",
    "c2 = g2.get_skycoord()[0]"
   ]
  },
  {
   "cell_type": "code",
   "execution_count": null,
   "metadata": {},
   "outputs": [],
   "source": [
    "c1.ra.degree, c1.dec.degree"
   ]
  },
  {
   "cell_type": "code",
   "execution_count": null,
   "metadata": {},
   "outputs": [],
   "source": [
    "c2.ra.degree, c2.dec.degree"
   ]
  },
  {
   "cell_type": "code",
   "execution_count": null,
   "metadata": {},
   "outputs": [],
   "source": [
    "g1.parallax, g2.parallax"
   ]
  },
  {
   "cell_type": "code",
   "execution_count": null,
   "metadata": {},
   "outputs": [],
   "source": [
    "c1.get_constellation()"
   ]
  },
  {
   "cell_type": "code",
   "execution_count": null,
   "metadata": {},
   "outputs": [],
   "source": [
    "c2.get_constellation()"
   ]
  },
  {
   "cell_type": "code",
   "execution_count": null,
   "metadata": {},
   "outputs": [],
   "source": [
    "c1"
   ]
  },
  {
   "cell_type": "code",
   "execution_count": null,
   "metadata": {},
   "outputs": [],
   "source": [
    "c1.separation(c2)"
   ]
  },
  {
   "cell_type": "code",
   "execution_count": null,
   "metadata": {},
   "outputs": [],
   "source": [
    "c1.pm_ra_cosdec, c1.pm_dec"
   ]
  },
  {
   "cell_type": "code",
   "execution_count": null,
   "metadata": {},
   "outputs": [],
   "source": [
    "c2.pm_ra_cosdec, c2.pm_dec"
   ]
  },
  {
   "cell_type": "code",
   "execution_count": null,
   "metadata": {},
   "outputs": [],
   "source": [
    "np.sqrt((c1.pm_ra_cosdec - c2.pm_ra_cosdec)**2 + (c1.pm_dec - c2.pm_dec)**2)"
   ]
  },
  {
   "cell_type": "code",
   "execution_count": null,
   "metadata": {},
   "outputs": [],
   "source": [
    "(c1.velocity - c2.velocity).norm()"
   ]
  },
  {
   "cell_type": "code",
   "execution_count": null,
   "metadata": {},
   "outputs": [],
   "source": [
    "g1.parallax_error, g2.parallax_error"
   ]
  },
  {
   "cell_type": "code",
   "execution_count": null,
   "metadata": {},
   "outputs": [],
   "source": [
    "s1 = g1.get_error_samples(size=100_000).get_skycoord()\n",
    "s2 = g2.get_error_samples(size=100_000).get_skycoord()\n",
    "dv = (s1.velocity - s2.velocity).norm()\n",
    "dx = (s1.data.to_cartesian() - s2.data.to_cartesian()).norm()"
   ]
  },
  {
   "cell_type": "code",
   "execution_count": null,
   "metadata": {},
   "outputs": [],
   "source": [
    "fig, axes = plt.subplots(1, 2, figsize=(10 ,5))\n",
    "\n",
    "axes[0].hist(dx.to_value(u.pc)[0], np.linspace(8.5, 10, 128));\n",
    "axes[0].set_xlabel(rf'$\\Delta x$ [{u.pc:latex_inline}]')\n",
    "\n",
    "axes[1].hist(dv.to_value(u.km/u.s)[0], np.linspace(0, 3, 128));\n",
    "axes[1].set_xlabel(rf'$\\Delta v$ [{u.km/u.s:latex_inline}]')\n",
    "\n",
    "fig.set_facecolor('w')\n",
    "fig.tight_layout()"
   ]
  },
  {
   "cell_type": "code",
   "execution_count": null,
   "metadata": {},
   "outputs": [],
   "source": [
    "mw = gp.MilkyWayPotential()\n",
    "_ = coord.galactocentric_frame_defaults.set('v4.0')"
   ]
  },
  {
   "cell_type": "code",
   "execution_count": null,
   "metadata": {},
   "outputs": [],
   "source": [
    "w1 = gd.PhaseSpacePosition(\n",
    "    g1.get_error_samples(size=1_000).get_skycoord().transform_to(coord.Galactocentric()).data)\n",
    "w2 = gd.PhaseSpacePosition(\n",
    "    g2.get_error_samples(size=1_000).get_skycoord().transform_to(coord.Galactocentric()).data)"
   ]
  },
  {
   "cell_type": "code",
   "execution_count": null,
   "metadata": {},
   "outputs": [],
   "source": [
    "orbit1 = mw.integrate_orbit(w1, dt=-0.2*u.Myr, t1=0, t2=-100*u.Myr,\n",
    "                            Integrator=gi.DOPRI853Integrator)\n",
    "orbit2 = mw.integrate_orbit(w2, t=orbit1.t,\n",
    "                            Integrator=gi.DOPRI853Integrator)"
   ]
  },
  {
   "cell_type": "code",
   "execution_count": null,
   "metadata": {},
   "outputs": [],
   "source": [
    "# _ = orbit1[:, :10].plot()\n",
    "# _ = orbit2[:, :10].plot()"
   ]
  },
  {
   "cell_type": "code",
   "execution_count": null,
   "metadata": {},
   "outputs": [],
   "source": [
    "dx = (orbit1.pos - orbit2.pos).norm()\n",
    "dx.shape"
   ]
  },
  {
   "cell_type": "code",
   "execution_count": null,
   "metadata": {},
   "outputs": [],
   "source": [
    "fig = plt.figure()\n",
    "plt.plot(orbit1.t.to_value(u.Myr), dx.to_value(u.pc),\n",
    "         marker='', alpha=0.1, color='k')\n",
    "plt.ylim(0, 50)\n",
    "plt.xlim(-100, 0)\n",
    "plt.xlabel('time [Myr]')\n",
    "plt.ylabel(r'$\\Delta x$ [pc]')\n",
    "fig.set_facecolor('w')"
   ]
  },
  {
   "cell_type": "markdown",
   "metadata": {},
   "source": [
    "Check for alignment of ∆x and ∆v:"
   ]
  },
  {
   "cell_type": "code",
   "execution_count": null,
   "metadata": {},
   "outputs": [],
   "source": [
    "dxnorm = orbit1.pos / orbit1.pos.norm()\n",
    "dvnorm = orbit1.vel / orbit1.vel.norm()"
   ]
  },
  {
   "cell_type": "code",
   "execution_count": null,
   "metadata": {},
   "outputs": [],
   "source": [
    "plt.plot(orbit1.t, dxnorm[:, 0].dot(dvnorm[:, 0]))"
   ]
  },
  {
   "cell_type": "markdown",
   "metadata": {},
   "source": [
    "---\n",
    "\n",
    "Other stars on the sky:"
   ]
  },
  {
   "cell_type": "code",
   "execution_count": null,
   "metadata": {},
   "outputs": [],
   "source": [
    "g = GaiaData.from_query(\"\"\"\n",
    "SELECT * FROM gaiadr2.gaia_source as gaia\n",
    "WHERE parallax > 15\n",
    "AND radial_velocity IS NOT NULL\n",
    "AND 1=CONTAINS(\n",
    "  POINT('ICRS', gaia.ra, gaia.dec),\n",
    "  CIRCLE('ICRS', 210, 39.79039914276253, 120)\n",
    ")\n",
    "\"\"\")"
   ]
  },
  {
   "cell_type": "code",
   "execution_count": null,
   "metadata": {},
   "outputs": [],
   "source": [
    "len(g)"
   ]
  },
  {
   "cell_type": "code",
   "execution_count": null,
   "metadata": {},
   "outputs": [],
   "source": [
    "gplx = g[(g.parallax_over_error > 6) & np.isfinite(g.radial_velocity)]\n",
    "len(gplx)"
   ]
  },
  {
   "cell_type": "code",
   "execution_count": null,
   "metadata": {},
   "outputs": [],
   "source": [
    "cc = gplx.get_skycoord()"
   ]
  },
  {
   "cell_type": "code",
   "execution_count": null,
   "metadata": {},
   "outputs": [],
   "source": [
    "dx = cc.data.to_cartesian() - c1.data.to_cartesian()\n",
    "dv = cc.velocity - c1.velocity"
   ]
  },
  {
   "cell_type": "code",
   "execution_count": null,
   "metadata": {},
   "outputs": [],
   "source": [
    "fig, ax = plt.subplots(1, 1, figsize=(5, 5))\n",
    "\n",
    "ax.scatter(dx.norm().to_value(u.pc), \n",
    "           dv.norm().to_value(u.km/u.s),\n",
    "           lw=0, s=8, alpha=0.5)\n",
    "\n",
    "ax.set(xscale='log',\n",
    "       yscale='log',\n",
    "       xlim=(1e-1, 100),\n",
    "       ylim=(1e-1, 10),\n",
    "       xlabel=r'$\\Delta x$ [pc]',\n",
    "       ylabel=rf'$\\Delta v$ [{u.km/u.s:latex_inline}]');\n",
    "\n",
    "ax.axhline(3.)"
   ]
  },
  {
   "cell_type": "code",
   "execution_count": null,
   "metadata": {},
   "outputs": [],
   "source": [
    "(0.65*u.km/u.s * 40*u.Myr).to(u.pc)"
   ]
  },
  {
   "cell_type": "code",
   "execution_count": null,
   "metadata": {},
   "outputs": [],
   "source": [
    "derp = gplx[(dv.norm() < 3*u.km/u.s) & \n",
    "            (dx.norm() < 80*u.pc) & \n",
    "            (gplx.distance > 30*u.pc) & (gplx.distance < 50*u.pc)]\n",
    "derp.data['source_id', 'ra', 'dec', 'parallax', 'phot_g_mean_mag'].pprint(max_width=100000)"
   ]
  },
  {
   "cell_type": "code",
   "execution_count": null,
   "metadata": {},
   "outputs": [],
   "source": [
    "ebv = derp.get_ebv()"
   ]
  },
  {
   "cell_type": "code",
   "execution_count": null,
   "metadata": {},
   "outputs": [],
   "source": [
    "# bprp = derp.phot_bp_mean_mag - derp.phot_rp_mean_mag\n",
    "# gmag = derp.phot_g_mean_mag\n",
    "\n",
    "bprp = derp.get_BP0() - derp.get_RP0()\n",
    "gmag = derp.get_G0()"
   ]
  },
  {
   "cell_type": "code",
   "execution_count": null,
   "metadata": {},
   "outputs": [],
   "source": [
    "cs = plt.scatter(derp.ra.value, derp.dec.value,\n",
    "                 c=derp.radial_velocity_error,\n",
    "                 vmin=0, vmax=1, zorder=100, lw=0.5, \n",
    "                 edgecolor='#555555', \n",
    "                 s=2 * (15 - derp.phot_g_mean_mag.value))\n",
    "#                  c=1000/derp.parallax.value,\n",
    "#                  vmin=40, vmax=60, lw=0.5, \n",
    "#                  edgecolor='#555555')\n",
    "plt.xlim(100, 300)\n",
    "plt.ylim(0, 80)\n",
    "plt.colorbar(cs)"
   ]
  },
  {
   "cell_type": "code",
   "execution_count": null,
   "metadata": {},
   "outputs": [],
   "source": [
    "# [Fe/H] = -0.07 from Bochanski\n",
    "iso = at.Table.read('/Users/apricewhelan/data/Isochrones/MIST/FeH_0.0_iso.fits')\n",
    "iso = iso[iso['phase'] < 1]\n",
    "iso = iso[(iso['log10_isochrone_age_yr'] > 7.5) & (iso['log10_isochrone_age_yr'] < 8.3)]"
   ]
  },
  {
   "cell_type": "code",
   "execution_count": null,
   "metadata": {},
   "outputs": [],
   "source": [
    "fig, ax = plt.subplots(figsize=(6, 6))\n",
    "# ax.scatter(bprp, gmag,\n",
    "#            c=1000/derp.parallax.value,\n",
    "#            vmin=40, vmax=60, zorder=100, lw=0.5, \n",
    "#            edgecolor='#555555')\n",
    "\n",
    "cc = ax.scatter(bprp, gmag,\n",
    "                c=derp.radial_velocity_error,\n",
    "                vmin=0, vmax=1, zorder=100, lw=0.5, \n",
    "                edgecolor='#555555')\n",
    "fig.colorbar(cc)\n",
    "\n",
    "for age in np.unique(iso['log10_isochrone_age_yr']):\n",
    "    i = iso[iso['log10_isochrone_age_yr'] == age]\n",
    "    ax.plot(i['G_BP'] - i['G_RP'], \n",
    "            i['G'] + g1.distmod.value - 0.1,\n",
    "            marker='', alpha=0.5, label=f'{10**age / 1e6:.0f} Myr')\n",
    "\n",
    "ax.set(xlabel='BP-RP',\n",
    "       ylabel='G',\n",
    "       xlim=(0., 2.5),\n",
    "       ylim=(13, 5))\n",
    "\n",
    "ax.legend()\n",
    "fig.set_facecolor('w')"
   ]
  },
  {
   "cell_type": "markdown",
   "metadata": {},
   "source": [
    "This one is a no!"
   ]
  },
  {
   "cell_type": "code",
   "execution_count": null,
   "metadata": {},
   "outputs": [],
   "source": [
    "hd140667 = derp[gmag < 8*u.mag]\n",
    "hd140667_c = hd140667.get_skycoord()\n",
    "\n",
    "hd140667_c = coord.SkyCoord(ra=hd140667_c.ra, dec=hd140667_c.dec,\n",
    "                            distance=hd140667_c.distance,\n",
    "                            pm_ra_cosdec=hd140667_c.pm_ra_cosdec,\n",
    "                            pm_dec=hd140667_c.pm_dec,\n",
    "                            radial_velocity=-16.727*u.km/u.s) # SB9 COM velocity"
   ]
  },
  {
   "cell_type": "code",
   "execution_count": null,
   "metadata": {},
   "outputs": [],
   "source": [
    "(hd140667_c.velocity - derp_c.velocity).norm()"
   ]
  },
  {
   "cell_type": "code",
   "execution_count": null,
   "metadata": {},
   "outputs": [],
   "source": [
    "hd140667_w = gd.PhaseSpacePosition(hd140667_c.transform_to(coord.Galactocentric()).data)\n",
    "hd_orbit = mw.integrate_orbit(hd140667_w, t=orbit1.t)"
   ]
  },
  {
   "cell_type": "markdown",
   "metadata": {},
   "source": [
    "Rewind all orbits?"
   ]
  },
  {
   "cell_type": "code",
   "execution_count": null,
   "metadata": {},
   "outputs": [],
   "source": [
    "derp_w = gd.PhaseSpacePosition(\n",
    "    derp.get_error_samples(size=1_000).get_skycoord().transform_to(coord.Galactocentric()).data)"
   ]
  },
  {
   "cell_type": "code",
   "execution_count": null,
   "metadata": {},
   "outputs": [],
   "source": [
    "derp_orbit = mw.integrate_orbit(derp_w, t=orbit1.t)"
   ]
  },
  {
   "cell_type": "code",
   "execution_count": null,
   "metadata": {},
   "outputs": [],
   "source": [
    "derp_dx = (orbit1.pos[:, None] - derp_orbit.pos.reshape((len(orbit1.t),) + derp_w.shape)).norm()\n",
    "# derp_dx = (hd_orbit.pos[:, None, None] - derp_orbit.pos.reshape((len(orbit1.t),) + derp_w.shape)).norm()\n",
    "derp_dx.shape"
   ]
  },
  {
   "cell_type": "code",
   "execution_count": null,
   "metadata": {},
   "outputs": [],
   "source": [
    "_ = orbit1[:, 0].plot()"
   ]
  },
  {
   "cell_type": "code",
   "execution_count": null,
   "metadata": {},
   "outputs": [],
   "source": [
    "for i in range(derp_dx.shape[1]):\n",
    "    fig = plt.figure()\n",
    "    plt.plot(orbit1.t.to_value(u.Myr), \n",
    "             derp_dx[:, i].to_value(u.pc),\n",
    "             marker='', alpha=0.1, color='k')\n",
    "    plt.ylim(0, 50)\n",
    "    plt.xlim(-100, 0)\n",
    "    plt.xlabel('time [Myr]')\n",
    "    plt.ylabel(r'$\\Delta x$ [pc]')\n",
    "    fig.set_facecolor('w')"
   ]
  },
  {
   "cell_type": "markdown",
   "metadata": {},
   "source": [
    "## Any APOGEE data?"
   ]
  },
  {
   "cell_type": "code",
   "execution_count": null,
   "metadata": {},
   "outputs": [],
   "source": [
    "rave = at.Table.read('/Users/apricewhelan/data/RAVE/rave_gaia_xmatch.fits')"
   ]
  },
  {
   "cell_type": "code",
   "execution_count": null,
   "metadata": {},
   "outputs": [],
   "source": [
    "lamost = at.Table.read('/Users/apricewhelan/data/LAMOST/DDPayne_LAMOST-DR5_recommend.fits')"
   ]
  },
  {
   "cell_type": "code",
   "execution_count": null,
   "metadata": {},
   "outputs": [],
   "source": [
    "allstar = at.Table.read('/Users/apricewhelan/data/APOGEE_beta/apogee_astroNN-r13-l33-58932beta.fits')"
   ]
  },
  {
   "cell_type": "code",
   "execution_count": null,
   "metadata": {},
   "outputs": [],
   "source": [
    "lamost_c = coord.SkyCoord(lamost['RA'], lamost['DEC'], unit='deg')"
   ]
  },
  {
   "cell_type": "code",
   "execution_count": null,
   "metadata": {},
   "outputs": [],
   "source": [
    "derp_c = derp.get_skycoord()\n",
    "lamost_idx, lamost_sep, _ = derp_c.match_to_catalog_sky(lamost_c)\n",
    "lamost_data = lamost[lamost_idx[lamost_sep < 2*u.arcsec]]\n",
    "lamost_data['source_id'] = derp.data[lamost_sep < 2*u.arcsec]['source_id']"
   ]
  },
  {
   "cell_type": "code",
   "execution_count": null,
   "metadata": {},
   "outputs": [],
   "source": [
    "derp.data['has_apogee'] = np.isin(derp.source_id, allstar['source_id'])\n",
    "derp.data['has_rave'] = np.isin(derp.source_id, rave['source_id'])\n",
    "derp.data['has_lamost'] = (lamost_sep < 2*u.arcsec)"
   ]
  },
  {
   "cell_type": "code",
   "execution_count": null,
   "metadata": {},
   "outputs": [],
   "source": [
    "subtbl = derp.data['source_id', 'ra', 'dec', 'phot_g_mean_mag', 'has_apogee', 'has_lamost', 'has_rave']\n",
    "subtbl[np.argsort(subtbl['phot_g_mean_mag'])].pprint(max_width=100000)"
   ]
  },
  {
   "cell_type": "code",
   "execution_count": null,
   "metadata": {},
   "outputs": [],
   "source": [
    "stars = allstar[np.isin(allstar['source_id'], derp.source_id)]\n",
    "stars['source_id', 'FE_H', 'FE_H_ERR', 'MG_H', 'SI_H', 'age']"
   ]
  },
  {
   "cell_type": "code",
   "execution_count": null,
   "metadata": {},
   "outputs": [],
   "source": [
    "fig, ax = plt.subplots(figsize=(6, 6))\n",
    "ax.scatter(bprp, gmag,\n",
    "           c=derp.radial_velocity_error,\n",
    "           vmin=0, vmax=1, zorder=100, lw=0.5, \n",
    "           edgecolor='#555555')\n",
    "#            c=1000/derp.parallax.value,\n",
    "#            vmin=40, vmax=50, zorder=100, lw=0.5, \n",
    "#            edgecolor='#555555')\n",
    "\n",
    "ax.scatter(bprp[derp.has_apogee], \n",
    "           gmag[derp.has_apogee], zorder=200, lw=2, \n",
    "           facecolor='none', color='tab:purple', s=60)\n",
    "\n",
    "ax.scatter(bprp[derp.has_lamost], \n",
    "           gmag[derp.has_lamost], zorder=200, lw=2, \n",
    "           facecolor='none', color='tab:green', s=100)\n",
    "\n",
    "for age in np.unique(iso['log10_isochrone_age_yr']):\n",
    "    i = iso[iso['log10_isochrone_age_yr'] == age]\n",
    "    ax.plot(i['G_BP'] - i['G_RP'], \n",
    "            i['G'] + g1.distmod.value - 0.1,\n",
    "            marker='', alpha=0.5, label=f'{10**age / 1e6:.0f} Myr')\n",
    "\n",
    "ax.set(xlabel='BP-RP',\n",
    "       ylabel='G',\n",
    "       xlim=(0.5, 3),\n",
    "       ylim=(14, 5))\n",
    "\n",
    "ax.legend()\n",
    "fig.set_facecolor('w')"
   ]
  },
  {
   "cell_type": "code",
   "execution_count": null,
   "metadata": {},
   "outputs": [],
   "source": [
    "lamost_data"
   ]
  },
  {
   "cell_type": "code",
   "execution_count": null,
   "metadata": {},
   "outputs": [],
   "source": [
    "(10**i[i['G'] < 12.5]['log_Teff']).min()"
   ]
  },
  {
   "cell_type": "markdown",
   "metadata": {},
   "source": [
    "---"
   ]
  },
  {
   "cell_type": "code",
   "execution_count": null,
   "metadata": {},
   "outputs": [],
   "source": [
    "from astropy.time import Time"
   ]
  },
  {
   "cell_type": "code",
   "execution_count": null,
   "metadata": {},
   "outputs": [],
   "source": [
    "loc = coord.EarthLocation.of_site('APO')"
   ]
  },
  {
   "cell_type": "code",
   "execution_count": null,
   "metadata": {},
   "outputs": [],
   "source": [
    "t = Time.now() + np.linspace(0, 16, 128)*u.hour\n",
    "altaz = derp_c[None].transform_to(coord.AltAz(obstime=t,\n",
    "                                              location=loc)[:, None])"
   ]
  },
  {
   "cell_type": "code",
   "execution_count": null,
   "metadata": {},
   "outputs": [],
   "source": [
    "plt.plot((t - 8*u.hr).datetime, altaz.secz)\n",
    "plt.ylim(0.5, 2)\n",
    "plt.xticks(rotation=45)"
   ]
  },
  {
   "cell_type": "code",
   "execution_count": null,
   "metadata": {},
   "outputs": [],
   "source": []
  },
  {
   "cell_type": "code",
   "execution_count": null,
   "metadata": {},
   "outputs": [],
   "source": []
  }
 ],
 "metadata": {
  "_draft": {
   "nbviewer_url": "https://gist.github.com/73755de1505a4964c3af9d574a7bffd7"
  },
  "gist": {
   "data": {
    "description": "projects/Untitled4.ipynb",
    "public": true
   },
   "id": "73755de1505a4964c3af9d574a7bffd7"
  },
  "kernelspec": {
   "display_name": "Python [conda env:root] *",
   "language": "python",
   "name": "conda-root-py"
  },
  "language_info": {
   "codemirror_mode": {
    "name": "ipython",
    "version": 3
   },
   "file_extension": ".py",
   "mimetype": "text/x-python",
   "name": "python",
   "nbconvert_exporter": "python",
   "pygments_lexer": "ipython3",
   "version": "3.7.7"
  },
  "toc": {
   "base_numbering": 1,
   "nav_menu": {},
   "number_sections": true,
   "sideBar": true,
   "skip_h1_title": false,
   "title_cell": "Table of Contents",
   "title_sidebar": "Contents",
   "toc_cell": false,
   "toc_position": {},
   "toc_section_display": true,
   "toc_window_display": false
  }
 },
 "nbformat": 4,
 "nbformat_minor": 4
}
