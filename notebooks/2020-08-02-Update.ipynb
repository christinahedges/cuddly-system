{
 "cells": [
  {
   "cell_type": "code",
   "execution_count": null,
   "metadata": {},
   "outputs": [],
   "source": [
    "import os\n",
    "\n",
    "import astropy.coordinates as coord\n",
    "import astropy.table as at\n",
    "import astropy.units as u\n",
    "import matplotlib as mpl\n",
    "import matplotlib.pyplot as plt\n",
    "%matplotlib inline\n",
    "import numpy as np\n",
    "from ezpadova import parsec\n",
    "from scipy.ndimage import gaussian_filter\n",
    "\n",
    "# gala\n",
    "import gala.coordinates as gc\n",
    "import gala.dynamics as gd\n",
    "import gala.integrate as gi\n",
    "import gala.potential as gp\n",
    "from gala.units import galactic\n",
    "\n",
    "from pyia import GaiaData\n",
    "from helpers import make_cmd, get_MG_BPRP\n",
    "\n",
    "coord.galactocentric_frame_defaults.set('v4.0');\n",
    "galcen_frame = coord.Galactocentric()"
   ]
  },
  {
   "cell_type": "markdown",
   "metadata": {},
   "source": [
    "# New moving group / stellar stream\n",
    "## 2020-08-02 update"
   ]
  },
  {
   "cell_type": "markdown",
   "metadata": {},
   "source": [
    "A few weeks ago, Christina Hedges asked me about a star: TIC 27491137. Christina and a student found that it has a transiting planetary system (using TESS data), and that it appears in a previous catalog of widely-separated, comoving pairs of stars ([Oh, Price-Whelan et al. 2017](https://ui.adsabs.harvard.edu/abs/2017AJ....153..257O/abstract); that was based on Gaia DR1/TGAS astrometry) with a companion (TOI 1807) that *also* has transiting planets, so this struck us as weird/coincidental. \n",
    "\n",
    "I checked on the pair using Gaia DR2 to make sure that they still look to be comoving based on the much more precise astrometry in DR2. With Gaia DR2, we get full phase-space information: precise parallax, proper motions, and radial velocities for both stars, so we can actually resolve the spatial separation precisely (∆x ~ 9 pc) and the velocity difference between the two stars (∆v ~ 0.6 km/s). Both of the stars are at a heliocentric distance of ~40 pc, so they are *really* widely separated on the sky:"
   ]
  },
  {
   "cell_type": "code",
   "execution_count": null,
   "metadata": {},
   "outputs": [],
   "source": [
    "# Gaia DR2 data for a 200pc side cube centered on the original pair:\n",
    "g = GaiaData('../data/clump-200pc-cube.fits')\n",
    "\n",
    "# TIC 27491137:\n",
    "g1 = g[g.source_id == 1490845584382687232]\n",
    "\n",
    "# TOI 1807:\n",
    "g2 = g[g.source_id == 1476485996883837184]"
   ]
  },
  {
   "cell_type": "code",
   "execution_count": null,
   "metadata": {},
   "outputs": [],
   "source": [
    "c1 = g1.get_skycoord()\n",
    "c2 = g2.get_skycoord()\n",
    "\n",
    "print(\"Sky separation: {:.1f}\".format(c1.separation(c2)[0]))\n",
    "print(\"Spatial separation: {:.1f}\".format(c1.separation_3d(c2)[0]))\n",
    "print(\"Velocity difference: {:.2f}\".format((c1.velocity - c2.velocity).norm()[0]))"
   ]
  },
  {
   "cell_type": "markdown",
   "metadata": {},
   "source": [
    "One of the amusing things about this pair of stars is that even though their 3D velocity difference is small (~0.6 km/s), they are so widely separated on the sky that their proper motion difference is huge! (i.e., they wouldn't be identified as a \"common proper motion\" pair):"
   ]
  },
  {
   "cell_type": "code",
   "execution_count": null,
   "metadata": {},
   "outputs": [],
   "source": [
    "dpm = np.sqrt((g1.pmra - g2.pmra)**2 + \n",
    "              (g1.pmdec - g2.pmdec)**2)[0]\n",
    "print(\"Proper motion difference: {:.1f}\".format(dpm))"
   ]
  },
  {
   "cell_type": "markdown",
   "metadata": {},
   "source": [
    "Anyways, this got us thinking: The separation of this pair is so large that they are not gravitationally bound (the tidal radius for a $1~{\\rm M}_\\odot$ star is around ~1 pc), so this is not a \"wide binary\" system. So we thought maybe this pair is part of a larger structure of comoving stars (maybe a moving group?).\n",
    "\n",
    "As an initial exploration of this idea, we selected all Gaia DR2 sources with measured RVs (so we could compute their 3D velocities) and did some crude cuts to select any other stars that could be comoving with the initial pair, and nearby."
   ]
  },
  {
   "cell_type": "code",
   "execution_count": null,
   "metadata": {},
   "outputs": [],
   "source": [
    "c = g.get_skycoord()\n",
    "\n",
    "mean_pair_v = 0.5 * (c1.velocity + c2.velocity)\n",
    "dv = c.velocity - mean_pair_v\n",
    "dv_mask = dv.norm() < 4*u.km/u.s\n",
    "\n",
    "mean_pair_x = 0.5 * (c1.cartesian.without_differentials() + \n",
    "                     c2.cartesian.without_differentials())\n",
    "dx = c.cartesian.without_differentials() - mean_pair_x\n",
    "dx_mask = dx.norm() < 60*u.pc\n",
    "\n",
    "# Filter out bad astrometric solutions:\n",
    "ruwe_mask = g.get_ruwe() < 1.4\n",
    "\n",
    "fig, ax = make_cmd(g[dx_mask & dv_mask & ruwe_mask], alpha=0.5, s=8)\n",
    "fig.suptitle('CMD of Gaia stars comoving with the original pair\\n(based on simple ∆v cut)',\n",
    "             fontsize=18);"
   ]
  },
  {
   "cell_type": "markdown",
   "metadata": {},
   "source": [
    "Based on this simple 3D velocity cut, the color–magnitude distribution of stars that are co-moving with the original pair looks like it has a small spread in abundances (i.e. the CMD is very \"thin,\" plus some contamination). This suggested that maybe we found a new moving group, and the original pair are just two of the members. At this point, we passed of a vetted list of targets to Sam Quinn, George Zhou, and Joey Rodriguez, who convinced David Latham to get some TRES spectra of 19 of these stars."
   ]
  },
  {
   "cell_type": "markdown",
   "metadata": {},
   "source": [
    "## Lithium abundances (TRES spectra)\n",
    "\n",
    "Chris Wirth (working with the team above) measured Li equivalent widths for the stars observed with TRES."
   ]
  },
  {
   "cell_type": "code",
   "execution_count": null,
   "metadata": {},
   "outputs": [],
   "source": [
    "li_tbl = at.Table.read('../data/hedges_LI_EW.csv')\n",
    "li_tbl.rename_column('gaia_source_id', 'source_id')\n",
    "li_mask = np.isin(g.source_id, li_tbl['source_id'])\n",
    "assert np.isin(li_tbl['source_id'], g[dx_mask & dv_mask].source_id).sum() == len(li_tbl)\n",
    "\n",
    "li_joined = GaiaData(at.join(g.data, li_tbl, keys='source_id'))"
   ]
  },
  {
   "cell_type": "markdown",
   "metadata": {},
   "source": [
    "Here's a Lithium equivalent width (EW) vs. temperature plot for these stars:"
   ]
  },
  {
   "cell_type": "code",
   "execution_count": null,
   "metadata": {},
   "outputs": [],
   "source": [
    "fig, ax = plt.subplots(figsize=(8, 6))\n",
    "ax.errorbar(li_joined.Teff, li_joined.EW,\n",
    "            yerr=li_joined.EW_err,\n",
    "            marker='o', ls='none', ecolor='#aaaaaa')\n",
    "ax.set_xlim(3500, 7000)\n",
    "ax.set_ylim(0, 0.16)\n",
    "ax.set_xlabel(r'$T_{\\rm eff}$')\n",
    "ax.set_ylabel(r'Li 6708 EW [$\\AA$]')\n",
    "ax.set_title(\"Lithium abundances of 19 candidate members\", fontsize=16)\n",
    "fig.tight_layout()"
   ]
  },
  {
   "cell_type": "markdown",
   "metadata": {},
   "source": [
    "I am definitely not an expert in Lithium ages, but the fact that most stars have a measurable and comparable Li EW seems promising! Compared to open clusters with measured ages, the values here make these stars slightly older than the Pleiades ($\\sim$100 Myr), but younger than the Hyades ($\\sim$600 Myr). Here's another look at the same data, coloring points in the CMD by Li EW. It seems like there may be one or two contaminants (the low-Li, T$\\sim$6000 K star, and the high-Li, T$\\sim$4000 K star), but the EW uncertainties are large for these stars:"
   ]
  },
  {
   "cell_type": "code",
   "execution_count": null,
   "metadata": {},
   "outputs": [],
   "source": [
    "fig, ax = make_cmd(g[dx_mask & dv_mask & ruwe_mask], \n",
    "                   alpha=0.5, s=12, color='tab:blue', marker='o')\n",
    "fig, ax = make_cmd(li_joined, alpha=1, s=60,\n",
    "                   c=li_joined.EW,\n",
    "                   norm=mpl.colors.Normalize(0, 0.15),\n",
    "                   cmap='magma', marker='s',\n",
    "                   cbar_label=r'Li 6708 EW [$\\AA$]',\n",
    "                   ax=ax, app_mag_twinx=False)\n",
    "ax.set_xlim(0.5, 2.5)\n",
    "ax.set_ylim(9, 3)"
   ]
  },
  {
   "cell_type": "markdown",
   "metadata": {},
   "source": [
    "## Color–magnitude distribution & missing bright/faint stars?"
   ]
  },
  {
   "cell_type": "markdown",
   "metadata": {},
   "source": [
    "Given the relatively young age of this thing, we expect there to be A and F stars (and many fainter M stars), but the main sequence appears truncated on both ends:"
   ]
  },
  {
   "cell_type": "code",
   "execution_count": null,
   "metadata": {},
   "outputs": [],
   "source": [
    "Zsun = 0.0207\n",
    "M_H = 0.1\n",
    "Z = Zsun * 10**M_H\n",
    "\n",
    "isos = dict()\n",
    "for age in np.array([2, 4, 6])*1e8:\n",
    "    isos[age] = parsec.get_one_isochrone(age=age, metal=Z, phot='gaiaDR2maiz')"
   ]
  },
  {
   "cell_type": "code",
   "execution_count": null,
   "metadata": {},
   "outputs": [],
   "source": [
    "fig, ax = make_cmd(g[dx_mask & dv_mask & ruwe_mask], \n",
    "                   alpha=1, s=12, dust_correct=True)\n",
    "\n",
    "styles = [dict(ls='-'), dict(ls='--'), dict(ls=':')]\n",
    "for j, (age, iso) in enumerate(isos.items()):\n",
    "    iso = iso[iso['label'] < 5]\n",
    "    ax.plot(iso['G_BPbrmag']-iso['G_RPmag'], iso['Gmag'], \n",
    "            marker='', color='#777777', label=f'{age/1e6:.0f} Myr', \n",
    "            **styles[j])\n",
    "\n",
    "# from Mamajek: http://www.pas.rochester.edu/~emamajek/EEM_dwarf_UBVIJHK_colors_Teff.txt\n",
    "sptypes = {\n",
    "    'B': ['tab:purple', (-1, -0.087)],\n",
    "    'A': ['tab:blue', (-0.037, 0.327)],\n",
    "    'F': ['tab:green', (0.377, 0.767)],\n",
    "    'G': ['y', (0.782, 0.950)],\n",
    "    'K': ['tab:orange', (0.98, 1.78)],\n",
    "    'M': ['tab:red', (1.84, 5)]\n",
    "}\n",
    "for sptype, (color, lims) in sptypes.items():\n",
    "    ax.axvspan(lims[0], lims[1], lw=0, color=color, alpha=0.25, zorder=-100)\n",
    "    \n",
    "    if sptype == 'B':\n",
    "        ax.text(lims[1]-0.02, -4+0.2, \n",
    "                sptype, fontsize=16, color=color, alpha=1, \n",
    "                zorder=10, ha='right', va='top')\n",
    "    else:\n",
    "        ax.text(lims[0]+0.01, -4+0.2, \n",
    "                sptype, fontsize=16, color=color, alpha=1, \n",
    "                zorder=10, ha='left', va='top')\n",
    "    \n",
    "ax.legend(loc='center right', fontsize=16)\n",
    "ax.set_ylim(12, -4)"
   ]
  },
  {
   "cell_type": "markdown",
   "metadata": {},
   "source": [
    "The lack of bright/faint stars is because, for this initial selection, we required that all stars have a measured radial velocity from Gaia. For the M stars, Gaia only provides RVs down to G$\\sim$12.5. At the bright end, it seems that most stars brighter than G$\\sim$6–7 do not have reported radial velocities. \n",
    "\n",
    "To extend the comoving sample, we have to move to a fancier way of determining membership. "
   ]
  },
  {
   "cell_type": "markdown",
   "metadata": {},
   "source": [
    "## Velocity mixture model & membership\n",
    "\n",
    "To determine membership probabilities for all stars, including sources with missing dimensions (i.e. radial velocity), I decided to forward model the velocity distribution. Unlike Jonathan Gagné's BANYAN model, I decided not to include positional information in the model (in case this stream is very elongated or irregularly-shaped). \n",
    "\n",
    "I started by fitting a 3-component Gaussian mixture model to the velocities of 4,096 (arbitrary) randomly selected Gaia DR2 stars that have measured radial velocities with the goal of capturing the \"smooth\" part of the Milky Way / field velocity distribution (3 components roughly for the thin disk, thick disk, and halo kinematic popualtions, but in detail each is fairly substructured...). I fit for the means, variances (in each dimension, but assumed diagonal), and mixture weights given parallax, proper motions, and radial velocity, and taking the full Gaia covariance matrix over astrometry into account. (Details are in [the Overleaf document](https://www.overleaf.com/6742111511zfrnrwgkhdxv\n",
    ")). For each source, the true (unknown) 3D velocity and true distance to each star have to be included as parameters to infer along with the hyper-parameters (the parameters of each mixture component and the mixture weights).\n",
    "\n",
    "I freeze the parameters of this 3-component model — let's call it the \"field velocity component\" — to the maximum a posteriori values, and I construct another 2-component mixture model: one component is the (frozen) field velocity component, and the other component is a single Gaussian centered on the mean velocity of the original pair of comoving stars — the \"stream component.\" I set the dispersion of the stream component to the velocity difference between the two stars (0.6 km/s), but this can be tweaked later. The full mixture model looks like:\n",
    "$$\n",
    "    p(v) = w\\,p_{\\rm stream}(v) + (1-w)\\,p_{\\rm field}\n",
    "$$\n",
    "where now the parameters of both the stream and field velocity distributions are fixed, but the weight $w$ is unknown. The advantage to fixing all of the parameters is that it is not hierarchical: We can treat this as a prior on $v$ and run on each star independently. We can then use the mixture weight, $w$, inferred for each star to compute the posterior probability of belonging to the \"stream\" component.\n",
    "\n",
    "I downloaded a 200 pc x 200 pc x 200 pc cube of data from Gaia DR2 brighter than $G < 16$ and centered on the original comoving pair. This sample contains all stars, not just stars that have reported radial velocities, and contains about 230,000 sources (hence why I didn't want to run the hierarchical version of the model above :)). For each star, I use NUTS/HMC (MCMC) to sample over the star's true 3D velocity, true distance, and the mixture weight $w$, then use the samples to estimate the posterior probability of being a \"stream\" star (based on velocity alone). Here's some visualizations of the high-probability \"stream\" stars from running this model:"
   ]
  },
  {
   "cell_type": "code",
   "execution_count": null,
   "metadata": {},
   "outputs": [],
   "source": [
    "probs = at.Table.read('../cache/probs-clump-200pc-cube.fits')\n",
    "gprob = GaiaData(at.join(g.data, probs, keys='source_id'))"
   ]
  },
  {
   "cell_type": "code",
   "execution_count": null,
   "metadata": {},
   "outputs": [],
   "source": [
    "stream_g = gprob[(gprob.prob > 0.8) & (gprob.get_ruwe() < 1.4)]\n",
    "stream_c = stream_g.get_skycoord()\n",
    "print(f'{len(stream_g)} stars have prob > 0.8')"
   ]
  },
  {
   "cell_type": "markdown",
   "metadata": {},
   "source": [
    "First, we'll select only high-probability stars within 60 pc of the original pair and plot a CMD:"
   ]
  },
  {
   "cell_type": "code",
   "execution_count": null,
   "metadata": {},
   "outputs": [],
   "source": [
    "stream_dx = stream_c.cartesian.without_differentials() - mean_pair_x\n",
    "stream_60pc = stream_dx.norm() < 60*u.pc\n",
    "fig, ax = make_cmd(stream_g[stream_60pc], \n",
    "                   alpha=0.5, s=5)\n",
    "fig.suptitle('CMD of Gaia stars comoving with the original pair\\n(based on mixture model probabilities)',\n",
    "             fontsize=18);"
   ]
  },
  {
   "cell_type": "markdown",
   "metadata": {},
   "source": [
    "From the velocity distribution modeling, it looks like we now have both brighter, and fainter main sequence stars! There is definitely more contamination at the bright and faint end as we would expect (see also the white dwarfs): Without radial velocity data, the model has to use proper motions and parallax data. But the tight sequence in the CMD seems to persist even with this larger search for comoving stars — it looks like a comoving, coeval stellar population, what I would call a \"stellar stream.\""
   ]
  },
  {
   "cell_type": "markdown",
   "metadata": {},
   "source": [
    "## Galactic spatial distribution of high probability members\n",
    "\n",
    "Because we didn't use the positional information in our membership criteria, we can make some simple visualizations of the spatial distribution of high-probability members without worrying too much about selection effects."
   ]
  },
  {
   "cell_type": "code",
   "execution_count": null,
   "metadata": {},
   "outputs": [],
   "source": [
    "labels = ['x', 'y', 'z']\n",
    "\n",
    "def get_xyz_vxyz(c):\n",
    "    xyz = c.galactic.cartesian.xyz.to_value(u.pc)\n",
    "    vxyz = c.galactic.velocity.d_xyz.to_value(u.km/u.s)\n",
    "    return xyz, vxyz\n",
    "\n",
    "stream_xyz, stream_vxyz = get_xyz_vxyz(stream_c)\n",
    "stream_has_rv = np.isfinite(stream_g.radial_velocity)"
   ]
  },
  {
   "cell_type": "markdown",
   "metadata": {},
   "source": [
    "Below, I plot Galactic cartesian coordinate components for high-probability members that have measured Gaia radial velocities. The red markers are the positions of the original pair of stars. The Sun is at (0,0,0) in this coordinate system, Galactic rotation is in +y and the Galactic center is at +x:"
   ]
  },
  {
   "cell_type": "code",
   "execution_count": null,
   "metadata": {},
   "outputs": [],
   "source": [
    "xyz_lims = [(-100, 100), (10-100, 10+100), (40-100, 40+100)]\n",
    "fig, axes = plt.subplots(1, 3, figsize=(15, 5), \n",
    "                         constrained_layout=True)\n",
    "\n",
    "for k, (i, j) in enumerate([(0,1), (0,2), (1,2)]):\n",
    "    ax = axes[k]\n",
    "\n",
    "    ax.plot(stream_xyz[i][stream_has_rv],\n",
    "            stream_xyz[j][stream_has_rv],\n",
    "            marker='o', ls='none', mew=0, ms=5, alpha=0.5)\n",
    "\n",
    "    for cc in [c1, c2]:\n",
    "        _xyz, _ = get_xyz_vxyz(cc)\n",
    "        ax.scatter(_xyz[i], _xyz[j], color='tab:red', alpha=1, zorder=100, s=40)\n",
    "    \n",
    "    ax.set_xlabel(f'${labels[i]}$')\n",
    "    ax.set_ylabel(f'${labels[j]}$')\n",
    "    \n",
    "    ax.set_xlim(xyz_lims[i])\n",
    "    ax.set_ylim(xyz_lims[j])\n",
    "    \n",
    "fig.suptitle('Galactic xyz distribution of high-probability stars with RVs',\n",
    "             fontsize=18);\n",
    "fig.set_facecolor('w');"
   ]
  },
  {
   "cell_type": "markdown",
   "metadata": {},
   "source": [
    "I was initially surprised to see so many high-probability velocity \"members\" spread out throughout this volume, but I guess there are so many disk stars that this isn't too surprising. To my eye, there seems to be a slight over-density of stars near the original pair in the (x,z) and (y,z) panels at roughly constant z value ~41 pc, but I don't see an obvious over-density in the (x,y) plane. We can select this over-density in the z direction and look at the positions of just those stars:"
   ]
  },
  {
   "cell_type": "code",
   "execution_count": null,
   "metadata": {},
   "outputs": [],
   "source": [
    "stream_z_mask = np.abs(stream_xyz[2] - 41.) < 15\n",
    "\n",
    "fig, axes = plt.subplots(1, 3, figsize=(15, 5),\n",
    "                         constrained_layout=True)\n",
    "\n",
    "for k, (i, j) in enumerate([(0,1), (0,2), (1,2)]):\n",
    "    ax = axes[k]\n",
    "\n",
    "    ax.plot(stream_xyz[i][stream_has_rv & stream_z_mask],\n",
    "            stream_xyz[j][stream_has_rv & stream_z_mask],\n",
    "            marker='o', ls='none', mew=0, ms=5, alpha=0.5)\n",
    "\n",
    "    for cc in [c1, c2]:\n",
    "        _xyz, _ = get_xyz_vxyz(cc)\n",
    "        ax.scatter(_xyz[i], _xyz[j], color='tab:red', alpha=1, zorder=100, s=40)\n",
    "    \n",
    "    ax.set_xlabel(f'${labels[i]}$')\n",
    "    ax.set_ylabel(f'${labels[j]}$')\n",
    "    \n",
    "    ax.set_xlim(xyz_lims[i])\n",
    "    ax.set_ylim(xyz_lims[j])\n",
    "    \n",
    "fig.suptitle('Galactic xyz distribution of high-probability stars with RVs (within 15 pc of z=41pc)',\n",
    "             fontsize=18);\n",
    "fig.set_facecolor('w')"
   ]
  },
  {
   "cell_type": "markdown",
   "metadata": {},
   "source": [
    "Here, it does look like there could be a (fairly sparse) over-density of things in the x-y plane, roughly aligned with the diagonal line that points along the separation of the original pair? These plots show only stars that have measured RVs, but what about the full sample?"
   ]
  },
  {
   "cell_type": "code",
   "execution_count": null,
   "metadata": {},
   "outputs": [],
   "source": [
    "stream_mg, _ = get_MG_BPRP(stream_g)\n",
    "stream_mag_cut = stream_mg < 9*u.mag  # to remove obvious contamination at the faint end\n",
    "\n",
    "fig, axes = plt.subplots(1, 3, figsize=(15, 5))\n",
    "\n",
    "for k, (i, j) in enumerate([(0,1), (0,2), (1,2)]):\n",
    "    ax = axes[k]\n",
    "\n",
    "    ax.plot(stream_xyz[i][stream_mag_cut & stream_z_mask],\n",
    "            stream_xyz[j][stream_mag_cut & stream_z_mask],\n",
    "            marker='o', ls='none', mew=0, ms=5, alpha=0.5)\n",
    "\n",
    "    for cc in [c1, c2]:\n",
    "        _xyz, _ = get_xyz_vxyz(cc)\n",
    "        ax.scatter(_xyz[i], _xyz[j], color='tab:red', alpha=1, zorder=100, s=40)\n",
    "    \n",
    "    ax.set_xlabel(f'${labels[i]}$')\n",
    "    ax.set_ylabel(f'${labels[j]}$')\n",
    "    \n",
    "    ax.set_xlim(xyz_lims[i])\n",
    "    ax.set_ylim(xyz_lims[j])\n",
    "    \n",
    "fig.tight_layout()\n",
    "fig.set_facecolor('w')"
   ]
  },
  {
   "cell_type": "markdown",
   "metadata": {},
   "source": [
    "We can also look at the Galactic velocity of our group relative to the disk population. In the below panels, I plot vx, vy, vz for all stars with radial velocities in the 200pc cube. The red circle is centered on the original pair. In each panel, I select only stars that are within 4 km/s of the pair in the not-shown component of the velocity vector. For example, in the (vx, vy) panel, I only show stars with $|v_z - v_{z, {\\rm pair}}| < 4~{\\rm km}~{\\rm s}^{-1}$)."
   ]
  },
  {
   "cell_type": "code",
   "execution_count": null,
   "metadata": {},
   "outputs": [],
   "source": [
    "gal = c.galactic\n",
    "gal_vxyz = gal.velocity.d_xyz.to_value(u.km/u.s)\n",
    "mean_pair_galv = 0.5 * (c1.galactic.velocity + c2.galactic.velocity)\n",
    "pair_vxyz = mean_pair_galv.d_xyz.to_value(u.km/u.s)\n",
    "\n",
    "fig, axes = plt.subplots(1, 3, figsize=(15, 5), constrained_layout=True)\n",
    "\n",
    "not_in = [2, 1, 0]\n",
    "for k, (i, j) in enumerate([(0,1), (0,2), (1,2)]):\n",
    "    ax = axes[k]\n",
    "    \n",
    "    mask = np.abs(gal_vxyz[not_in[k]] - pair_vxyz[not_in[k]]) < 4.\n",
    "    H, xe, ye = np.histogram2d(gal_vxyz[i][mask],\n",
    "                               gal_vxyz[j][mask],\n",
    "                               bins=np.arange(-60, 30+1e-3, 0.5))\n",
    "    H = gaussian_filter(H, sigma=1.5)\n",
    "    ax.pcolormesh(xe, ye, H.T, cmap='Greys', \n",
    "                  vmin=0, vmax=6)\n",
    "    \n",
    "    circ = mpl.patches.Circle((pair_vxyz[i], pair_vxyz[j]),\n",
    "                              radius=2, alpha=0.5,\n",
    "                              facecolor='none', edgecolor='tab:red', lw=1.)\n",
    "    ax.add_patch(circ)\n",
    "\n",
    "    ax.set_xlabel(f'$v_{labels[i]}$')\n",
    "    ax.set_ylabel(f'$v_{labels[j]}$')\n",
    "    \n",
    "fig.suptitle('Galactic UVW (velocity) distribution of all Gaia stars with RVs (our group in red)',\n",
    "             fontsize=18);\n",
    "fig.set_facecolor('w')"
   ]
  },
  {
   "cell_type": "markdown",
   "metadata": {},
   "source": [
    "There might be a faint over-density near this velocity, but it's unclear whether this is a distinct group or an extension of a nearby, denser stream."
   ]
  },
  {
   "cell_type": "markdown",
   "metadata": {},
   "source": [
    "So, adding in the brigher, and some fainter, stars does not improve the (spatial) signal-to-noise of this structure, and there is only a subtle over-density of stars at the velocity of the pair. Given this, I started to wonder if our stream is a real structure?"
   ]
  },
  {
   "cell_type": "markdown",
   "metadata": {},
   "source": [
    "## Is this a real, coeval stellar stream / moving group?\n",
    "\n",
    "The first thing I checked was: If we randomly pick a number of stars from the whole sample and plot them in a CMD, will the main sequence look as tight as our group? (i.e., could we be tricking ourselves by plotting absolute magnitude in the CMD). I randomly sample stars from the same spatial volume as the stream:"
   ]
  },
  {
   "cell_type": "code",
   "execution_count": null,
   "metadata": {},
   "outputs": [],
   "source": [
    "np.random.seed(42)\n",
    "sub_stream_g = stream_g[stream_60pc & stream_z_mask]\n",
    "sub_g = g[dx_mask]\n",
    "rand_g = sub_g[np.random.choice(len(sub_g), size=len(sub_stream_g), replace=False)]"
   ]
  },
  {
   "cell_type": "code",
   "execution_count": null,
   "metadata": {},
   "outputs": [],
   "source": [
    "fig, axes = plt.subplots(1, 2, figsize=(12, 6), \n",
    "                         constrained_layout=True)\n",
    "_ = make_cmd(rand_g, ax=axes[0], alpha=0.5, s=4)\n",
    "axes[0].set_title(\"random\")\n",
    "\n",
    "_ = make_cmd(sub_stream_g, ax=axes[1], alpha=0.5, s=4)\n",
    "axes[1].set_title(\"stream\")"
   ]
  },
  {
   "cell_type": "markdown",
   "metadata": {},
   "source": [
    "At least this looked promising: A random sampling of stars from the 200 pc cube, near the original pair seem to have a spread in chemical properties, but what if we also require that the stars be co-moving with other random velocity vectors? \n",
    "\n",
    "The next thing I tried was to choose 9 random velocity vectors and see what the color-magnitude diagram looks like if I also require that stars are co-moving with these random velocity vectors:"
   ]
  },
  {
   "cell_type": "code",
   "execution_count": null,
   "metadata": {},
   "outputs": [],
   "source": [
    "# number of random velocity vectors\n",
    "n_spherel = 9\n",
    "\n",
    "# Sample random velocity components for the vectors:\n",
    "# rnd = np.random.seed(111)\n",
    "rnd = np.random.seed(12345)\n",
    "xbin = np.random.normal(0, 15, size=n_spherel)\n",
    "ybin = np.random.normal(-20, 15, size=n_spherel)\n",
    "zbin = np.random.normal(-10, 5, size=n_spherel)\n",
    "galv_bin_ctr = np.stack((xbin, ybin, zbin))"
   ]
  },
  {
   "cell_type": "markdown",
   "metadata": {},
   "source": [
    "Here, I over-plot components of these 9 randomly chosen velocity vectors (different colors) over the UVW / Galactic velocity distribution of stars in the full cube of Gaia data:"
   ]
  },
  {
   "cell_type": "code",
   "execution_count": null,
   "metadata": {},
   "outputs": [],
   "source": [
    "cmap = plt.get_cmap('jet')\n",
    "norm = mpl.colors.Normalize(0, 8)\n",
    "spherel_colors = [cmap(norm(n)) for n in range(n_spherel)]\n",
    "\n",
    "fig, axes = plt.subplots(1, 3, figsize=(15, 5))\n",
    "\n",
    "not_in = [2, 1, 0]\n",
    "for k, (i, j) in enumerate([(0,1), (0,2), (1,2)]):\n",
    "    ax = axes[k]\n",
    "    \n",
    "    _mask = ((gal_vxyz[not_in[k]] > -75) & \n",
    "             (gal_vxyz[not_in[k]] < 75))\n",
    "    H, xe, ye = np.histogram2d(gal_vxyz[i][_mask], \n",
    "                               gal_vxyz[j][_mask],\n",
    "                               bins=np.arange(-75, 75+1e-3, 1))\n",
    "    ax.pcolormesh(xe, ye, H.T, cmap='Greys', norm=mpl.colors.LogNorm())\n",
    "    \n",
    "    for n in range(n_spherel):\n",
    "        rec = mpl.patches.Circle((galv_bin_ctr[i, n], galv_bin_ctr[j, n]),\n",
    "                                 radius=4., lw=1.,\n",
    "                                 facecolor='none', edgecolor=spherel_colors[n])\n",
    "        ax.add_patch(rec)\n",
    "    \n",
    "fig.tight_layout()\n",
    "fig.set_facecolor('w')"
   ]
  },
  {
   "cell_type": "markdown",
   "metadata": {},
   "source": [
    "For each velocity vector, I select stars that have a ∆v < 4 km/s:"
   ]
  },
  {
   "cell_type": "code",
   "execution_count": null,
   "metadata": {},
   "outputs": [],
   "source": [
    "boxel_masks = []\n",
    "for n in range(n_spherel):\n",
    "    boxel_v = coord.CartesianDifferential(galv_bin_ctr[:, n] * u.km/u.s)\n",
    "    \n",
    "    dv = gal.velocity - boxel_v\n",
    "    boxel_masks.append(dv.norm() < 4*u.km/u.s)\n",
    "    \n",
    "[(dx_mask & dv_mask & ruwe_mask).sum() for dv_mask in boxel_masks]"
   ]
  },
  {
   "cell_type": "markdown",
   "metadata": {},
   "source": [
    "Here are CMDs for the 9 different random velocity selections. My read on this is: If you select stars that are co-moving with *any* velocity, they seem to form pretty tight sequences, i.e., they look like they are coeval. My question then is: **Is our stellar stream real?**. The local velocity distribution is highly sub-structured, so maybe, no matter what velocity you pick, you will always hit a group of comoving / coeval stars?"
   ]
  },
  {
   "cell_type": "code",
   "execution_count": null,
   "metadata": {},
   "outputs": [],
   "source": [
    "fig, axes = plt.subplots(3, 3, figsize=(10, 10),\n",
    "                         sharex=True, sharey=True,\n",
    "                         constrained_layout=True)\n",
    "for i, dv_mask in enumerate(boxel_masks):\n",
    "    _ = make_cmd(g[dx_mask & dv_mask & ruwe_mask], s=25, \n",
    "                 add_labels=False, app_mag_twinx=False, \n",
    "                 ax=axes.flat[i], color=spherel_colors[i])\n",
    "\n",
    "for i in range(3):\n",
    "    axes[i, 0].set_ylabel('$M_G$')\n",
    "    axes[-1, i].set_xlabel(r'$G_{\\rm BP} - G_{\\rm RP}$')\n",
    "    \n",
    "axes.flat[i].set_xlim(0.2, 2.6)\n",
    "axes.flat[i].set_ylim(11, 0)\n",
    "\n",
    "fig.suptitle('CMDs of stars comoving with\\n9 random velocity vectors', \n",
    "             fontsize=18);"
   ]
  },
  {
   "cell_type": "markdown",
   "metadata": {},
   "source": [
    "### Given these last few plots, I'm a little confused. How can we actually say whether this is a \"real\" stream / moving group? Please send thoughts / ideas!"
   ]
  }
 ],
 "metadata": {
  "kernelspec": {
   "display_name": "apw python3.7.3",
   "language": "python",
   "name": "py3"
  },
  "language_info": {
   "codemirror_mode": {
    "name": "ipython",
    "version": 3
   },
   "file_extension": ".py",
   "mimetype": "text/x-python",
   "name": "python",
   "nbconvert_exporter": "python",
   "pygments_lexer": "ipython3",
   "version": "3.7.3"
  },
  "toc": {
   "base_numbering": 1,
   "nav_menu": {},
   "number_sections": true,
   "sideBar": true,
   "skip_h1_title": false,
   "title_cell": "Table of Contents",
   "title_sidebar": "Contents",
   "toc_cell": false,
   "toc_position": {},
   "toc_section_display": true,
   "toc_window_display": false
  }
 },
 "nbformat": 4,
 "nbformat_minor": 4
}
