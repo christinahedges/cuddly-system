{
 "cells": [
  {
   "cell_type": "code",
   "execution_count": null,
   "metadata": {},
   "outputs": [],
   "source": [
    "import os\n",
    "import warnings\n",
    "\n",
    "import astropy.coordinates as coord\n",
    "from astropy.io.fits.column import VerifyWarning\n",
    "coord.galactocentric_frame_defaults.set('v4.0')\n",
    "import astropy.table as at\n",
    "import astropy.units as u\n",
    "import matplotlib as mpl\n",
    "import matplotlib.pyplot as plt\n",
    "%matplotlib inline\n",
    "import numpy as np\n",
    "\n",
    "# gala\n",
    "import gala.coordinates as gc\n",
    "import gala.dynamics as gd\n",
    "import gala.integrate as gi\n",
    "import gala.potential as gp\n",
    "from gala.units import galactic\n",
    "\n",
    "from pyia import GaiaData\n",
    "\n",
    "# Shut up, FITS!\n",
    "warnings.filterwarnings('ignore', category=VerifyWarning)"
   ]
  },
  {
   "cell_type": "code",
   "execution_count": null,
   "metadata": {},
   "outputs": [],
   "source": [
    "g = GaiaData(at.Table.read('../data/all_stars_near_theOG.csv', format='ascii.ecsv'))\n",
    "g = g[g.prob > 0.5]\n",
    "\n",
    "tmass = at.Table.read('../data/TheOGGroup-2mass.csv')\n",
    "g = GaiaData(at.join(g.data, tmass, keys='source_id', \n",
    "                     uniq_col_name='{col_name}{table_name}', table_names=['', '2']))\n",
    "\n",
    "len(g)"
   ]
  },
  {
   "cell_type": "code",
   "execution_count": null,
   "metadata": {},
   "outputs": [],
   "source": [
    "h = at.QTable.read('../data/hip_stars_near_theOG.csv', format='ascii.ecsv')\n",
    "h = h[h['prob'] > 0.5]"
   ]
  },
  {
   "cell_type": "code",
   "execution_count": null,
   "metadata": {},
   "outputs": [],
   "source": [
    "hbv = h['B-V'].value\n",
    "hmhp = h['Hpmag'].value - coord.Distance(parallax=h['Plx']).distmod.value\n",
    "\n",
    "h[(hmhp < 2.05) & (hbv < 0.5)]"
   ]
  },
  {
   "cell_type": "code",
   "execution_count": null,
   "metadata": {},
   "outputs": [],
   "source": [
    "fig, ax = plt.subplots(1, 1, figsize=(6, 6))\n",
    "ax.scatter(h['B-V'].value, \n",
    "           h['Hpmag'].value - coord.Distance(parallax=h['Plx']).distmod.value)\n",
    "\n",
    "# boi = h['HIP'] == 71618\n",
    "# ax.scatter(h['B-V'].value[boi], \n",
    "#            (h['Hpmag'].value - coord.Distance(parallax=h['Plx']).distmod.value)[boi],\n",
    "#            s=300)\n",
    "\n",
    "for age in np.arange(7.4, 8.2+1e-3, 0.2):\n",
    "    iso = at.Table.read(f'/Users/apricewhelan/data/Isochrones/MIST/FeH_0.1_iso.fits')\n",
    "    i = iso[np.isclose(iso['log10_isochrone_age_yr'], age)] \n",
    "    i = i[i['phase'] < 4]  # rgb or before\n",
    "    ax.plot(i['Tycho_B']-i['Tycho_V'], i['Hipparcos_Hp'], \n",
    "            marker='', label=f'log10age=${age:.1f}$', zorder=-10)\n",
    "\n",
    "ax.set_xlim(-1, 2)\n",
    "ax.set_ylim(7.5, -2)\n",
    "\n",
    "ax.set_xlabel('B-V')\n",
    "ax.set_ylabel('M_Hp [mag]')\n",
    "\n",
    "ax2 = ax.twinx()\n",
    "ylim = ax.get_ylim()\n",
    "fid_dm = coord.Distance(40*u.pc).distmod.value\n",
    "ax2.set_ylim(ylim[0] + fid_dm, \n",
    "             ylim[1] + fid_dm)\n",
    "\n",
    "fig.set_facecolor('w')"
   ]
  },
  {
   "cell_type": "markdown",
   "metadata": {},
   "source": [
    "Now we have a bunch of candidate members!"
   ]
  },
  {
   "cell_type": "code",
   "execution_count": null,
   "metadata": {},
   "outputs": [],
   "source": [
    "highprob_c = g.get_skycoord()"
   ]
  },
  {
   "cell_type": "code",
   "execution_count": null,
   "metadata": {},
   "outputs": [],
   "source": [
    "# Absolute magnitude, color - not extinction corrected\n",
    "mg = g.phot_g_mean_mag - g.distmod\n",
    "bprp = g.phot_bp_mean_mag - g.phot_rp_mean_mag\n",
    "\n",
    "# Absolute magnitude, color - extinction corrected\n",
    "# mg = g.get_G0() - g.distmod\n",
    "# bprp = g.get_BP0() - g.get_RP0()\n",
    "\n",
    "mh = g.h_m\n",
    "jmk = g.j_m - g.ks_m"
   ]
  },
  {
   "cell_type": "code",
   "execution_count": null,
   "metadata": {},
   "outputs": [],
   "source": [
    "bperr = 1.086 * g.phot_bp_mean_flux_error / g.phot_bp_mean_flux\n",
    "rperr = 1.086 * g.phot_rp_mean_flux_error / g.phot_rp_mean_flux\n",
    "gerr = 1.086 * g.phot_g_mean_flux_error / g.phot_g_mean_flux\n",
    "\n",
    "distmod_samples = g.get_error_samples(size=16_384)\n",
    "distmod_err = np.std(distmod_samples.distmod, axis=1)\n",
    "mgerr = np.sqrt(gerr**2 + distmod_err.value**2)\n",
    "bprperr = np.sqrt(bperr**2 + rperr**2)"
   ]
  },
  {
   "cell_type": "code",
   "execution_count": null,
   "metadata": {},
   "outputs": [],
   "source": [
    "plt.figure(figsize=(7, 4))\n",
    "plt.scatter(highprob_c.barycentricmeanecliptic.lon.degree,\n",
    "            highprob_c.barycentricmeanecliptic.lat.degree)\n",
    "plt.xlim(360, 0)\n",
    "plt.ylim(-90, 90)\n",
    "plt.xlabel('ecliptic lon')\n",
    "plt.ylabel('ecliptic lat')\n",
    "plt.tight_layout()\n",
    "\n",
    "plt.figure(figsize=(7, 4))\n",
    "plt.scatter(highprob_c.galactic.l.degree,\n",
    "            highprob_c.galactic.b.degree)\n",
    "plt.xlim(360, 0)\n",
    "plt.ylim(-90, 90)\n",
    "plt.xlabel('Galactic lon')\n",
    "plt.ylabel('Galactic lat')\n",
    "plt.tight_layout()\n",
    "\n",
    "plt.figure(figsize=(7, 4))\n",
    "plt.scatter(highprob_c.ra.degree,\n",
    "            highprob_c.dec.degree)\n",
    "plt.xlim(360, 0)\n",
    "plt.ylim(-90, 90)\n",
    "plt.xlabel('RA')\n",
    "plt.ylabel('Dec')\n",
    "plt.tight_layout()"
   ]
  },
  {
   "cell_type": "markdown",
   "metadata": {},
   "source": [
    "Color-magnitude diagrams with isochrones:"
   ]
  },
  {
   "cell_type": "code",
   "execution_count": null,
   "metadata": {},
   "outputs": [],
   "source": [
    "def make_cmd(color_by=None, color_by_norm=None, color_by_label=None):\n",
    "    \n",
    "    if color_by is not None:\n",
    "        fig, ax = plt.subplots(1, 1, figsize=(9.5, 8), \n",
    "                               constrained_layout=True)\n",
    "        \n",
    "        cs = ax.scatter(bprp, mg, c=color_by, \n",
    "                        cmap='cividis', \n",
    "                        norm=color_by_norm,\n",
    "                        edgecolor='#666666', linewidth=0.5)\n",
    "    else:\n",
    "        fig, ax = plt.subplots(1, 1, figsize=(8, 8), \n",
    "                           constrained_layout=True)\n",
    "        \n",
    "        cs = ax.scatter(bprp, mg, c='k')\n",
    "\n",
    "    ax.annotate('TIC 2749',\n",
    "                (bprp[g.source_id == 1490845584382687232].value, \n",
    "                 mg[g.source_id == 1490845584382687232].value),\n",
    "                xytext=(bprp[g.source_id == 1490845584382687232].value + 0.2, \n",
    "                        mg[g.source_id == 1490845584382687232].value - 0.4),\n",
    "                arrowprops=dict(arrowstyle='->', color='#777777'), fontsize=14)\n",
    "\n",
    "    ax.annotate('TOI 1807',\n",
    "                (bprp[g.source_id == 1476485996883837184].value, \n",
    "                 mg[g.source_id == 1476485996883837184].value),\n",
    "                xytext=(bprp[g.source_id == 1476485996883837184].value + 0.2, \n",
    "                        mg[g.source_id == 1476485996883837184].value - 0.4),\n",
    "                arrowprops=dict(arrowstyle='->', color='#777777'), fontsize=14)\n",
    "\n",
    "    ax.set_xlim(-0.5, 3)\n",
    "    ax.set_ylim(12, -4)\n",
    "\n",
    "    ax.set_xlabel(r'$G_{\\rm BP}-G_{\\rm RP}$')\n",
    "    ax.set_ylabel('$M_G$')\n",
    "\n",
    "    ax2 = ax.twinx()\n",
    "    ylim = ax.get_ylim()\n",
    "    fid_dm = coord.Distance(40*u.pc).distmod.value\n",
    "    ax2.set_ylim(ylim[0] + fid_dm, \n",
    "                 ylim[1] + fid_dm)\n",
    "    ax2.set_ylabel('~$G$ [mag]')\n",
    "    \n",
    "    if color_by is not None:\n",
    "        cb = fig.colorbar(cs, ax=ax, aspect=40)\n",
    "        if color_by_label is not None:\n",
    "            cb.set_label(color_by_label)\n",
    "    \n",
    "    fig.set_facecolor('w')\n",
    "    # fig.tight_layout()\n",
    "    \n",
    "    return fig, ax"
   ]
  },
  {
   "cell_type": "code",
   "execution_count": null,
   "metadata": {},
   "outputs": [],
   "source": [
    "_ = make_cmd(color_by=g.radial_velocity_error.value,\n",
    "             color_by_norm=mpl.colors.LogNorm(vmin=1e-1, vmax=1e1),\n",
    "             color_by_label=f'RV err [{u.km/u.s:latex_inline}]')"
   ]
  },
  {
   "cell_type": "code",
   "execution_count": null,
   "metadata": {},
   "outputs": [],
   "source": [
    "fig, ax = make_cmd()\n",
    "\n",
    "for feh in np.arange(-0.2, 0.4+1e-3, 0.2):\n",
    "    iso = at.Table.read(f'/Users/apricewhelan/data/Isochrones/MIST/FeH_{feh:.1f}_iso.fits')\n",
    "    i = iso[np.isclose(iso['log10_isochrone_age_yr'], 7.8)]  # ~60 Myr\n",
    "    i = i[i['phase'] < 4]  # rgb or before\n",
    "    ax.plot(i['G_BP']-i['G_RP'], i['G'], marker='', label=f'[Fe/H]=${feh:.1f}$')\n",
    "\n",
    "ax.legend(loc='upper right', fontsize=14)"
   ]
  },
  {
   "cell_type": "code",
   "execution_count": null,
   "metadata": {},
   "outputs": [],
   "source": [
    "fig, ax = make_cmd()\n",
    "\n",
    "for age in np.arange(7.6, 8.4+1e-3, 0.2):\n",
    "    iso = at.Table.read(f'/Users/apricewhelan/data/Isochrones/MIST/FeH_0.1_iso.fits')\n",
    "    i = iso[np.isclose(iso['log10_isochrone_age_yr'], age)] \n",
    "    i = i[i['phase'] < 4]  # rgb or before\n",
    "    age = 10**age / 1e6\n",
    "    ax.plot(i['G_BP']-i['G_RP'], i['G'], marker='', label=f'age $={age:.0f}' + r'~{\\rm Myr}$')\n",
    "\n",
    "ax.legend(loc='upper right')"
   ]
  },
  {
   "cell_type": "markdown",
   "metadata": {},
   "source": [
    "How many brighter stars do we expect?"
   ]
  },
  {
   "cell_type": "code",
   "execution_count": null,
   "metadata": {},
   "outputs": [],
   "source": [
    "from scipy.interpolate import interp1d\n",
    "from tqdm.notebook import trange\n",
    "import imf"
   ]
  },
  {
   "cell_type": "code",
   "execution_count": null,
   "metadata": {},
   "outputs": [],
   "source": [
    "iso = at.Table.read(f'/Users/apricewhelan/data/Isochrones/MIST/FeH_-0.1_iso.fits')\n",
    "i = iso[np.isclose(iso['log10_isochrone_age_yr'], 8.2)] \n",
    "\n",
    "fig, ax = make_cmd()\n",
    "ax.plot(i['G_BP']-i['G_RP'], i['G'])\n",
    "ax.set_xlim(-1, 3.5)\n",
    "ax.set_ylim(20, -6)"
   ]
  },
  {
   "cell_type": "code",
   "execution_count": null,
   "metadata": {},
   "outputs": [],
   "source": [
    "iso = at.Table.read(f'/Users/apricewhelan/data/Isochrones/MIST/FeH_-0.1_iso.fits')\n",
    "i = iso[np.isclose(iso['log10_isochrone_age_yr'], 8.2)] \n",
    "i = i[i['phase'] <= 0]  # rgb or before\n",
    "\n",
    "cluster = imf.make_cluster(10000, massfunc='salpeter')\n",
    "\n",
    "sim_mags = np.zeros((len(cluster), 3))\n",
    "for j, f in enumerate(['G', 'G_BP', 'G_RP']):\n",
    "    interp = interp1d(i['initial_mass'], i[f], kind='cubic', \n",
    "                      bounds_error=False)\n",
    "    sim_mags[:, j] = interp(cluster)\n",
    "    \n",
    "sim_mags = sim_mags[np.isfinite(sim_mags[:, 0])]\n",
    "sim_mags.shape"
   ]
  },
  {
   "cell_type": "code",
   "execution_count": null,
   "metadata": {},
   "outputs": [],
   "source": [
    "glim = (4, 7)\n",
    "nsim = ((sim_mags[:, 0] > glim[0]) & (sim_mags[:, 0] < glim[1])).sum()\n",
    "nmg = ((mg.value > glim[0]) & (mg.value < glim[1])).sum()\n",
    "downsample_fac = int(round(nsim / nmg))\n",
    "downsample_fac"
   ]
  },
  {
   "cell_type": "code",
   "execution_count": null,
   "metadata": {},
   "outputs": [],
   "source": [
    "#fig, ax = plt.subplots(figsize=(6, 6))\n",
    "\n",
    "fig, ax = make_cmd()\n",
    "\n",
    "derp = sim_mags[::downsample_fac]\n",
    "ax.scatter(derp[:,1]-derp[:,2], derp[:,0], color='tab:blue')\n",
    "\n",
    "ax.axhspan(glim[0], glim[1], zorder=-100, \n",
    "           color='tab:green', alpha=0.2, lw=0)\n",
    "\n",
    "# ax.set_xlim(-0.5, 3.)\n",
    "# ax.set_ylim(12, -4)"
   ]
  },
  {
   "cell_type": "code",
   "execution_count": null,
   "metadata": {},
   "outputs": [],
   "source": [
    "counts = {}\n",
    "\n",
    "for massfunc in ['salpeter', 'kroupa']:\n",
    "    counts[massfunc] = []\n",
    "    for trial in trange(1024):\n",
    "        cluster = imf.make_cluster(10000, massfunc=massfunc)\n",
    "\n",
    "        sim_mags = np.zeros((len(cluster), 3))\n",
    "        for j, f in enumerate(['G', 'G_BP', 'G_RP']):\n",
    "            interp = interp1d(i['initial_mass'], i[f], kind='cubic', \n",
    "                              bounds_error=False)\n",
    "            sim_mags[:, j] = interp(cluster)\n",
    "\n",
    "        sim_mags = sim_mags[np.isfinite(sim_mags[:, 0])]\n",
    "\n",
    "        nsim = ((sim_mags[:, 0] > glim[0]) & (sim_mags[:, 0] < glim[1])).sum()\n",
    "        nmg = ((mg.value > glim[0]) & (mg.value < glim[1])).sum() - 6\n",
    "        downsample_fac = int(round(nsim / nmg))\n",
    "\n",
    "        sim_mags = sim_mags[::downsample_fac]\n",
    "        lim = 6 - coord.Distance(40*u.pc).distmod.value\n",
    "        counts[massfunc].append((sim_mags[:, 0] < lim).sum())"
   ]
  },
  {
   "cell_type": "code",
   "execution_count": null,
   "metadata": {},
   "outputs": [],
   "source": [
    "fig = plt.figure(figsize=(6, 6))\n",
    "for k in counts.keys():\n",
    "    plt.hist(counts[k], bins=np.linspace(0, 50, 32), label=k, alpha=0.5)\n",
    "plt.legend(loc='upper right', fontsize=14)\n",
    "plt.xlabel('N stars G < 6 mag')\n",
    "fig.set_facecolor('w')"
   ]
  },
  {
   "cell_type": "markdown",
   "metadata": {},
   "source": [
    "---"
   ]
  },
  {
   "cell_type": "code",
   "execution_count": null,
   "metadata": {},
   "outputs": [],
   "source": [
    "g.data[derp_mask].write('../data/TheOGGroup.csv', format='ascii.ecsv', overwrite=True)"
   ]
  },
  {
   "cell_type": "code",
   "execution_count": null,
   "metadata": {},
   "outputs": [],
   "source": [
    "galcen = highprob_c.transform_to(coord.Galactocentric)\n",
    "\n",
    "fig, axes = plt.subplots(1, 2, figsize=(10, 5),\n",
    "                         sharex=True, sharey=True)\n",
    "\n",
    "derp_mask = (galcen.z.to_value(u.pc) > 30)\n",
    "\n",
    "ax = axes[0]\n",
    "ax.scatter((galcen.x - -galcen.galcen_distance).to_value(u.pc)[derp_mask],\n",
    "           galcen.y.to_value(u.pc)[derp_mask])\n",
    "ax.set_xlim(-110, 110)\n",
    "ax.set_ylim(-110, 110)\n",
    "ax.set_xlabel('$x$ [pc]')\n",
    "ax.set_ylabel('$y$ [pc]')\n",
    "\n",
    "ax = axes[1]\n",
    "ax.scatter((galcen.x - -galcen.galcen_distance).to_value(u.pc)[derp_mask],\n",
    "           galcen.z.to_value(u.pc)[derp_mask] - galcen.z_sun.to_value(u.pc))\n",
    "\n",
    "ax.set_xlabel('$x$ [pc]')\n",
    "ax.set_ylabel('$z$ [pc]')\n",
    "\n",
    "fig.tight_layout()\n",
    "fig.set_facecolor('w')"
   ]
  },
  {
   "cell_type": "code",
   "execution_count": null,
   "metadata": {},
   "outputs": [],
   "source": [
    "vxyz0 = galcen.galcen_v_sun.d_xyz\n",
    "\n",
    "fig, axes = plt.subplots(1, 2, figsize=(10, 5),\n",
    "                         sharex=True, sharey=True)\n",
    "\n",
    "ax = axes[0]\n",
    "ax.scatter((galcen.v_x - vxyz0[0]).to_value(u.km/u.s),\n",
    "           (galcen.v_y - vxyz0[1]).to_value(u.km/u.s),\n",
    "           alpha=0.5, linewidth=0)\n",
    "ax.set_xlim(-30, 30)\n",
    "ax.set_ylim(-30, 30)\n",
    "ax.set_xlabel('$vx$')\n",
    "ax.set_ylabel('$vy$')\n",
    "\n",
    "ax = axes[1]\n",
    "ax.scatter((galcen.v_x - vxyz0[0]).to_value(u.km/u.s),\n",
    "           (galcen.v_z - vxyz0[2]).to_value(u.km/u.s),\n",
    "           alpha=0.5, linewidth=0)\n",
    "\n",
    "ax.set_xlabel('$vx$')\n",
    "ax.set_ylabel('$vz$')\n",
    "\n",
    "fig.tight_layout()\n",
    "fig.set_facecolor('w')"
   ]
  },
  {
   "cell_type": "code",
   "execution_count": null,
   "metadata": {},
   "outputs": [],
   "source": [
    "for x in g.source_id[np.argsort(g.phot_g_mean_mag)][:10]:\n",
    "    print(f'Gaia DR2 {x}')"
   ]
  },
  {
   "cell_type": "markdown",
   "metadata": {},
   "source": [
    "xmatch with APOGEE, LAMOST, etc."
   ]
  },
  {
   "cell_type": "code",
   "execution_count": null,
   "metadata": {},
   "outputs": [],
   "source": [
    "allstar = at.Table.read('/Users/apricewhelan/data/APOGEE_beta/allStar-r13-l33-58932beta.fits')"
   ]
  },
  {
   "cell_type": "code",
   "execution_count": null,
   "metadata": {},
   "outputs": [],
   "source": [
    "np.isin(g.source_id, allstar['GAIA_SOURCE_ID']).sum()"
   ]
  },
  {
   "cell_type": "code",
   "execution_count": null,
   "metadata": {},
   "outputs": [],
   "source": [
    "_ = make_cmd(color_by=np.isin(g.source_id, allstar['GAIA_SOURCE_ID']),\n",
    "             color_by_norm=mpl.colors.Normalize(vmin=0, vmax=1),\n",
    "             color_by_label=f'in APOGEE')"
   ]
  },
  {
   "cell_type": "code",
   "execution_count": null,
   "metadata": {},
   "outputs": [],
   "source": [
    "stars = allstar[np.isin(allstar['GAIA_SOURCE_ID'], g.source_id)]\n",
    "stars = stars[np.unique(stars['APOGEE_ID'], return_index=True)[1]]"
   ]
  },
  {
   "cell_type": "code",
   "execution_count": null,
   "metadata": {},
   "outputs": [],
   "source": [
    "stars['VSINI']"
   ]
  },
  {
   "cell_type": "code",
   "execution_count": null,
   "metadata": {},
   "outputs": [],
   "source": [
    "stars_100pc = allstar[allstar['GAIA_PARALLAX'] > coord.Distance(100*u.pc).parallax.value]\n",
    "len(stars_100pc)"
   ]
  },
  {
   "cell_type": "code",
   "execution_count": null,
   "metadata": {},
   "outputs": [],
   "source": [
    "fig, ax = plt.subplots(figsize=(6, 6))\n",
    "\n",
    "ax.errorbar(stars['M_H'], stars['ALPHA_M'],\n",
    "            xerr=stars['M_H_ERR'],\n",
    "            yerr=stars['ALPHA_M_ERR'],\n",
    "            ls='none', marker='.')\n",
    "\n",
    "ax.hist2d(stars_100pc['M_H'], stars_100pc['ALPHA_M'],\n",
    "          bins=(np.arange(-0.5, 0.5+1e-4, 0.01),\n",
    "                np.arange(-0.2, 0.2+1e-3, 0.005)),\n",
    "          cmap='Blues', zorder=-10)\n",
    "\n",
    "ax.set_xlim(-0.5, 0.5)\n",
    "ax.set_ylim(-0.2, 0.2)\n",
    "\n",
    "ax.set_xlabel('[M/H]')\n",
    "ax.set_ylabel('[alpha/M]')"
   ]
  },
  {
   "cell_type": "code",
   "execution_count": null,
   "metadata": {},
   "outputs": [],
   "source": [
    "fig, ax = plt.subplots(figsize=(6, 6))\n",
    "\n",
    "ax.errorbar(stars['MG_FE'], \n",
    "            stars['MN_FE'],\n",
    "            xerr=stars['MG_FE_ERR'],\n",
    "            yerr=stars['MN_FE_ERR'],\n",
    "            ls='none', marker='.')\n",
    "\n",
    "ax.hist2d(stars_100pc['MG_FE'], \n",
    "          stars_100pc['MN_FE'],\n",
    "          bins=(np.arange(-0.5, 0.5+1e-4, 0.01),\n",
    "                np.arange(-0.2, 0.2+1e-3, 0.005)),\n",
    "          cmap='Blues', zorder=-10)\n",
    "\n",
    "ax.set_xlim(-0.5, 0.5)\n",
    "ax.set_ylim(-0.2, 0.2)\n",
    "\n",
    "# ax.set_xlabel('[M/H]')\n",
    "# ax.set_ylabel('[alpha/M]')"
   ]
  },
  {
   "cell_type": "code",
   "execution_count": null,
   "metadata": {},
   "outputs": [],
   "source": [
    "fig, ax = plt.subplots(figsize=(6, 6))\n",
    "\n",
    "ax.errorbar(stars['MG_FE'], \n",
    "            stars['AL_FE'],\n",
    "            xerr=stars['MG_FE_ERR'],\n",
    "            yerr=stars['AL_FE_ERR'],\n",
    "            ls='none', marker='.')\n",
    "\n",
    "ax.hist2d(stars_100pc['MG_FE'], \n",
    "          stars_100pc['AL_FE'],\n",
    "          bins=(np.arange(-0.5, 0.5+1e-4, 0.01),\n",
    "                np.arange(-0.4, 0.2+1e-3, 0.005)),\n",
    "          cmap='Blues', zorder=-10)\n",
    "\n",
    "ax.set_xlim(-0.5, 0.5)\n",
    "ax.set_ylim(-0.4, 0.2)\n",
    "\n",
    "ax.set_xlabel('[Mg/Fe]')\n",
    "ax.set_ylabel('[Al/Fe]')"
   ]
  },
  {
   "cell_type": "markdown",
   "metadata": {},
   "source": [
    "TODO: xmatch with 2MASS and remake CMD"
   ]
  },
  {
   "cell_type": "code",
   "execution_count": null,
   "metadata": {},
   "outputs": [],
   "source": []
  }
 ],
 "metadata": {
  "kernelspec": {
   "display_name": "Python [conda env:root] *",
   "language": "python",
   "name": "conda-root-py"
  },
  "language_info": {
   "codemirror_mode": {
    "name": "ipython",
    "version": 3
   },
   "file_extension": ".py",
   "mimetype": "text/x-python",
   "name": "python",
   "nbconvert_exporter": "python",
   "pygments_lexer": "ipython3",
   "version": "3.7.7"
  },
  "toc": {
   "base_numbering": 1,
   "nav_menu": {},
   "number_sections": true,
   "sideBar": true,
   "skip_h1_title": false,
   "title_cell": "Table of Contents",
   "title_sidebar": "Contents",
   "toc_cell": false,
   "toc_position": {},
   "toc_section_display": true,
   "toc_window_display": false
  }
 },
 "nbformat": 4,
 "nbformat_minor": 4
}
