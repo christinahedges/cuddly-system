{
 "cells": [
  {
   "cell_type": "code",
   "execution_count": null,
   "metadata": {},
   "outputs": [],
   "source": [
    "import numpy as np\n",
    "import matplotlib as mpl\n",
    "import matplotlib.pyplot as plt\n",
    "%matplotlib inline\n",
    "import astropy.coordinates as coord\n",
    "import astropy.table as at\n",
    "import astropy.units as u\n",
    "from pyia import GaiaData\n",
    "from scipy.interpolate import interp1d\n",
    "\n",
    "coord.galactocentric_frame_defaults.set('v4.0');"
   ]
  },
  {
   "cell_type": "code",
   "execution_count": null,
   "metadata": {},
   "outputs": [],
   "source": [
    "t = at.Table.read('../cache/probs.fits')\n",
    "d = at.Table.read('../data/150pc_MG12-result.fits.gz')\n",
    "joined = at.join(d, t, keys='source_id', join_type='left')\n",
    "\n",
    "g = GaiaData(joined[joined['prob'] > 0.5])\n",
    "allg = GaiaData(joined)"
   ]
  },
  {
   "cell_type": "markdown",
   "metadata": {},
   "source": [
    "---\n",
    "\n",
    "# CMDs"
   ]
  },
  {
   "cell_type": "code",
   "execution_count": null,
   "metadata": {},
   "outputs": [],
   "source": [
    "mg = g.phot_g_mean_mag - g.distmod\n",
    "bprp = g.phot_bp_mean_mag - g.phot_rp_mean_mag"
   ]
  },
  {
   "cell_type": "code",
   "execution_count": null,
   "metadata": {},
   "outputs": [],
   "source": [
    "iso = at.Table.read('/mnt/home/apricewhelan/data/isochrones/PARSEC/FeH_0.4_iso.fits')\n",
    "iso = iso[np.isclose(iso['log(age/yr)'], 8.2)]\n",
    "iso = iso[iso['stage'] < 2]"
   ]
  },
  {
   "cell_type": "code",
   "execution_count": null,
   "metadata": {},
   "outputs": [],
   "source": [
    "iso_interp = interp1d(iso['G'], iso['G_BP']-iso['G_RP'])"
   ]
  },
  {
   "cell_type": "code",
   "execution_count": null,
   "metadata": {},
   "outputs": [],
   "source": [
    "fig, ax = plt.subplots(1, 1, figsize=(6, 6))\n",
    "\n",
    "ax.plot(bprp, mg, marker='o', ls='none', alpha=0.5, mew=0)\n",
    "\n",
    "ax.plot(iso['G_BP']-iso['G_RP'], iso['G'])\n",
    "\n",
    "pred_bprp = iso_interp(mg.value)\n",
    "cmd_mask = (np.abs(bprp.value - pred_bprp) < 0.15) #& (mg < 9*u.mag)\n",
    "ax.plot(bprp[cmd_mask], mg[cmd_mask], \n",
    "        marker='o', ls='none', alpha=0.5, mew=0, color='tab:red')\n",
    "\n",
    "ax.set_xlim(-0.5, 3.5)\n",
    "ax.set_ylim(12.5, -4)\n",
    "\n",
    "ax.set_xlabel('BP-RP')\n",
    "ax.set_ylabel('$M_G$')\n",
    "\n",
    "fig.set_facecolor('w')"
   ]
  },
  {
   "cell_type": "code",
   "execution_count": null,
   "metadata": {},
   "outputs": [],
   "source": [
    "c = g.get_skycoord()\n",
    "galcen = c.transform_to(coord.Galactocentric)\n",
    "\n",
    "allc = allg.get_skycoord()\n",
    "allgalcen = allc.transform_to(coord.Galactocentric)"
   ]
  },
  {
   "cell_type": "code",
   "execution_count": null,
   "metadata": {},
   "outputs": [],
   "source": [
    "dx = galcen.data.without_differentials() + coord.CartesianRepresentation(galcen.galcen_distance * [1, 0, 0])"
   ]
  },
  {
   "cell_type": "code",
   "execution_count": null,
   "metadata": {},
   "outputs": [],
   "source": [
    "fig, axes = plt.subplots(1, 3, figsize=(15, 5))\n",
    "\n",
    "for k, (i, j) in enumerate([(0,1), (0,2), (1,2)]):\n",
    "    ax = axes[k]\n",
    "\n",
    "    ax.plot(dx.xyz.to_value(u.pc)[i][cmd_mask],\n",
    "            dx.xyz.to_value(u.pc)[j][cmd_mask],\n",
    "            marker='o', ls='none', mew=0, ms=5, alpha=0.5)\n",
    "\n",
    "    ax.set_xlabel(f'$x_{i+1}$')\n",
    "    ax.set_ylabel(f'$x_{j+1}$')\n",
    "fig.tight_layout()\n",
    "fig.set_facecolor('w')"
   ]
  },
  {
   "cell_type": "code",
   "execution_count": null,
   "metadata": {},
   "outputs": [],
   "source": [
    "# vcirc from Eilers: https://ui.adsabs.harvard.edu/abs/2019ApJ...871..120E/abstract\n",
    "vcirc = coord.CartesianDifferential([0, 229, 0.] * u.km/u.s)"
   ]
  },
  {
   "cell_type": "code",
   "execution_count": null,
   "metadata": {},
   "outputs": [],
   "source": [
    "dv = galcen.velocity - vcirc\n",
    "alldv = allgalcen.velocity - vcirc"
   ]
  },
  {
   "cell_type": "code",
   "execution_count": null,
   "metadata": {},
   "outputs": [],
   "source": [
    "np.isfinite(dv.d_x).sum(), len(dv)"
   ]
  },
  {
   "cell_type": "code",
   "execution_count": null,
   "metadata": {},
   "outputs": [],
   "source": [
    "from scipy.ndimage import gaussian_filter"
   ]
  },
  {
   "cell_type": "code",
   "execution_count": null,
   "metadata": {},
   "outputs": [],
   "source": [
    "for cuddly in [True, False]:\n",
    "    fig, axes = plt.subplots(1, 3, figsize=(15, 5))\n",
    "\n",
    "    for k, (i, j) in enumerate([(0,1), (0,2), (1,2)]):\n",
    "        ax = axes[k]\n",
    "\n",
    "        H, xe, ye = np.histogram2d(alldv.d_xyz.to_value(u.km/u.s)[i],\n",
    "                                   alldv.d_xyz.to_value(u.km/u.s)[j],\n",
    "                                   bins=np.arange(-50, 50+1e-3, 1))\n",
    "        \n",
    "#         ax.pcolormesh(xe, ye, H.T, \n",
    "#                       norm=mpl.colors.LogNorm(), cmap='Greys');\n",
    "        if cuddly:\n",
    "            H = H - gaussian_filter(H, sigma=3)\n",
    "            ax.pcolormesh(xe, ye, H.T, cmap='Greys', vmin=-20, vmax=20)\n",
    "        else:\n",
    "            ax.pcolormesh(xe, ye, H.T, cmap='Greys')\n",
    "        \n",
    "        ax.scatter(np.nanmedian(dv.d_xyz.to_value(u.km/u.s)[i]),\n",
    "                   np.nanmedian(dv.d_xyz.to_value(u.km/u.s)[j]),\n",
    "                   marker='o', zorder=100, linewidth=2, facecolor='none', \n",
    "                   alpha=0.75, s=250, edgecolor='tab:red')\n",
    "            \n",
    "        ax.set_xlabel(f'$v_{i+1}$')\n",
    "        ax.set_ylabel(f'$v_{j+1}$')\n",
    "    fig.tight_layout()\n",
    "    fig.set_facecolor('w')"
   ]
  },
  {
   "cell_type": "code",
   "execution_count": null,
   "metadata": {},
   "outputs": [],
   "source": []
  }
 ],
 "metadata": {
  "kernelspec": {
   "display_name": "apw python3.7.3",
   "language": "python",
   "name": "py3"
  },
  "language_info": {
   "codemirror_mode": {
    "name": "ipython",
    "version": 3
   },
   "file_extension": ".py",
   "mimetype": "text/x-python",
   "name": "python",
   "nbconvert_exporter": "python",
   "pygments_lexer": "ipython3",
   "version": "3.7.3"
  }
 },
 "nbformat": 4,
 "nbformat_minor": 4
}
