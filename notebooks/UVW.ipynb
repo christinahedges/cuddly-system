{
 "cells": [
  {
   "cell_type": "code",
   "execution_count": null,
   "metadata": {},
   "outputs": [],
   "source": [
    "import numpy as np\n",
    "import matplotlib as mpl\n",
    "import matplotlib.pyplot as plt\n",
    "%matplotlib inline\n",
    "import astropy.coordinates as coord\n",
    "import astropy.table as at\n",
    "import astropy.units as u\n",
    "from pyia import GaiaData\n",
    "from scipy.interpolate import interp1d\n",
    "from scipy.ndimage import gaussian_filter\n",
    "\n",
    "coord.galactocentric_frame_defaults.set('v4.0');"
   ]
  },
  {
   "cell_type": "code",
   "execution_count": null,
   "metadata": {},
   "outputs": [],
   "source": [
    "run_name = '150pc_MG12-result'\n",
    "t = at.Table.read(f'../cache/probs-{run_name}.fits')\n",
    "d = at.Table.read(f'../data/{run_name}.fits.gz')\n",
    "joined = at.join(d, t, keys='source_id', join_type='left')\n",
    "\n",
    "g = GaiaData(joined[joined['prob'] > 0.5])\n",
    "allg = GaiaData(joined)"
   ]
  },
  {
   "cell_type": "markdown",
   "metadata": {},
   "source": [
    "---\n",
    "\n",
    "# CMDs"
   ]
  },
  {
   "cell_type": "code",
   "execution_count": null,
   "metadata": {},
   "outputs": [],
   "source": [
    "mg = g.phot_g_mean_mag - g.distmod\n",
    "bprp = g.phot_bp_mean_mag - g.phot_rp_mean_mag"
   ]
  },
  {
   "cell_type": "code",
   "execution_count": null,
   "metadata": {},
   "outputs": [],
   "source": [
    "iso = at.Table.read('/mnt/home/apricewhelan/data/isochrones/PARSEC/FeH_0.4_iso.fits')\n",
    "iso = iso[np.isclose(iso['log(age/yr)'], 8.2)]\n",
    "iso = iso[iso['stage'] < 2]"
   ]
  },
  {
   "cell_type": "code",
   "execution_count": null,
   "metadata": {},
   "outputs": [],
   "source": [
    "iso_interp = interp1d(iso['G'], iso['G_BP']-iso['G_RP'])"
   ]
  },
  {
   "cell_type": "code",
   "execution_count": null,
   "metadata": {},
   "outputs": [],
   "source": [
    "fig, ax = plt.subplots(1, 1, figsize=(6, 6))\n",
    "\n",
    "ax.plot(bprp, mg, marker='o', ls='none', alpha=0.5, mew=0)\n",
    "\n",
    "ax.plot(iso['G_BP']-iso['G_RP'], iso['G'])\n",
    "\n",
    "pred_bprp = iso_interp(mg.value)\n",
    "cmd_mask = (np.abs(bprp.value - pred_bprp) < 0.15) #& (mg < 9*u.mag)\n",
    "ax.plot(bprp[cmd_mask], mg[cmd_mask], \n",
    "        marker='o', ls='none', alpha=0.5, mew=0, color='tab:red')\n",
    "\n",
    "ax.set_xlim(-0.5, 3.5)\n",
    "ax.set_ylim(12.5, -4)\n",
    "\n",
    "ax.set_xlabel('BP-RP')\n",
    "ax.set_ylabel('$M_G$')\n",
    "\n",
    "fig.set_facecolor('w')"
   ]
  },
  {
   "cell_type": "code",
   "execution_count": null,
   "metadata": {},
   "outputs": [],
   "source": [
    "c = g.get_skycoord()\n",
    "gal = c.galactic\n",
    "\n",
    "allc = allg.get_skycoord()\n",
    "allgal = allc.galactic"
   ]
  },
  {
   "cell_type": "code",
   "execution_count": null,
   "metadata": {},
   "outputs": [],
   "source": [
    "xyz = gal.cartesian.xyz.to_value(u.pc)"
   ]
  },
  {
   "cell_type": "code",
   "execution_count": null,
   "metadata": {},
   "outputs": [],
   "source": [
    "labels = ['x', 'y', 'z']\n",
    "\n",
    "fig, axes = plt.subplots(1, 3, figsize=(15, 5))\n",
    "\n",
    "for k, (i, j) in enumerate([(0,1), (0,2), (1,2)]):\n",
    "    ax = axes[k]\n",
    "\n",
    "    ax.plot(xyz[i][cmd_mask],\n",
    "            xyz[j][cmd_mask],\n",
    "            marker='o', ls='none', mew=0, ms=5, alpha=0.5)\n",
    "\n",
    "    ax.set_xlabel(f'${labels[i]}$')\n",
    "    ax.set_ylabel(f'${labels[j]}$')\n",
    "fig.tight_layout()\n",
    "fig.set_facecolor('w')"
   ]
  },
  {
   "cell_type": "code",
   "execution_count": null,
   "metadata": {},
   "outputs": [],
   "source": [
    "allvxyz = allgal.velocity.d_xyz.to_value(u.km/u.s)\n",
    "vxyz = gal.velocity.d_xyz.to_value(u.km/u.s)\n",
    "vxyz = np.nanmedian(vxyz[:, cmd_mask], axis=1)\n",
    "vxyz"
   ]
  },
  {
   "cell_type": "code",
   "execution_count": null,
   "metadata": {},
   "outputs": [],
   "source": [
    "# control_v0 = np.array([15, 5, -2.5])\n",
    "# derp = coord.SkyCoord(coord.CartesianRepresentation([10,10,10]*u.pc).with_differentials(coord.CartesianDifferential(control_v0*u.km/u.s)), \n",
    "#                       frame='galactic').icrs.velocity\n",
    "\n",
    "control_v0 = np.array([15, 5, -2.5])\n",
    "derp = coord.SkyCoord(coord.CartesianRepresentation([10,10,10]*u.pc).with_differentials(coord.CartesianDifferential(control_v0*u.km/u.s)), \n",
    "                      frame='icrs').galactic.velocity\n",
    "control_v0 = derp.d_xyz.value\n",
    "control_v0"
   ]
  },
  {
   "cell_type": "code",
   "execution_count": null,
   "metadata": {},
   "outputs": [],
   "source": [
    "for cuddly in [True, False]:\n",
    "    fig, axes = plt.subplots(1, 3, figsize=(15, 5))\n",
    "\n",
    "    for k, (i, j) in enumerate([(0,1), (0,2), (1,2)]):\n",
    "        ax = axes[k]\n",
    "\n",
    "        H, xe, ye = np.histogram2d(allvxyz[i],\n",
    "                                   allvxyz[j],\n",
    "                                   bins=np.arange(-75, 50+1e-3, 1))\n",
    "        \n",
    "#         ax.pcolormesh(xe, ye, H.T, \n",
    "#                       norm=mpl.colors.LogNorm(), cmap='Greys');\n",
    "        if cuddly:\n",
    "            H = H - gaussian_filter(H, sigma=3)\n",
    "            ax.pcolormesh(xe, ye, H.T, cmap='Greys', vmin=-20, vmax=20)\n",
    "        else:\n",
    "            ax.pcolormesh(xe, ye, H.T, cmap='Greys')\n",
    "        \n",
    "        ax.scatter(vxyz[i], vxyz[j],\n",
    "                   marker='o', zorder=100, linewidth=2, facecolor='none', \n",
    "                   alpha=0.75, s=250, edgecolor='tab:red')\n",
    "        \n",
    "        ax.scatter(control_v0[i],\n",
    "                   control_v0[j],\n",
    "                   marker='o', zorder=100, linewidth=2, facecolor='none', \n",
    "                   alpha=0.75, s=150, edgecolor='tab:orange')\n",
    "            \n",
    "        ax.set_xlabel(f'$v_{labels[i]}$')\n",
    "        ax.set_ylabel(f'$v_{labels[j]}$')\n",
    "    fig.tight_layout()\n",
    "    fig.set_facecolor('w')"
   ]
  },
  {
   "cell_type": "code",
   "execution_count": null,
   "metadata": {},
   "outputs": [],
   "source": [
    "fig, axes = plt.subplots(1, 3, figsize=(15, 5))\n",
    "\n",
    "fig1d, axes1d = plt.subplots(1, 3, figsize=(15, 5))\n",
    "\n",
    "not_in = [2, 1, 0]\n",
    "for k, (i, j) in enumerate([(0,1), (0,2), (1,2)]):\n",
    "    ax = axes[k]\n",
    "    \n",
    "    mask = np.abs(allvxyz[not_in[k]] - vxyz[not_in[k]]) < 2.\n",
    "    print(mask.sum())\n",
    "    H, xe, ye = np.histogram2d(allvxyz[i][mask],\n",
    "                               allvxyz[j][mask],\n",
    "                               bins=np.arange(-60, 30+1e-3, 0.5))\n",
    "    H = gaussian_filter(H, sigma=1.5)\n",
    "    ax.pcolormesh(xe, ye, H.T, cmap='Greys')\n",
    "    \n",
    "    circ = mpl.patches.Circle((vxyz[i], vxyz[j]),\n",
    "                              radius=2, \n",
    "                              facecolor='none', edgecolor='tab:red', lw=1.)\n",
    "    ax.add_patch(circ)\n",
    "#     ax.scatter(vxyz[i], vxyz[j],\n",
    "#                marker='o', zorder=100, linewidth=2, facecolor='none', \n",
    "#                alpha=0.75, s=250, edgecolor='tab:red')\n",
    "\n",
    "    ax.set_xlabel(f'$v_{labels[i]}$')\n",
    "    ax.set_ylabel(f'$v_{labels[j]}$')\n",
    "    \n",
    "    # --------------\n",
    "    # 1D histograms:\n",
    "    ax = axes1d[k]\n",
    "    \n",
    "    circ_mask = circ.get_path().contains_points(np.stack((allvxyz[i], allvxyz[j])).T)\n",
    "    ax.hist(allvxyz[not_in[k]][circ_mask], bins=np.arange(-60, 30, 2))\n",
    "    ax.axvline(vxyz[not_in[k]], color='tab:red')\n",
    "    print(circ_mask.sum())\n",
    "    \n",
    "fig.tight_layout()\n",
    "fig.set_facecolor('w')\n",
    "\n",
    "fig1d.tight_layout()\n",
    "fig1d.set_facecolor('w')"
   ]
  },
  {
   "cell_type": "code",
   "execution_count": null,
   "metadata": {},
   "outputs": [],
   "source": [
    "fig, axes = plt.subplots(1, 3, figsize=(15, 5))\n",
    "\n",
    "for k in range(3):\n",
    "    ax = axes[k]\n",
    "    \n",
    "    mask = np.abs(allvxyz[not_in[k]] - vxyz[not_in[k]]) < 1.\n",
    "    print(mask.sum())\n",
    "    H, xe, ye = np.histogram2d(allvxyz[i][mask],\n",
    "                               allvxyz[j][mask],\n",
    "                               bins=(np.arange(0, 80, 2),\n",
    "                                     np.arange(-60, 30+1e-3, 0.5)))\n",
    "    H = gaussian_filter(H, sigma=1.5)\n",
    "    ax.pcolormesh(xe, ye, H.T, cmap='Greys')\n",
    "\n",
    "    ax.set_xlabel(f'$v_{labels[i]}$')\n",
    "    ax.set_ylabel(f'$v_{labels[j]}$')\n",
    "    \n",
    "fig.tight_layout()\n",
    "fig.set_facecolor('w')"
   ]
  },
  {
   "cell_type": "code",
   "execution_count": null,
   "metadata": {},
   "outputs": [],
   "source": []
  }
 ],
 "metadata": {
  "kernelspec": {
   "display_name": "apw python3.7.3",
   "language": "python",
   "name": "py3"
  },
  "language_info": {
   "codemirror_mode": {
    "name": "ipython",
    "version": 3
   },
   "file_extension": ".py",
   "mimetype": "text/x-python",
   "name": "python",
   "nbconvert_exporter": "python",
   "pygments_lexer": "ipython3",
   "version": "3.7.3"
  }
 },
 "nbformat": 4,
 "nbformat_minor": 4
}
