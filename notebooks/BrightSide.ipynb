{
 "cells": [
  {
   "cell_type": "code",
   "execution_count": null,
   "metadata": {},
   "outputs": [],
   "source": [
    "import pandas as pd\n",
    "import lightkurve as lk\n",
    "import numpy as np\n",
    "from tqdm.notebook import tqdm\n",
    "import matplotlib.pyplot as plt"
   ]
  },
  {
   "cell_type": "code",
   "execution_count": null,
   "metadata": {},
   "outputs": [],
   "source": [
    "df = pd.read_csv('bright.csv')\n",
    "og = pd.read_csv(\"updated_table.csv\")"
   ]
  },
  {
   "cell_type": "code",
   "execution_count": null,
   "metadata": {},
   "outputs": [],
   "source": []
  },
  {
   "cell_type": "code",
   "execution_count": null,
   "metadata": {},
   "outputs": [],
   "source": [
    "fig, ax = plt.subplots()\n",
    "for idx in tqdm(range(len(df))):\n",
    "    name = f'HIP {int(df.loc[idx].hip)}'\n",
    "    if name in ['HIP 51056', 'HIP 61968', 'HIP 65241']:\n",
    "        continue\n",
    "    sr = lk.search_lightcurvefile(name)\n",
    "    if len(sr) == 0:\n",
    "        continue\n",
    "    sr = sr[np.where(sr.target_name == sr.target_name[0])]\n",
    "    lcs = sr.download_all()\n",
    "    if name == 'HIP 71618':\n",
    "        lc = lcs.SAP_FLUX.stitch().remove_nans()\n",
    "    else:\n",
    "        lc = lcs.PDCSAP_FLUX.stitch().remove_nans()\n",
    "    lc.label = name\n",
    "    lc.plot()\n",
    "    per = lc.remove_outliers(10).to_periodogram()\n",
    "    period = per.period_at_max_power.value\n",
    "    if name == 'HIP 67301':\n",
    "        teff = 17500\n",
    "    else:\n",
    "        teff = lcs[0].get_header()['TEFF']\n",
    "    df.loc[idx, 'teff'] = teff\n",
    "    df.loc[idx, 'period'] = period\n",
    "    ax.scatter(teff, period, c='k')\n",
    "    print(lc.ra, lc.dec)\n",
    "\n",
    "ax.set_xlim(20000, 3000)\n",
    "ax.set_ylim(0, 15)"
   ]
  },
  {
   "cell_type": "code",
   "execution_count": null,
   "metadata": {},
   "outputs": [],
   "source": [
    "lc.ra, lc.dec"
   ]
  },
  {
   "cell_type": "code",
   "execution_count": null,
   "metadata": {},
   "outputs": [],
   "source": [
    "plt.scatter(df.teff, df.period, c='r', label='fainter end')\n",
    "plt.scatter(og.teff_val, og.period, c='k', label='brighter end')\n",
    "plt.xlabel('Teff')\n",
    "plt.ylabel('Rough Rotation Period')\n",
    "plt.legend()\n",
    "plt.xlim(20000, 2000)\n",
    "plt.ylim(-1, 15)"
   ]
  },
  {
   "cell_type": "code",
   "execution_count": null,
   "metadata": {},
   "outputs": [],
   "source": []
  },
  {
   "cell_type": "code",
   "execution_count": null,
   "metadata": {},
   "outputs": [],
   "source": []
  },
  {
   "cell_type": "code",
   "execution_count": null,
   "metadata": {},
   "outputs": [],
   "source": []
  },
  {
   "cell_type": "code",
   "execution_count": null,
   "metadata": {},
   "outputs": [],
   "source": [
    "idx"
   ]
  },
  {
   "cell_type": "code",
   "execution_count": null,
   "metadata": {},
   "outputs": [],
   "source": [
    "df.loc[idx]"
   ]
  },
  {
   "cell_type": "code",
   "execution_count": null,
   "metadata": {},
   "outputs": [],
   "source": [
    "lcs[0].SAP_FLUX.plot()"
   ]
  },
  {
   "cell_type": "code",
   "execution_count": null,
   "metadata": {},
   "outputs": [],
   "source": [
    "lc = lcs.PDCSAP_FLUX.stitch().remove_nans()"
   ]
  },
  {
   "cell_type": "code",
   "execution_count": null,
   "metadata": {},
   "outputs": [],
   "source": [
    "per = lc.remove_outliers(5).to_periodogram()"
   ]
  },
  {
   "cell_type": "code",
   "execution_count": null,
   "metadata": {},
   "outputs": [],
   "source": [
    "lcs[0].PDCSAP_FLUX.plot()"
   ]
  },
  {
   "cell_type": "code",
   "execution_count": null,
   "metadata": {},
   "outputs": [],
   "source": [
    "lc.fold(per.period_at_max_power.value).scatter()"
   ]
  },
  {
   "cell_type": "code",
   "execution_count": null,
   "metadata": {},
   "outputs": [],
   "source": [
    "per.period_at_max_power"
   ]
  },
  {
   "cell_type": "code",
   "execution_count": null,
   "metadata": {},
   "outputs": [],
   "source": [
    "lc.plot_river(per.period_at_max_power.value)"
   ]
  },
  {
   "cell_type": "code",
   "execution_count": null,
   "metadata": {},
   "outputs": [],
   "source": [
    "per.period_at_max_power"
   ]
  },
  {
   "cell_type": "code",
   "execution_count": null,
   "metadata": {},
   "outputs": [],
   "source": []
  },
  {
   "cell_type": "code",
   "execution_count": null,
   "metadata": {},
   "outputs": [],
   "source": []
  }
 ],
 "metadata": {
  "kernelspec": {
   "display_name": "Python 3",
   "language": "python",
   "name": "python3"
  },
  "language_info": {
   "codemirror_mode": {
    "name": "ipython",
    "version": 3
   },
   "file_extension": ".py",
   "mimetype": "text/x-python",
   "name": "python",
   "nbconvert_exporter": "python",
   "pygments_lexer": "ipython3",
   "version": "3.6.7"
  }
 },
 "nbformat": 4,
 "nbformat_minor": 2
}
