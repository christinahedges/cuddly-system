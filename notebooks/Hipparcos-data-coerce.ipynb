{
 "cells": [
  {
   "cell_type": "code",
   "execution_count": null,
   "metadata": {},
   "outputs": [],
   "source": [
    "import os\n",
    "\n",
    "import astropy.coordinates as coord\n",
    "import astropy.table as at\n",
    "import astropy.units as u\n",
    "import matplotlib as mpl\n",
    "import matplotlib.pyplot as plt\n",
    "%matplotlib inline\n",
    "import numpy as np\n",
    "\n",
    "from pyia import GaiaData"
   ]
  },
  {
   "cell_type": "code",
   "execution_count": null,
   "metadata": {},
   "outputs": [],
   "source": [
    "hip = at.Table.read('/Users/apricewhelan/data/Hipparcos/hip2.fits')"
   ]
  },
  {
   "cell_type": "code",
   "execution_count": null,
   "metadata": {},
   "outputs": [],
   "source": [
    "xhip = at.Table.read('/Users/apricewhelan/data/Hipparcos/xhip.fits')\n",
    "xhip.meta = None"
   ]
  },
  {
   "cell_type": "code",
   "execution_count": null,
   "metadata": {},
   "outputs": [],
   "source": [
    "pulkovo = at.Table.read('/Users/apricewhelan/data/Hipparcos/Pulkovo.fits')\n",
    "pulkovo.meta = None\n",
    "pulkovo.remove_columns(['eRV', '_RA', '_DE', 'recno'])\n",
    "pulkovo['q_RV'] = 3"
   ]
  },
  {
   "cell_type": "code",
   "execution_count": null,
   "metadata": {},
   "outputs": [],
   "source": [
    "all_rv = at.vstack((xhip, pulkovo[~np.isin(pulkovo['HIP'], xhip['HIP'])]))\n",
    "hipall = at.join(hip, all_rv, keys='HIP', \n",
    "                 uniq_col_name='{col_name}{table_name}',\n",
    "                 table_names=['', '_2'],\n",
    "                 join_type='left')"
   ]
  },
  {
   "cell_type": "code",
   "execution_count": null,
   "metadata": {},
   "outputs": [],
   "source": [
    "len(hip), len(hipall)"
   ]
  },
  {
   "cell_type": "code",
   "execution_count": null,
   "metadata": {},
   "outputs": [],
   "source": [
    "(xhip['q_RV'] < 3).sum()"
   ]
  },
  {
   "cell_type": "code",
   "execution_count": null,
   "metadata": {},
   "outputs": [],
   "source": [
    "hip_like_gaia = at.Table()\n",
    "\n",
    "hip_like_gaia['source_id'] = hipall['HIP']\n",
    "hip_like_gaia['ra'] = hipall['RArad']\n",
    "hip_like_gaia['dec'] = hipall['DErad']\n",
    "hip_like_gaia['parallax'] = hipall['Plx']\n",
    "hip_like_gaia['pmra'] = hipall['pmRA']\n",
    "hip_like_gaia['pmdec'] = hipall['pmDE']\n",
    "\n",
    "hip_like_gaia['radial_velocity'] = hipall['RV']\n",
    "bad_rv = (hipall['q_RV'] >= 3) | (hipall['e_RV'] < 0.1)\n",
    "hip_like_gaia['radial_velocity'][bad_rv] = np.nan\n",
    "\n",
    "hip_like_gaia['ra_error'] = hipall['e_RArad']\n",
    "hip_like_gaia['dec_error'] = hipall['e_DErad']\n",
    "hip_like_gaia['parallax_error'] = hipall['e_Plx']\n",
    "hip_like_gaia['pmra_error'] = hipall['e_pmRA']\n",
    "hip_like_gaia['pmdec_error'] = hipall['e_pmDE']\n",
    "hip_like_gaia['radial_velocity_error'] = hipall['e_RV']\n",
    "hip_like_gaia['radial_velocity_error'][bad_rv] = np.inf\n",
    "\n",
    "for i, name1 in enumerate(['ra', 'dec', 'parallax', 'pmra', 'pmdec']):\n",
    "    for j, name2 in enumerate(['ra', 'dec', 'parallax', 'pmra', 'pmdec']):\n",
    "        if i >= j: continue\n",
    "        hip_like_gaia[f\"{name1}_{name2}_corr\"] = 0."
   ]
  },
  {
   "cell_type": "code",
   "execution_count": null,
   "metadata": {},
   "outputs": [],
   "source": [
    "hip_like_gaia.write('../data/hip_like_gaia.fits', overwrite=True)"
   ]
  },
  {
   "cell_type": "code",
   "execution_count": null,
   "metadata": {},
   "outputs": [],
   "source": []
  }
 ],
 "metadata": {
  "kernelspec": {
   "display_name": "Python [conda env:root] *",
   "language": "python",
   "name": "conda-root-py"
  },
  "language_info": {
   "codemirror_mode": {
    "name": "ipython",
    "version": 3
   },
   "file_extension": ".py",
   "mimetype": "text/x-python",
   "name": "python",
   "nbconvert_exporter": "python",
   "pygments_lexer": "ipython3",
   "version": "3.7.7"
  },
  "toc": {
   "base_numbering": 1,
   "nav_menu": {},
   "number_sections": true,
   "sideBar": true,
   "skip_h1_title": false,
   "title_cell": "Table of Contents",
   "title_sidebar": "Contents",
   "toc_cell": false,
   "toc_position": {},
   "toc_section_display": true,
   "toc_window_display": false
  }
 },
 "nbformat": 4,
 "nbformat_minor": 4
}
